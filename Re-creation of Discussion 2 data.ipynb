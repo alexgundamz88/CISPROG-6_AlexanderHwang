{
 "cells": [
  {
   "cell_type": "code",
   "execution_count": 1,
   "id": "076d70c5",
   "metadata": {},
   "outputs": [],
   "source": [
    "from datascience import Table\n",
    "import numpy as np\n",
    "%matplotlib inline\n",
    "\n",
    "name = ['Rita','Natalie','Prasann','Ashwin','Haru','Wendy','Jackie','Vivrd',\n",
    "        'Olivia','Vishnu','Peter','Kyle','Jessie','Oscar','Yanay','Eddie',\n",
    "        'Katherine','Mei','Rohan','Noah','Sarah','Grace','Ellen']\n",
    "\n",
    "year = [4,4,3,2,3,3,4,2,4,4,2,3,4,3,4,3,4,3,3,2,3,4,4]\n",
    "\n",
    "semester = [7,7,3,3,3,3,7,3,4,3,2,3,5,3,9,4,10,2,2,2,2,3,5]\n",
    "\n",
    "staff = Table().with_columns('Name', name, 'Year', year, 'Semesters on Staff', semester)"
   ]
  },
  {
   "cell_type": "code",
   "execution_count": 2,
   "id": "3750121c",
   "metadata": {},
   "outputs": [
    {
     "data": {
      "text/html": [
       "<table border=\"1\" class=\"dataframe\">\n",
       "    <thead>\n",
       "        <tr>\n",
       "            <th>Name</th> <th>Year</th> <th>Semesters on Staff</th>\n",
       "        </tr>\n",
       "    </thead>\n",
       "    <tbody>\n",
       "        <tr>\n",
       "            <td>Rita     </td> <td>4   </td> <td>7                 </td>\n",
       "        </tr>\n",
       "        <tr>\n",
       "            <td>Natalie  </td> <td>4   </td> <td>7                 </td>\n",
       "        </tr>\n",
       "        <tr>\n",
       "            <td>Prasann  </td> <td>3   </td> <td>3                 </td>\n",
       "        </tr>\n",
       "        <tr>\n",
       "            <td>Ashwin   </td> <td>2   </td> <td>3                 </td>\n",
       "        </tr>\n",
       "        <tr>\n",
       "            <td>Haru     </td> <td>3   </td> <td>3                 </td>\n",
       "        </tr>\n",
       "        <tr>\n",
       "            <td>Wendy    </td> <td>3   </td> <td>3                 </td>\n",
       "        </tr>\n",
       "        <tr>\n",
       "            <td>Jackie   </td> <td>4   </td> <td>7                 </td>\n",
       "        </tr>\n",
       "        <tr>\n",
       "            <td>Vivrd    </td> <td>2   </td> <td>3                 </td>\n",
       "        </tr>\n",
       "        <tr>\n",
       "            <td>Olivia   </td> <td>4   </td> <td>4                 </td>\n",
       "        </tr>\n",
       "        <tr>\n",
       "            <td>Vishnu   </td> <td>4   </td> <td>3                 </td>\n",
       "        </tr>\n",
       "        <tr>\n",
       "            <td>Peter    </td> <td>2   </td> <td>2                 </td>\n",
       "        </tr>\n",
       "        <tr>\n",
       "            <td>Kyle     </td> <td>3   </td> <td>3                 </td>\n",
       "        </tr>\n",
       "        <tr>\n",
       "            <td>Jessie   </td> <td>4   </td> <td>5                 </td>\n",
       "        </tr>\n",
       "        <tr>\n",
       "            <td>Oscar    </td> <td>3   </td> <td>3                 </td>\n",
       "        </tr>\n",
       "        <tr>\n",
       "            <td>Yanay    </td> <td>4   </td> <td>9                 </td>\n",
       "        </tr>\n",
       "        <tr>\n",
       "            <td>Eddie    </td> <td>3   </td> <td>4                 </td>\n",
       "        </tr>\n",
       "        <tr>\n",
       "            <td>Katherine</td> <td>4   </td> <td>10                </td>\n",
       "        </tr>\n",
       "        <tr>\n",
       "            <td>Mei      </td> <td>3   </td> <td>2                 </td>\n",
       "        </tr>\n",
       "        <tr>\n",
       "            <td>Rohan    </td> <td>3   </td> <td>2                 </td>\n",
       "        </tr>\n",
       "        <tr>\n",
       "            <td>Noah     </td> <td>2   </td> <td>2                 </td>\n",
       "        </tr>\n",
       "        <tr>\n",
       "            <td>Sarah    </td> <td>3   </td> <td>2                 </td>\n",
       "        </tr>\n",
       "        <tr>\n",
       "            <td>Grace    </td> <td>4   </td> <td>3                 </td>\n",
       "        </tr>\n",
       "        <tr>\n",
       "            <td>Ellen    </td> <td>4   </td> <td>5                 </td>\n",
       "        </tr>\n",
       "    </tbody>\n",
       "</table>"
      ],
      "text/plain": [
       "<IPython.core.display.HTML object>"
      ]
     },
     "metadata": {},
     "output_type": "display_data"
    }
   ],
   "source": [
    "staff.show()"
   ]
  },
  {
   "cell_type": "code",
   "execution_count": 3,
   "id": "daf859d2",
   "metadata": {},
   "outputs": [
    {
     "data": {
      "text/html": [
       "<table border=\"1\" class=\"dataframe\">\n",
       "    <thead>\n",
       "        <tr>\n",
       "            <th>Year</th> <th>Semesters on Staff average</th>\n",
       "        </tr>\n",
       "    </thead>\n",
       "    <tbody>\n",
       "        <tr>\n",
       "            <td>2   </td> <td>2.5                       </td>\n",
       "        </tr>\n",
       "        <tr>\n",
       "            <td>3   </td> <td>2.77778                   </td>\n",
       "        </tr>\n",
       "        <tr>\n",
       "            <td>4   </td> <td>6                         </td>\n",
       "        </tr>\n",
       "    </tbody>\n",
       "</table>"
      ],
      "text/plain": [
       "Year | Semesters on Staff average\n",
       "2    | 2.5\n",
       "3    | 2.77778\n",
       "4    | 6"
      ]
     },
     "execution_count": 3,
     "metadata": {},
     "output_type": "execute_result"
    }
   ],
   "source": [
    "staff_average = staff.select('Year', 'Semesters on Staff')\n",
    "staff_average.group('Year', np.average)"
   ]
  },
  {
   "cell_type": "code",
   "execution_count": 4,
   "id": "1f48125e",
   "metadata": {},
   "outputs": [
    {
     "data": {
      "text/html": [
       "<table border=\"1\" class=\"dataframe\">\n",
       "    <thead>\n",
       "        <tr>\n",
       "            <th>Name</th> <th>Year</th>\n",
       "        </tr>\n",
       "    </thead>\n",
       "    <tbody>\n",
       "        <tr>\n",
       "            <td>Ashwin</td> <td>Sophomore</td>\n",
       "        </tr>\n",
       "        <tr>\n",
       "            <td>Vivrd </td> <td>Sophomore</td>\n",
       "        </tr>\n",
       "        <tr>\n",
       "            <td>Peter </td> <td>Sophomore</td>\n",
       "        </tr>\n",
       "        <tr>\n",
       "            <td>Noah  </td> <td>Sophomore</td>\n",
       "        </tr>\n",
       "    </tbody>\n",
       "</table>"
      ],
      "text/plain": [
       "<IPython.core.display.HTML object>"
      ]
     },
     "metadata": {},
     "output_type": "display_data"
    }
   ],
   "source": [
    "staff_sophomore = staff.select('Name', 'Year')\n",
    "staff_sophomore = staff_sophomore.sort('Year')\n",
    "staff_sophomore = staff_sophomore.take[:4]\n",
    "\n",
    "year_name = staff_sophomore.column('Year')\n",
    "year_name = [str(x) for x in year_name]\n",
    "    \n",
    "for i in range(len(year_name)):\n",
    "    year_name[i] = 'Sophomore'\n",
    "\n",
    "staff_sophomore = staff_sophomore.select(\"Name\")\n",
    "staff_sophomore = staff_sophomore.with_column('Year', year_name)\n",
    "\n",
    "staff_sophomore.show()"
   ]
  },
  {
   "cell_type": "code",
   "execution_count": 5,
   "id": "8fb0298e",
   "metadata": {},
   "outputs": [
    {
     "data": {
      "image/png": "[encoded data removed]",
      "text/plain": [
       "<Figure size 360x360 with 1 Axes>"
      ]
     },
     "metadata": {
      "needs_background": "light"
     },
     "output_type": "display_data"
    }
   ],
   "source": [
    "staff.scatter('Year', 'Semesters on Staff')"
   ]
  },
  {
   "cell_type": "code",
   "execution_count": 7,
   "id": "efdde5fd",
   "metadata": {},
   "outputs": [
    {
     "data": {
      "text/html": [
       "<table border=\"1\" class=\"dataframe\">\n",
       "    <thead>\n",
       "        <tr>\n",
       "            <th>Semesters on Staff</th> <th>2</th> <th>3</th> <th>4</th>\n",
       "        </tr>\n",
       "    </thead>\n",
       "    <tbody>\n",
       "        <tr>\n",
       "            <td>2                 </td> <td>2   </td> <td>3   </td> <td>0   </td>\n",
       "        </tr>\n",
       "        <tr>\n",
       "            <td>3                 </td> <td>2   </td> <td>5   </td> <td>2   </td>\n",
       "        </tr>\n",
       "        <tr>\n",
       "            <td>4                 </td> <td>0   </td> <td>1   </td> <td>1   </td>\n",
       "        </tr>\n",
       "        <tr>\n",
       "            <td>5                 </td> <td>0   </td> <td>0   </td> <td>2   </td>\n",
       "        </tr>\n",
       "        <tr>\n",
       "            <td>7                 </td> <td>0   </td> <td>0   </td> <td>3   </td>\n",
       "        </tr>\n",
       "        <tr>\n",
       "            <td>9                 </td> <td>0   </td> <td>0   </td> <td>1   </td>\n",
       "        </tr>\n",
       "        <tr>\n",
       "            <td>10                </td> <td>0   </td> <td>0   </td> <td>1   </td>\n",
       "        </tr>\n",
       "    </tbody>\n",
       "</table>"
      ],
      "text/plain": [
       "Semesters on Staff | 2    | 3    | 4\n",
       "2                  | 2    | 3    | 0\n",
       "3                  | 2    | 5    | 2\n",
       "4                  | 0    | 1    | 1\n",
       "5                  | 0    | 0    | 2\n",
       "7                  | 0    | 0    | 3\n",
       "9                  | 0    | 0    | 1\n",
       "10                 | 0    | 0    | 1"
      ]
     },
     "execution_count": 7,
     "metadata": {},
     "output_type": "execute_result"
    }
   ],
   "source": [
    "staff.pivot('Year', 'Semesters on Staff')"
   ]
  },
  {
   "cell_type": "code",
   "execution_count": null,
   "id": "ce219d9e",
   "metadata": {},
   "outputs": [],
   "source": []
  },
  {
   "cell_type": "code",
   "execution_count": null,
   "id": "6081f6cf",
   "metadata": {},
   "outputs": [],
   "source": []
  }
 ],
 "metadata": {
  "kernelspec": {
   "display_name": "Python 3 (ipykernel)",
   "language": "python",
   "name": "python3"
  },
  "language_info": {
   "codemirror_mode": {
    "name": "ipython",
    "version": 3
   },
   "file_extension": ".py",
   "mimetype": "text/x-python",
   "name": "python",
   "nbconvert_exporter": "python",
   "pygments_lexer": "ipython3",
   "version": "3.7.6"
  }
 },
 "nbformat": 4,
 "nbformat_minor": 5
}
