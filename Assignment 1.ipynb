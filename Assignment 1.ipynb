{
 "cells": [
  {
   "cell_type": "code",
   "execution_count": 1,
   "id": "332fd9bc",
   "metadata": {},
   "outputs": [],
   "source": [
    "# print(\"I'm a code cell\")"
   ]
  },
  {
   "cell_type": "code",
   "execution_count": 2,
   "id": "b20bcac3",
   "metadata": {},
   "outputs": [
    {
     "name": "stdout",
     "output_type": "stream",
     "text": [
      "Hi\n"
     ]
    }
   ],
   "source": [
    "print(\"Hi\")"
   ]
  },
  {
   "cell_type": "code",
   "execution_count": 3,
   "id": "1cff4462",
   "metadata": {},
   "outputs": [],
   "source": [
    "?"
   ]
  },
  {
   "cell_type": "code",
   "execution_count": 4,
   "id": "bb031926",
   "metadata": {},
   "outputs": [],
   "source": [
    "import collections\n",
    "collections.namedtuple?"
   ]
  },
  {
   "cell_type": "code",
   "execution_count": 5,
   "id": "2587d332",
   "metadata": {},
   "outputs": [],
   "source": [
    "collections.Counter??"
   ]
  },
  {
   "cell_type": "code",
   "execution_count": 6,
   "id": "5f6a11fe",
   "metadata": {},
   "outputs": [],
   "source": [
    "*int*?"
   ]
  },
  {
   "cell_type": "code",
   "execution_count": 7,
   "id": "b46074d8",
   "metadata": {},
   "outputs": [],
   "source": [
    "%quickref"
   ]
  },
  {
   "cell_type": "code",
   "execution_count": 8,
   "id": "98be96ce",
   "metadata": {},
   "outputs": [
    {
     "ename": "SyntaxError",
     "evalue": "invalid syntax (Temp/ipykernel_7344/3077608623.py, line 1)",
     "output_type": "error",
     "traceback": [
      "\u001b[1;36m  File \u001b[1;32m\"C:\\Users\\RENGE~1.TSU\\AppData\\Local\\Temp/ipykernel_7344/3077608623.py\"\u001b[1;36m, line \u001b[1;32m1\u001b[0m\n\u001b[1;33m    collections.<TAB>\u001b[0m\n\u001b[1;37m                ^\u001b[0m\n\u001b[1;31mSyntaxError\u001b[0m\u001b[1;31m:\u001b[0m invalid syntax\n"
     ]
    }
   ],
   "source": [
    "collections.<TAB>"
   ]
  },
  {
   "cell_type": "code",
   "execution_count": 9,
   "id": "31a18eb0",
   "metadata": {},
   "outputs": [
    {
     "data": {
      "text/plain": [
       "12"
      ]
     },
     "execution_count": 9,
     "metadata": {},
     "output_type": "execute_result"
    }
   ],
   "source": [
    "2+10"
   ]
  },
  {
   "cell_type": "code",
   "execution_count": 10,
   "id": "78080e24",
   "metadata": {},
   "outputs": [
    {
     "data": {
      "text/plain": [
       "22"
      ]
     },
     "execution_count": 10,
     "metadata": {},
     "output_type": "execute_result"
    }
   ],
   "source": [
    "_+10"
   ]
  },
  {
   "cell_type": "code",
   "execution_count": 11,
   "id": "0ffc1540",
   "metadata": {},
   "outputs": [],
   "source": [
    "10+20;"
   ]
  },
  {
   "cell_type": "code",
   "execution_count": 12,
   "id": "30111cae",
   "metadata": {},
   "outputs": [
    {
     "data": {
      "text/plain": [
       "22"
      ]
     },
     "execution_count": 12,
     "metadata": {},
     "output_type": "execute_result"
    }
   ],
   "source": [
    "_"
   ]
  },
  {
   "cell_type": "code",
   "execution_count": 13,
   "id": "d5212710",
   "metadata": {},
   "outputs": [
    {
     "data": {
      "text/plain": [
       "True"
      ]
     },
     "execution_count": 13,
     "metadata": {},
     "output_type": "execute_result"
    }
   ],
   "source": [
    "_12 == Out[12]"
   ]
  },
  {
   "cell_type": "code",
   "execution_count": 14,
   "id": "4dea96b4",
   "metadata": {},
   "outputs": [
    {
     "data": {
      "text/plain": [
       "'_12 == Out[12]'"
      ]
     },
     "execution_count": 14,
     "metadata": {},
     "output_type": "execute_result"
    }
   ],
   "source": [
    "In[13]"
   ]
  },
  {
   "cell_type": "code",
   "execution_count": 15,
   "id": "e63139e6",
   "metadata": {},
   "outputs": [
    {
     "data": {
      "text/plain": [
       "'In[13]'"
      ]
     },
     "execution_count": 15,
     "metadata": {},
     "output_type": "execute_result"
    }
   ],
   "source": [
    "_i"
   ]
  },
  {
   "cell_type": "code",
   "execution_count": 16,
   "id": "51952f52",
   "metadata": {},
   "outputs": [
    {
     "name": "stdout",
     "output_type": "stream",
     "text": [
      "   1: # print(\"I'm a code cell\")\n",
      "   2: print(\"Hi\")\n",
      "   3: ?\n",
      "   4:\n",
      "import collections\n",
      "collections.namedtuple?\n",
      "   5: collections.Counter??\n",
      "   6: *int*?\n",
      "   7: %quickref\n",
      "   8: collections.<TAB>\n",
      "   9: 2+10\n",
      "  10: _+10\n"
     ]
    }
   ],
   "source": [
    "%history -n 1-10"
   ]
  },
  {
   "cell_type": "code",
   "execution_count": 17,
   "id": "3516cee3",
   "metadata": {},
   "outputs": [
    {
     "name": "stdout",
     "output_type": "stream",
     "text": [
      "File 'log.py' exists. Overwrite? \n",
      "File 'log.py' exists. Overwrite? \n",
      "File 'log.py' exists. Overwrite? \n",
      "File 'log.py' exists. Overwrite? \n",
      "File 'log.py' exists. Overwrite? \n",
      "File 'log.py' exists. Overwrite? \n",
      "File 'log.py' exists. Overwrite? \n",
      "File 'log.py' exists. Overwrite? \n",
      "File 'log.py' exists. Overwrite? \n",
      "File 'log.py' exists. Overwrite? \n",
      "File 'log.py' exists. Overwrite? \n",
      "File 'log.py' exists. Overwrite? \n",
      "File 'log.py' exists. Overwrite? \n",
      "File 'log.py' exists. Overwrite? \n",
      "File 'log.py' exists. Overwrite? \n",
      "File 'log.py' exists. Overwrite? \n",
      "File 'log.py' exists. Overwrite? \n",
      "File 'log.py' exists. Overwrite? \n",
      "File 'log.py' exists. Overwrite? \n",
      "File 'log.py' exists. Overwrite? \n",
      "File 'log.py' exists. Overwrite? \n",
      "File 'log.py' exists. Overwrite? \n",
      "File 'log.py' exists. Overwrite? \n",
      "File 'log.py' exists. Overwrite? \n",
      "File 'log.py' exists. Overwrite? \n",
      "File 'log.py' exists. Overwrite? \n",
      "File 'log.py' exists. Overwrite? \n",
      "File 'log.py' exists. Overwrite? \n",
      "File 'log.py' exists. Overwrite? \n",
      "File 'log.py' exists. Overwrite? \n",
      "File 'log.py' exists. Overwrite? \n",
      "File 'log.py' exists. Overwrite? \n",
      "File 'log.py' exists. Overwrite? \n",
      "File 'log.py' exists. Overwrite? \n",
      "File 'log.py' exists. Overwrite? \n",
      "File 'log.py' exists. Overwrite? \n",
      "File 'log.py' exists. Overwrite? \n",
      "File 'log.py' exists. Overwrite? \n",
      "File 'log.py' exists. Overwrite? \n",
      "File 'log.py' exists. Overwrite? \n",
      "File 'log.py' exists. Overwrite? \n",
      "File 'log.py' exists. Overwrite? \n",
      "File 'log.py' exists. Overwrite? \n",
      "File 'log.py' exists. Overwrite? yes\n",
      "Overwriting file.\n"
     ]
    }
   ],
   "source": [
    "%history -n 1-10 -f log.py"
   ]
  },
  {
   "cell_type": "code",
   "execution_count": 18,
   "id": "f808edb6",
   "metadata": {},
   "outputs": [
    {
     "data": {
      "text/plain": [
       "'C:\\\\Assignment_1'"
      ]
     },
     "execution_count": 18,
     "metadata": {},
     "output_type": "execute_result"
    }
   ],
   "source": [
    "pwd"
   ]
  },
  {
   "cell_type": "code",
   "execution_count": 19,
   "id": "3052a1da",
   "metadata": {},
   "outputs": [
    {
     "name": "stdout",
     "output_type": "stream",
     "text": [
      "My current directory's files:\n",
      "[' Volume in drive C has no label.', ' Volume Serial Number is A0C1-2239', '', ' Directory of C:\\\\Assignment_1', '', '11/06/2021  05:08 PM    <DIR>          .', '11/06/2021  05:08 PM    <DIR>          ..', '11/06/2021  11:45 AM               120 .gitignore', '11/06/2021  03:24 PM    <DIR>          .ipynb_checkpoints', '11/06/2021  05:08 PM            31,208 Assignment 1.ipynb', '11/06/2021  03:19 PM                 0 Assignment 1.txt', '11/06/2021  11:45 AM    <DIR>          binder', '11/06/2021  11:45 AM    <DIR>          examples', '11/06/2021  11:45 AM    <DIR>          exercises', '11/06/2021  11:45 AM               715 fabfile.py', '11/06/2021  04:56 PM             2,921 Index.ipynb', '11/06/2021  11:45 AM            17,985 LICENSE', '11/06/2021  05:10 PM               223 log.py', '11/06/2021  04:10 PM                67 mod.py', '11/06/2021  11:45 AM               472 monitor.sh', '11/06/2021  11:45 AM             2,802 pycon-2015-abstract.md', '11/06/2021  11:45 AM             6,997 pycon-submission.md', '11/06/2021  11:45 AM             1,857 README.md', '11/06/2021  04:09 PM                72 test.txt', '11/06/2021  11:45 AM    <DIR>          tools', '11/06/2021  04:10 PM    <DIR>          __pycache__', '              13 File(s)         65,439 bytes', '               8 Dir(s)  62,985,908,224 bytes free']\n"
     ]
    }
   ],
   "source": [
    "files = !dir\n",
    "print(\"My current directory's files:\")\n",
    "print(files)"
   ]
  },
  {
   "cell_type": "code",
   "execution_count": 20,
   "id": "d0777244",
   "metadata": {},
   "outputs": [
    {
     "name": "stderr",
     "output_type": "stream",
     "text": [
      "The system cannot find the file specified.\n"
     ]
    }
   ],
   "source": [
    "!echo $files"
   ]
  },
  {
   "cell_type": "code",
   "execution_count": 21,
   "id": "446d9286",
   "metadata": {},
   "outputs": [
    {
     "name": "stdout",
     "output_type": "stream",
     "text": [
      " VOLUME IN DRIVE C HAS NO LABEL.\n"
     ]
    }
   ],
   "source": [
    "!echo {files[0].upper()}"
   ]
  },
  {
   "cell_type": "code",
   "execution_count": 22,
   "id": "7478e795",
   "metadata": {},
   "outputs": [
    {
     "name": "stdout",
     "output_type": "stream",
     "text": [
      "--\n",
      "--\n",
      "--\n",
      "--\n",
      "--\n",
      "--\n",
      "--\n",
      "--\n",
      "--\n",
      "09 - \"11/06/2021  05:08 PM            31,208 Assignment 1\"\n",
      "--\n",
      "--\n",
      "--\n",
      "--\n",
      "--\n",
      "15 - \"11/06/2021  04:56 PM             2,921 Index\"\n",
      "--\n",
      "--\n",
      "--\n",
      "--\n",
      "--\n",
      "--\n",
      "--\n",
      "--\n",
      "--\n",
      "--\n",
      "--\n",
      "--\n"
     ]
    }
   ],
   "source": [
    "import os\n",
    "for i,f in enumerate(files):\n",
    "    if f.endswith('ipynb'):\n",
    "        !echo {\"%02d\" % i} - \"{os.path.splitext(f)[0]}\"\n",
    "    else:\n",
    "        print('--')"
   ]
  },
  {
   "cell_type": "code",
   "execution_count": 23,
   "id": "e8614f9f",
   "metadata": {},
   "outputs": [],
   "source": [
    "%magic"
   ]
  },
  {
   "cell_type": "code",
   "execution_count": 24,
   "id": "06bc991e",
   "metadata": {},
   "outputs": [
    {
     "name": "stdout",
     "output_type": "stream",
     "text": [
      "11.1 µs ± 15.6 ns per loop (mean ± std. dev. of 7 runs, 100000 loops each)\n"
     ]
    }
   ],
   "source": [
    "%timeit list(range(1000))"
   ]
  },
  {
   "cell_type": "code",
   "execution_count": 25,
   "id": "935f155d",
   "metadata": {},
   "outputs": [
    {
     "name": "stdout",
     "output_type": "stream",
     "text": [
      "1.47 µs ± 4.07 ns per loop (mean ± std. dev. of 7 runs, 1000000 loops each)\n"
     ]
    }
   ],
   "source": [
    "%%timeit\n",
    "list(range(10))\n",
    "list(range(100))"
   ]
  },
  {
   "cell_type": "code",
   "execution_count": 26,
   "id": "7823f389",
   "metadata": {},
   "outputs": [
    {
     "name": "stdout",
     "output_type": "stream",
     "text": [
      "size: 100=1.03 µs ± 7.59 ns per loop (mean ± std. dev. of 7 runs, 1000000 loops each)\n",
      "size: 200=1.72 µs ± 96.5 ns per loop (mean ± std. dev. of 7 runs, 1000000 loops each)\n",
      "size: 300=2.57 µs ± 26.6 ns per loop (mean ± std. dev. of 7 runs, 100000 loops each)\n",
      "size: 400=3.76 µs ± 33.6 ns per loop (mean ± std. dev. of 7 runs, 100000 loops each)\n"
     ]
    }
   ],
   "source": [
    "for i in range(1,5):\n",
    "    size = i*100\n",
    "    print('size:', size, end='=')\n",
    "    %timeit list(range(size))"
   ]
  },
  {
   "cell_type": "code",
   "execution_count": 27,
   "id": "245803f1",
   "metadata": {},
   "outputs": [
    {
     "name": "stdout",
     "output_type": "stream",
     "text": [
      "Couldn't find program: 'bash'\n"
     ]
    }
   ],
   "source": [
    "%%bash\n",
    "echo \"My shell is:\" $SHELL\n",
    "echo \"My disk usage is:\"\n",
    "get-disk"
   ]
  },
  {
   "cell_type": "code",
   "execution_count": 28,
   "id": "f0452454",
   "metadata": {},
   "outputs": [
    {
     "name": "stdout",
     "output_type": "stream",
     "text": [
      "Overwriting test.txt\n"
     ]
    }
   ],
   "source": [
    "%%writefile test.txt\n",
    "This is a test file!\n",
    "It can contain anything I want...\n",
    "\n",
    "And more..."
   ]
  },
  {
   "cell_type": "code",
   "execution_count": 29,
   "id": "7319438e",
   "metadata": {},
   "outputs": [
    {
     "name": "stdout",
     "output_type": "stream",
     "text": [
      "This is a test file!\n",
      "It can contain anything I want...\n",
      "\n",
      "And more...\n"
     ]
    }
   ],
   "source": [
    "!type test.txt"
   ]
  },
  {
   "cell_type": "code",
   "execution_count": 30,
   "id": "affcefaf",
   "metadata": {},
   "outputs": [
    {
     "data": {
      "application/json": {
       "cell": {
        "!": "OSMagics",
        "HTML": "Other",
        "SVG": "Other",
        "bash": "Other",
        "capture": "ExecutionMagics",
        "cmd": "Other",
        "debug": "ExecutionMagics",
        "file": "Other",
        "html": "DisplayMagics",
        "javascript": "DisplayMagics",
        "js": "DisplayMagics",
        "latex": "DisplayMagics",
        "markdown": "DisplayMagics",
        "perl": "Other",
        "prun": "ExecutionMagics",
        "pypy": "Other",
        "python": "Other",
        "python2": "Other",
        "python3": "Other",
        "ruby": "Other",
        "script": "ScriptMagics",
        "sh": "Other",
        "svg": "DisplayMagics",
        "sx": "OSMagics",
        "system": "OSMagics",
        "time": "ExecutionMagics",
        "timeit": "ExecutionMagics",
        "writefile": "OSMagics"
       },
       "line": {
        "alias": "OSMagics",
        "alias_magic": "BasicMagics",
        "autoawait": "AsyncMagics",
        "autocall": "AutoMagics",
        "automagic": "AutoMagics",
        "autosave": "KernelMagics",
        "bookmark": "OSMagics",
        "cd": "OSMagics",
        "clear": "KernelMagics",
        "cls": "KernelMagics",
        "colors": "BasicMagics",
        "conda": "PackagingMagics",
        "config": "ConfigMagics",
        "connect_info": "KernelMagics",
        "copy": "Other",
        "ddir": "Other",
        "debug": "ExecutionMagics",
        "dhist": "OSMagics",
        "dirs": "OSMagics",
        "doctest_mode": "BasicMagics",
        "echo": "Other",
        "ed": "Other",
        "edit": "KernelMagics",
        "env": "OSMagics",
        "gui": "BasicMagics",
        "hist": "Other",
        "history": "HistoryMagics",
        "killbgscripts": "ScriptMagics",
        "ldir": "Other",
        "less": "KernelMagics",
        "load": "CodeMagics",
        "load_ext": "ExtensionMagics",
        "loadpy": "CodeMagics",
        "logoff": "LoggingMagics",
        "logon": "LoggingMagics",
        "logstart": "LoggingMagics",
        "logstate": "LoggingMagics",
        "logstop": "LoggingMagics",
        "ls": "Other",
        "lsmagic": "BasicMagics",
        "macro": "ExecutionMagics",
        "magic": "BasicMagics",
        "matplotlib": "PylabMagics",
        "mkdir": "Other",
        "more": "KernelMagics",
        "notebook": "BasicMagics",
        "page": "BasicMagics",
        "pastebin": "CodeMagics",
        "pdb": "ExecutionMagics",
        "pdef": "NamespaceMagics",
        "pdoc": "NamespaceMagics",
        "pfile": "NamespaceMagics",
        "pinfo": "NamespaceMagics",
        "pinfo2": "NamespaceMagics",
        "pip": "PackagingMagics",
        "popd": "OSMagics",
        "pprint": "BasicMagics",
        "precision": "BasicMagics",
        "prun": "ExecutionMagics",
        "psearch": "NamespaceMagics",
        "psource": "NamespaceMagics",
        "pushd": "OSMagics",
        "pwd": "OSMagics",
        "pycat": "OSMagics",
        "pylab": "PylabMagics",
        "qtconsole": "KernelMagics",
        "quickref": "BasicMagics",
        "recall": "HistoryMagics",
        "rehashx": "OSMagics",
        "reload_ext": "ExtensionMagics",
        "ren": "Other",
        "rep": "Other",
        "rerun": "HistoryMagics",
        "reset": "NamespaceMagics",
        "reset_selective": "NamespaceMagics",
        "rmdir": "Other",
        "run": "ExecutionMagics",
        "save": "CodeMagics",
        "sc": "OSMagics",
        "set_env": "OSMagics",
        "store": "StoreMagics",
        "sx": "OSMagics",
        "system": "OSMagics",
        "tb": "ExecutionMagics",
        "time": "ExecutionMagics",
        "timeit": "ExecutionMagics",
        "unalias": "OSMagics",
        "unload_ext": "ExtensionMagics",
        "who": "NamespaceMagics",
        "who_ls": "NamespaceMagics",
        "whos": "NamespaceMagics",
        "xdel": "NamespaceMagics",
        "xmode": "BasicMagics"
       }
      },
      "text/plain": [
       "Available line magics:\n",
       "%alias  %alias_magic  %autoawait  %autocall  %automagic  %autosave  %bookmark  %cd  %clear  %cls  %colors  %conda  %config  %connect_info  %copy  %ddir  %debug  %dhist  %dirs  %doctest_mode  %echo  %ed  %edit  %env  %gui  %hist  %history  %killbgscripts  %ldir  %less  %load  %load_ext  %loadpy  %logoff  %logon  %logstart  %logstate  %logstop  %ls  %lsmagic  %macro  %magic  %matplotlib  %mkdir  %more  %notebook  %page  %pastebin  %pdb  %pdef  %pdoc  %pfile  %pinfo  %pinfo2  %pip  %popd  %pprint  %precision  %prun  %psearch  %psource  %pushd  %pwd  %pycat  %pylab  %qtconsole  %quickref  %recall  %rehashx  %reload_ext  %ren  %rep  %rerun  %reset  %reset_selective  %rmdir  %run  %save  %sc  %set_env  %store  %sx  %system  %tb  %time  %timeit  %unalias  %unload_ext  %who  %who_ls  %whos  %xdel  %xmode\n",
       "\n",
       "Available cell magics:\n",
       "%%!  %%HTML  %%SVG  %%bash  %%capture  %%cmd  %%debug  %%file  %%html  %%javascript  %%js  %%latex  %%markdown  %%perl  %%prun  %%pypy  %%python  %%python2  %%python3  %%ruby  %%script  %%sh  %%svg  %%sx  %%system  %%time  %%timeit  %%writefile\n",
       "\n",
       "Automagic is ON, % prefix IS NOT needed for line magics."
      ]
     },
     "execution_count": 30,
     "metadata": {},
     "output_type": "execute_result"
    }
   ],
   "source": [
    "%lsmagic"
   ]
  },
  {
   "cell_type": "code",
   "execution_count": 31,
   "id": "0294c435",
   "metadata": {},
   "outputs": [
    {
     "name": "stdout",
     "output_type": "stream",
     "text": [
      "1\n",
      "1\n",
      "2\n",
      "3\n",
      "5\n",
      "8\n"
     ]
    }
   ],
   "source": [
    ">>> # Fibonacci series:\n",
    "... # the sum of two elements defines the next\n",
    "... a, b = 0, 1\n",
    ">>> while b < 10:\n",
    "...     print(b)\n",
    "...     a, b = b, a+b"
   ]
  },
  {
   "cell_type": "code",
   "execution_count": 32,
   "id": "92843dd9",
   "metadata": {},
   "outputs": [
    {
     "name": "stdout",
     "output_type": "stream",
     "text": [
      "0 1 2 3 4 5 6 7 8 9 "
     ]
    }
   ],
   "source": [
    "In [1]: for i in range(10):\n",
    "   ...:     print(i, end=' ')\n",
    "   ...: "
   ]
  },
  {
   "cell_type": "code",
   "execution_count": 33,
   "id": "6dd6d85c",
   "metadata": {},
   "outputs": [
    {
     "name": "stdout",
     "output_type": "stream",
     "text": [
      "Overwriting mod.py\n"
     ]
    }
   ],
   "source": [
    "%%writefile mod.py\n",
    "\n",
    "def f(x):\n",
    "    return 1.0/(x-1)\n",
    "\n",
    "def g(y):\n",
    "    return f(y+1)"
   ]
  },
  {
   "cell_type": "code",
   "execution_count": 34,
   "id": "6412419d",
   "metadata": {},
   "outputs": [
    {
     "ename": "ZeroDivisionError",
     "evalue": "float division by zero",
     "output_type": "error",
     "traceback": [
      "\u001b[1;31m---------------------------------------------------------------------------\u001b[0m",
      "\u001b[1;31mZeroDivisionError\u001b[0m                         Traceback (most recent call last)",
      "\u001b[1;32mC:\\Users\\RENGE~1.TSU\\AppData\\Local\\Temp/ipykernel_7344/434918578.py\u001b[0m in \u001b[0;36m<module>\u001b[1;34m\u001b[0m\n\u001b[0;32m      1\u001b[0m \u001b[1;32mimport\u001b[0m \u001b[0mmod\u001b[0m\u001b[1;33m\u001b[0m\u001b[1;33m\u001b[0m\u001b[0m\n\u001b[1;32m----> 2\u001b[1;33m \u001b[0mmod\u001b[0m\u001b[1;33m.\u001b[0m\u001b[0mg\u001b[0m\u001b[1;33m(\u001b[0m\u001b[1;36m0\u001b[0m\u001b[1;33m)\u001b[0m\u001b[1;33m\u001b[0m\u001b[1;33m\u001b[0m\u001b[0m\n\u001b[0m",
      "\u001b[1;32mC:\\Assignment_1\\mod.py\u001b[0m in \u001b[0;36mg\u001b[1;34m(y)\u001b[0m\n\u001b[0;32m      4\u001b[0m \u001b[1;33m\u001b[0m\u001b[0m\n\u001b[0;32m      5\u001b[0m \u001b[1;32mdef\u001b[0m \u001b[0mg\u001b[0m\u001b[1;33m(\u001b[0m\u001b[0my\u001b[0m\u001b[1;33m)\u001b[0m\u001b[1;33m:\u001b[0m\u001b[1;33m\u001b[0m\u001b[1;33m\u001b[0m\u001b[0m\n\u001b[1;32m----> 6\u001b[1;33m     \u001b[1;32mreturn\u001b[0m \u001b[0mf\u001b[0m\u001b[1;33m(\u001b[0m\u001b[0my\u001b[0m\u001b[1;33m+\u001b[0m\u001b[1;36m1\u001b[0m\u001b[1;33m)\u001b[0m\u001b[1;33m\u001b[0m\u001b[1;33m\u001b[0m\u001b[0m\n\u001b[0m",
      "\u001b[1;32mC:\\Assignment_1\\mod.py\u001b[0m in \u001b[0;36mf\u001b[1;34m(x)\u001b[0m\n\u001b[0;32m      1\u001b[0m \u001b[1;33m\u001b[0m\u001b[0m\n\u001b[0;32m      2\u001b[0m \u001b[1;32mdef\u001b[0m \u001b[0mf\u001b[0m\u001b[1;33m(\u001b[0m\u001b[0mx\u001b[0m\u001b[1;33m)\u001b[0m\u001b[1;33m:\u001b[0m\u001b[1;33m\u001b[0m\u001b[1;33m\u001b[0m\u001b[0m\n\u001b[1;32m----> 3\u001b[1;33m     \u001b[1;32mreturn\u001b[0m \u001b[1;36m1.0\u001b[0m\u001b[1;33m/\u001b[0m\u001b[1;33m(\u001b[0m\u001b[0mx\u001b[0m\u001b[1;33m-\u001b[0m\u001b[1;36m1\u001b[0m\u001b[1;33m)\u001b[0m\u001b[1;33m\u001b[0m\u001b[1;33m\u001b[0m\u001b[0m\n\u001b[0m\u001b[0;32m      4\u001b[0m \u001b[1;33m\u001b[0m\u001b[0m\n\u001b[0;32m      5\u001b[0m \u001b[1;32mdef\u001b[0m \u001b[0mg\u001b[0m\u001b[1;33m(\u001b[0m\u001b[0my\u001b[0m\u001b[1;33m)\u001b[0m\u001b[1;33m:\u001b[0m\u001b[1;33m\u001b[0m\u001b[1;33m\u001b[0m\u001b[0m\n",
      "\u001b[1;31mZeroDivisionError\u001b[0m: float division by zero"
     ]
    }
   ],
   "source": [
    "import mod\n",
    "mod.g(0)"
   ]
  },
  {
   "cell_type": "code",
   "execution_count": 35,
   "id": "ff4ac7e8",
   "metadata": {},
   "outputs": [
    {
     "name": "stdout",
     "output_type": "stream",
     "text": [
      "Exception reporting mode: Plain\n"
     ]
    },
    {
     "ename": "ZeroDivisionError",
     "evalue": "float division by zero",
     "output_type": "error",
     "traceback": [
      "Traceback \u001b[1;36m(most recent call last)\u001b[0m:\n",
      "  File \u001b[0;32m\"C:\\Users\\RENGE~1.TSU\\AppData\\Local\\Temp/ipykernel_7344/3998503511.py\"\u001b[0m, line \u001b[0;32m2\u001b[0m, in \u001b[0;35m<module>\u001b[0m\n    mod.g(0)\n",
      "  File \u001b[0;32m\"C:\\Assignment_1\\mod.py\"\u001b[0m, line \u001b[0;32m6\u001b[0m, in \u001b[0;35mg\u001b[0m\n    return f(y+1)\n",
      "\u001b[1;36m  File \u001b[1;32m\"C:\\Assignment_1\\mod.py\"\u001b[1;36m, line \u001b[1;32m3\u001b[1;36m, in \u001b[1;35mf\u001b[1;36m\u001b[0m\n\u001b[1;33m    return 1.0/(x-1)\u001b[0m\n",
      "\u001b[1;31mZeroDivisionError\u001b[0m\u001b[1;31m:\u001b[0m float division by zero\n"
     ]
    }
   ],
   "source": [
    "%xmode plain\n",
    "mod.g(0)"
   ]
  },
  {
   "cell_type": "code",
   "execution_count": 36,
   "id": "aed8aacd",
   "metadata": {},
   "outputs": [
    {
     "name": "stdout",
     "output_type": "stream",
     "text": [
      "Exception reporting mode: Verbose\n"
     ]
    },
    {
     "ename": "ZeroDivisionError",
     "evalue": "float division by zero",
     "output_type": "error",
     "traceback": [
      "\u001b[1;31m---------------------------------------------------------------------------\u001b[0m",
      "\u001b[1;31mZeroDivisionError\u001b[0m                         Traceback (most recent call last)",
      "\u001b[1;32mC:\\Users\\RENGE~1.TSU\\AppData\\Local\\Temp/ipykernel_7344/2816820657.py\u001b[0m in \u001b[0;36m<module>\u001b[1;34m\u001b[0m\n\u001b[0;32m      1\u001b[0m \u001b[0mget_ipython\u001b[0m\u001b[1;33m(\u001b[0m\u001b[1;33m)\u001b[0m\u001b[1;33m.\u001b[0m\u001b[0mrun_line_magic\u001b[0m\u001b[1;33m(\u001b[0m\u001b[1;34m'xmode'\u001b[0m\u001b[1;33m,\u001b[0m \u001b[1;34m'verbose'\u001b[0m\u001b[1;33m)\u001b[0m\u001b[1;33m\u001b[0m\u001b[1;33m\u001b[0m\u001b[0m\n\u001b[1;32m----> 2\u001b[1;33m \u001b[0mmod\u001b[0m\u001b[1;33m.\u001b[0m\u001b[0mg\u001b[0m\u001b[1;33m(\u001b[0m\u001b[1;36m0\u001b[0m\u001b[1;33m)\u001b[0m\u001b[1;33m\u001b[0m\u001b[1;33m\u001b[0m\u001b[0m\n\u001b[0m        \u001b[1;36mglobal\u001b[0m \u001b[0;36mmod.g\u001b[0m \u001b[1;34m= <function g at 0x000002126D702EE8>\u001b[0m\n",
      "\u001b[1;32mC:\\Assignment_1\\mod.py\u001b[0m in \u001b[0;36mg\u001b[1;34m(y=0)\u001b[0m\n\u001b[0;32m      4\u001b[0m \u001b[1;33m\u001b[0m\u001b[0m\n\u001b[0;32m      5\u001b[0m \u001b[1;32mdef\u001b[0m \u001b[0mg\u001b[0m\u001b[1;33m(\u001b[0m\u001b[0my\u001b[0m\u001b[1;33m)\u001b[0m\u001b[1;33m:\u001b[0m\u001b[1;33m\u001b[0m\u001b[1;33m\u001b[0m\u001b[0m\n\u001b[1;32m----> 6\u001b[1;33m     \u001b[1;32mreturn\u001b[0m \u001b[0mf\u001b[0m\u001b[1;33m(\u001b[0m\u001b[0my\u001b[0m\u001b[1;33m+\u001b[0m\u001b[1;36m1\u001b[0m\u001b[1;33m)\u001b[0m\u001b[1;33m\u001b[0m\u001b[1;33m\u001b[0m\u001b[0m\n\u001b[0m        \u001b[1;36mglobal\u001b[0m \u001b[0;36mf\u001b[0m \u001b[1;34m= <function f at 0x000002126D66FF78>\u001b[0m\u001b[1;34m\n        \u001b[0m\u001b[0;36my\u001b[0m \u001b[1;34m= 0\u001b[0m\n",
      "\u001b[1;32mC:\\Assignment_1\\mod.py\u001b[0m in \u001b[0;36mf\u001b[1;34m(x=1)\u001b[0m\n\u001b[0;32m      1\u001b[0m \u001b[1;33m\u001b[0m\u001b[0m\n\u001b[0;32m      2\u001b[0m \u001b[1;32mdef\u001b[0m \u001b[0mf\u001b[0m\u001b[1;33m(\u001b[0m\u001b[0mx\u001b[0m\u001b[1;33m)\u001b[0m\u001b[1;33m:\u001b[0m\u001b[1;33m\u001b[0m\u001b[1;33m\u001b[0m\u001b[0m\n\u001b[1;32m----> 3\u001b[1;33m     \u001b[1;32mreturn\u001b[0m \u001b[1;36m1.0\u001b[0m\u001b[1;33m/\u001b[0m\u001b[1;33m(\u001b[0m\u001b[0mx\u001b[0m\u001b[1;33m-\u001b[0m\u001b[1;36m1\u001b[0m\u001b[1;33m)\u001b[0m\u001b[1;33m\u001b[0m\u001b[1;33m\u001b[0m\u001b[0m\n\u001b[0m        \u001b[0;36mx\u001b[0m \u001b[1;34m= 1\u001b[0m\n\u001b[0;32m      4\u001b[0m \u001b[1;33m\u001b[0m\u001b[0m\n\u001b[0;32m      5\u001b[0m \u001b[1;32mdef\u001b[0m \u001b[0mg\u001b[0m\u001b[1;33m(\u001b[0m\u001b[0my\u001b[0m\u001b[1;33m)\u001b[0m\u001b[1;33m:\u001b[0m\u001b[1;33m\u001b[0m\u001b[1;33m\u001b[0m\u001b[0m\n",
      "\u001b[1;31mZeroDivisionError\u001b[0m: float division by zero"
     ]
    }
   ],
   "source": [
    "%xmode verbose\n",
    "mod.g(0)"
   ]
  },
  {
   "cell_type": "code",
   "execution_count": 37,
   "id": "7b6d5a89",
   "metadata": {},
   "outputs": [
    {
     "name": "stdout",
     "output_type": "stream",
     "text": [
      "Exception reporting mode: Context\n"
     ]
    }
   ],
   "source": [
    "%xmode context"
   ]
  },
  {
   "cell_type": "code",
   "execution_count": 38,
   "id": "ff243b71",
   "metadata": {},
   "outputs": [
    {
     "name": "stdout",
     "output_type": "stream",
     "text": [
      "Couldn't find program: 'perl'\n"
     ]
    }
   ],
   "source": [
    "%%perl\n",
    "@months = (\"July\", \"August\", \"September\");\n",
    "print $months[0];"
   ]
  },
  {
   "cell_type": "code",
   "execution_count": 39,
   "id": "f712e3eb",
   "metadata": {},
   "outputs": [
    {
     "name": "stdout",
     "output_type": "stream",
     "text": [
      "Couldn't find program: 'ruby'\n"
     ]
    }
   ],
   "source": [
    "%%ruby\n",
    "name = \"world\"\n",
    "puts \"Hello #{name.capitalize}!\""
   ]
  },
  {
   "cell_type": "code",
   "execution_count": 40,
   "id": "ea6507ed",
   "metadata": {},
   "outputs": [
    {
     "ename": "ZeroDivisionError",
     "evalue": "float division by zero",
     "output_type": "error",
     "traceback": [
      "\u001b[1;31m---------------------------------------------------------------------------\u001b[0m",
      "\u001b[1;31mZeroDivisionError\u001b[0m                         Traceback (most recent call last)",
      "\u001b[1;32mC:\\Users\\RENGE~1.TSU\\AppData\\Local\\Temp/ipykernel_7344/4151852588.py\u001b[0m in \u001b[0;36m<module>\u001b[1;34m\u001b[0m\n\u001b[1;32m----> 1\u001b[1;33m \u001b[0mmod\u001b[0m\u001b[1;33m.\u001b[0m\u001b[0mg\u001b[0m\u001b[1;33m(\u001b[0m\u001b[1;36m0\u001b[0m\u001b[1;33m)\u001b[0m\u001b[1;33m\u001b[0m\u001b[1;33m\u001b[0m\u001b[0m\n\u001b[0m",
      "\u001b[1;32mC:\\Assignment_1\\mod.py\u001b[0m in \u001b[0;36mg\u001b[1;34m(y)\u001b[0m\n\u001b[0;32m      4\u001b[0m \u001b[1;33m\u001b[0m\u001b[0m\n\u001b[0;32m      5\u001b[0m \u001b[1;32mdef\u001b[0m \u001b[0mg\u001b[0m\u001b[1;33m(\u001b[0m\u001b[0my\u001b[0m\u001b[1;33m)\u001b[0m\u001b[1;33m:\u001b[0m\u001b[1;33m\u001b[0m\u001b[1;33m\u001b[0m\u001b[0m\n\u001b[1;32m----> 6\u001b[1;33m     \u001b[1;32mreturn\u001b[0m \u001b[0mf\u001b[0m\u001b[1;33m(\u001b[0m\u001b[0my\u001b[0m\u001b[1;33m+\u001b[0m\u001b[1;36m1\u001b[0m\u001b[1;33m)\u001b[0m\u001b[1;33m\u001b[0m\u001b[1;33m\u001b[0m\u001b[0m\n\u001b[0m",
      "\u001b[1;32mC:\\Assignment_1\\mod.py\u001b[0m in \u001b[0;36mf\u001b[1;34m(x)\u001b[0m\n\u001b[0;32m      1\u001b[0m \u001b[1;33m\u001b[0m\u001b[0m\n\u001b[0;32m      2\u001b[0m \u001b[1;32mdef\u001b[0m \u001b[0mf\u001b[0m\u001b[1;33m(\u001b[0m\u001b[0mx\u001b[0m\u001b[1;33m)\u001b[0m\u001b[1;33m:\u001b[0m\u001b[1;33m\u001b[0m\u001b[1;33m\u001b[0m\u001b[0m\n\u001b[1;32m----> 3\u001b[1;33m     \u001b[1;32mreturn\u001b[0m \u001b[1;36m1.0\u001b[0m\u001b[1;33m/\u001b[0m\u001b[1;33m(\u001b[0m\u001b[0mx\u001b[0m\u001b[1;33m-\u001b[0m\u001b[1;36m1\u001b[0m\u001b[1;33m)\u001b[0m\u001b[1;33m\u001b[0m\u001b[1;33m\u001b[0m\u001b[0m\n\u001b[0m\u001b[0;32m      4\u001b[0m \u001b[1;33m\u001b[0m\u001b[0m\n\u001b[0;32m      5\u001b[0m \u001b[1;32mdef\u001b[0m \u001b[0mg\u001b[0m\u001b[1;33m(\u001b[0m\u001b[0my\u001b[0m\u001b[1;33m)\u001b[0m\u001b[1;33m:\u001b[0m\u001b[1;33m\u001b[0m\u001b[1;33m\u001b[0m\u001b[0m\n",
      "\u001b[1;31mZeroDivisionError\u001b[0m: float division by zero"
     ]
    }
   ],
   "source": [
    "mod.g(0)"
   ]
  },
  {
   "cell_type": "code",
   "execution_count": 41,
   "id": "1a78d131",
   "metadata": {},
   "outputs": [
    {
     "name": "stdout",
     "output_type": "stream",
     "text": [
      "> \u001b[1;32mc:\\assignment_1\\mod.py\u001b[0m(3)\u001b[0;36mf\u001b[1;34m()\u001b[0m\n",
      "\u001b[1;32m      1 \u001b[1;33m\u001b[1;33m\u001b[0m\u001b[0m\n",
      "\u001b[0m\u001b[1;32m      2 \u001b[1;33m\u001b[1;32mdef\u001b[0m \u001b[0mf\u001b[0m\u001b[1;33m(\u001b[0m\u001b[0mx\u001b[0m\u001b[1;33m)\u001b[0m\u001b[1;33m:\u001b[0m\u001b[1;33m\u001b[0m\u001b[1;33m\u001b[0m\u001b[0m\n",
      "\u001b[0m\u001b[1;32m----> 3 \u001b[1;33m    \u001b[1;32mreturn\u001b[0m \u001b[1;36m1.0\u001b[0m\u001b[1;33m/\u001b[0m\u001b[1;33m(\u001b[0m\u001b[0mx\u001b[0m\u001b[1;33m-\u001b[0m\u001b[1;36m1\u001b[0m\u001b[1;33m)\u001b[0m\u001b[1;33m\u001b[0m\u001b[1;33m\u001b[0m\u001b[0m\n",
      "\u001b[0m\u001b[1;32m      4 \u001b[1;33m\u001b[1;33m\u001b[0m\u001b[0m\n",
      "\u001b[0m\u001b[1;32m      5 \u001b[1;33m\u001b[1;32mdef\u001b[0m \u001b[0mg\u001b[0m\u001b[1;33m(\u001b[0m\u001b[0my\u001b[0m\u001b[1;33m)\u001b[0m\u001b[1;33m:\u001b[0m\u001b[1;33m\u001b[0m\u001b[1;33m\u001b[0m\u001b[0m\n",
      "\u001b[0m\n",
      "ipdb> \n",
      "ipdb> up\n",
      "> \u001b[1;32mc:\\assignment_1\\mod.py\u001b[0m(6)\u001b[0;36mg\u001b[1;34m()\u001b[0m\n",
      "\u001b[1;32m      2 \u001b[1;33m\u001b[1;32mdef\u001b[0m \u001b[0mf\u001b[0m\u001b[1;33m(\u001b[0m\u001b[0mx\u001b[0m\u001b[1;33m)\u001b[0m\u001b[1;33m:\u001b[0m\u001b[1;33m\u001b[0m\u001b[1;33m\u001b[0m\u001b[0m\n",
      "\u001b[0m\u001b[1;32m      3 \u001b[1;33m    \u001b[1;32mreturn\u001b[0m \u001b[1;36m1.0\u001b[0m\u001b[1;33m/\u001b[0m\u001b[1;33m(\u001b[0m\u001b[0mx\u001b[0m\u001b[1;33m-\u001b[0m\u001b[1;36m1\u001b[0m\u001b[1;33m)\u001b[0m\u001b[1;33m\u001b[0m\u001b[1;33m\u001b[0m\u001b[0m\n",
      "\u001b[0m\u001b[1;32m      4 \u001b[1;33m\u001b[1;33m\u001b[0m\u001b[0m\n",
      "\u001b[0m\u001b[1;32m      5 \u001b[1;33m\u001b[1;32mdef\u001b[0m \u001b[0mg\u001b[0m\u001b[1;33m(\u001b[0m\u001b[0my\u001b[0m\u001b[1;33m)\u001b[0m\u001b[1;33m:\u001b[0m\u001b[1;33m\u001b[0m\u001b[1;33m\u001b[0m\u001b[0m\n",
      "\u001b[0m\u001b[1;32m----> 6 \u001b[1;33m    \u001b[1;32mreturn\u001b[0m \u001b[0mf\u001b[0m\u001b[1;33m(\u001b[0m\u001b[0my\u001b[0m\u001b[1;33m+\u001b[0m\u001b[1;36m1\u001b[0m\u001b[1;33m)\u001b[0m\u001b[1;33m\u001b[0m\u001b[1;33m\u001b[0m\u001b[0m\n",
      "\u001b[0m\n",
      "ipdb> down\n",
      "> \u001b[1;32mc:\\assignment_1\\mod.py\u001b[0m(3)\u001b[0;36mf\u001b[1;34m()\u001b[0m\n",
      "\u001b[1;32m      1 \u001b[1;33m\u001b[1;33m\u001b[0m\u001b[0m\n",
      "\u001b[0m\u001b[1;32m      2 \u001b[1;33m\u001b[1;32mdef\u001b[0m \u001b[0mf\u001b[0m\u001b[1;33m(\u001b[0m\u001b[0mx\u001b[0m\u001b[1;33m)\u001b[0m\u001b[1;33m:\u001b[0m\u001b[1;33m\u001b[0m\u001b[1;33m\u001b[0m\u001b[0m\n",
      "\u001b[0m\u001b[1;32m----> 3 \u001b[1;33m    \u001b[1;32mreturn\u001b[0m \u001b[1;36m1.0\u001b[0m\u001b[1;33m/\u001b[0m\u001b[1;33m(\u001b[0m\u001b[0mx\u001b[0m\u001b[1;33m-\u001b[0m\u001b[1;36m1\u001b[0m\u001b[1;33m)\u001b[0m\u001b[1;33m\u001b[0m\u001b[1;33m\u001b[0m\u001b[0m\n",
      "\u001b[0m\u001b[1;32m      4 \u001b[1;33m\u001b[1;33m\u001b[0m\u001b[0m\n",
      "\u001b[0m\u001b[1;32m      5 \u001b[1;33m\u001b[1;32mdef\u001b[0m \u001b[0mg\u001b[0m\u001b[1;33m(\u001b[0m\u001b[0my\u001b[0m\u001b[1;33m)\u001b[0m\u001b[1;33m:\u001b[0m\u001b[1;33m\u001b[0m\u001b[1;33m\u001b[0m\u001b[0m\n",
      "\u001b[0m\n",
      "ipdb> exit\n"
     ]
    }
   ],
   "source": [
    "%debug"
   ]
  },
  {
   "cell_type": "code",
   "execution_count": 42,
   "id": "7683089c",
   "metadata": {},
   "outputs": [
    {
     "name": "stdout",
     "output_type": "stream",
     "text": [
      "Are you enjoying this tutorial? \n",
      "enjoy is: \n"
     ]
    }
   ],
   "source": [
    "enjoy = input('Are you enjoying this tutorial? ')\n",
    "print('enjoy is:', enjoy)"
   ]
  },
  {
   "cell_type": "code",
   "execution_count": 43,
   "id": "e9b93f04",
   "metadata": {},
   "outputs": [],
   "source": [
    "%matplotlib inline"
   ]
  },
  {
   "cell_type": "code",
   "execution_count": 44,
   "id": "cacef4fa",
   "metadata": {},
   "outputs": [],
   "source": [
    "import numpy as np\n",
    "import matplotlib.pyplot as plt"
   ]
  },
  {
   "cell_type": "code",
   "execution_count": 45,
   "id": "57996169",
   "metadata": {},
   "outputs": [
    {
     "data": {
      "image/png": "[encoded data removed]",
      "text/plain": [
       "<Figure size 432x288 with 1 Axes>"
      ]
     },
     "metadata": {
      "needs_background": "light"
     },
     "output_type": "display_data"
    }
   ],
   "source": [
    "x = np.linspace(0, 2*np.pi, 300)\n",
    "y = np.sin(x**2)\n",
    "plt.plot(x, y)\n",
    "plt.title(\"A little chirp\")\n",
    "fig = plt.gcf()  # let's keep the figure object around for later..."
   ]
  },
  {
   "cell_type": "code",
   "execution_count": 46,
   "id": "7161c890",
   "metadata": {},
   "outputs": [
    {
     "name": "stdout",
     "output_type": "stream",
     "text": [
      "{\n",
      "  \"shell_port\": 50257,\n",
      "  \"iopub_port\": 50258,\n",
      "  \"stdin_port\": 50259,\n",
      "  \"control_port\": 50261,\n",
      "  \"hb_port\": 50260,\n",
      "  \"ip\": \"127.0.0.1\",\n",
      "  \"key\": \"8f39d146-4cd1d882ddbfc493987206c3\",\n",
      "  \"transport\": \"tcp\",\n",
      "  \"signature_scheme\": \"hmac-sha256\",\n",
      "  \"kernel_name\": \"\"\n",
      "}\n",
      "\n",
      "Paste the above JSON into a file, and connect with:\n",
      "    $> jupyter <app> --existing <file>\n",
      "or, if you are local, you can connect with just:\n",
      "    $> jupyter <app> --existing kernel-d69797cd-2674-4081-8e81-80309c29cad5.json\n",
      "or even just:\n",
      "    $> jupyter <app> --existing\n",
      "if this is the most recent Jupyter kernel you have started.\n"
     ]
    }
   ],
   "source": [
    "%connect_info"
   ]
  },
  {
   "cell_type": "code",
   "execution_count": 47,
   "id": "65884ad6",
   "metadata": {},
   "outputs": [],
   "source": [
    "%qtconsole"
   ]
  },
  {
   "cell_type": "code",
   "execution_count": 48,
   "id": "b59e1963",
   "metadata": {},
   "outputs": [],
   "source": [
    "from IPython.display import display"
   ]
  },
  {
   "cell_type": "code",
   "execution_count": 49,
   "id": "4f223b46",
   "metadata": {},
   "outputs": [],
   "source": [
    "from IPython.display import (\n",
    "    display_pretty, display_html, display_jpeg,\n",
    "    display_png, display_json, display_latex, display_svg\n",
    ")"
   ]
  },
  {
   "cell_type": "code",
   "execution_count": 50,
   "id": "129b9d55",
   "metadata": {},
   "outputs": [],
   "source": [
    "from IPython.display import Image"
   ]
  },
  {
   "cell_type": "code",
   "execution_count": 51,
   "id": "a9c76469",
   "metadata": {},
   "outputs": [],
   "source": [
    "i = Image(filename='examples/images/ipython_logo.png')"
   ]
  },
  {
   "cell_type": "code",
   "execution_count": 52,
   "id": "6be3424b",
   "metadata": {},
   "outputs": [
    {
     "data": {
      "image/png": "[encoded data removed]",
      "text/plain": [
       "<IPython.core.display.Image object>"
      ]
     },
     "execution_count": 52,
     "metadata": {},
     "output_type": "execute_result"
    }
   ],
   "source": [
    "i"
   ]
  },
  {
   "cell_type": "code",
   "execution_count": 53,
   "id": "1c85ce46",
   "metadata": {},
   "outputs": [
    {
     "data": {
      "image/png": "[encoded data removed]",
      "text/plain": [
       "<IPython.core.display.Image object>"
      ]
     },
     "metadata": {},
     "output_type": "display_data"
    }
   ],
   "source": [
    "display(i)"
   ]
  },
  {
   "cell_type": "code",
   "execution_count": 54,
   "id": "863767f6",
   "metadata": {},
   "outputs": [
    {
     "data": {
      "text/html": [
       "<img src=\"http://python.org/images/python-logo.gif\"/>"
      ],
      "text/plain": [
       "<IPython.core.display.Image object>"
      ]
     },
     "execution_count": 54,
     "metadata": {},
     "output_type": "execute_result"
    }
   ],
   "source": [
    "Image(url='http://python.org/images/python-logo.gif')"
   ]
  },
  {
   "cell_type": "code",
   "execution_count": 55,
   "id": "ab4ce946",
   "metadata": {},
   "outputs": [
    {
     "data": {
      "image/svg+xml": [
       "<svg height=\"115.02pt\" id=\"svg2\" inkscape:version=\"0.43\" sodipodi:docbase=\"/home/sdeibel\" sodipodi:docname=\"logo-python-generic.svg\" sodipodi:version=\"0.32\" version=\"1.0\" width=\"388.84pt\" xmlns=\"http://www.w3.org/2000/svg\" xmlns:cc=\"http://web.resource.org/cc/\" xmlns:dc=\"http://purl.org/dc/elements/1.1/\" xmlns:inkscape=\"http://www.inkscape.org/namespaces/inkscape\" xmlns:rdf=\"http://www.w3.org/1999/02/22-rdf-syntax-ns#\" xmlns:sodipodi=\"http://inkscape.sourceforge.net/DTD/sodipodi-0.dtd\" xmlns:svg=\"http://www.w3.org/2000/svg\" xmlns:xlink=\"http://www.w3.org/1999/xlink\">\n",
       "  <metadata id=\"metadata2193\">\n",
       "    <rdf:RDF>\n",
       "      <cc:Work rdf:about=\"\">\n",
       "        <dc:format>image/svg+xml</dc:format>\n",
       "        <dc:type rdf:resource=\"http://purl.org/dc/dcmitype/StillImage\"/>\n",
       "      </cc:Work>\n",
       "    </rdf:RDF>\n",
       "  </metadata>\n",
       "  <sodipodi:namedview bordercolor=\"#666666\" borderopacity=\"1.0\" id=\"base\" inkscape:current-layer=\"svg2\" inkscape:cx=\"243.02499\" inkscape:cy=\"71.887497\" inkscape:pageopacity=\"0.0\" inkscape:pageshadow=\"2\" inkscape:window-height=\"543\" inkscape:window-width=\"791\" inkscape:window-x=\"0\" inkscape:window-y=\"0\" inkscape:zoom=\"1.4340089\" pagecolor=\"#ffffff\"/>\n",
       "  <defs id=\"defs4\">\n",
       "    <linearGradient id=\"linearGradient2795\">\n",
       "      <stop id=\"stop2797\" offset=\"0\" style=\"stop-color:#b8b8b8;stop-opacity:0.49803922\"/>\n",
       "      <stop id=\"stop2799\" offset=\"1\" style=\"stop-color:#7f7f7f;stop-opacity:0\"/>\n",
       "    </linearGradient>\n",
       "    <linearGradient id=\"linearGradient2787\">\n",
       "      <stop id=\"stop2789\" offset=\"0\" style=\"stop-color:#7f7f7f;stop-opacity:0.5\"/>\n",
       "      <stop id=\"stop2791\" offset=\"1\" style=\"stop-color:#7f7f7f;stop-opacity:0\"/>\n",
       "    </linearGradient>\n",
       "    <linearGradient id=\"linearGradient3676\">\n",
       "      <stop id=\"stop3678\" offset=\"0\" style=\"stop-color:#b2b2b2;stop-opacity:0.5\"/>\n",
       "      <stop id=\"stop3680\" offset=\"1\" style=\"stop-color:#b3b3b3;stop-opacity:0\"/>\n",
       "    </linearGradient>\n",
       "    <linearGradient id=\"linearGradient3236\">\n",
       "      <stop id=\"stop3244\" offset=\"0\" style=\"stop-color:#f4f4f4;stop-opacity:1\"/>\n",
       "      <stop id=\"stop3240\" offset=\"1\" style=\"stop-color:#ffffff;stop-opacity:1\"/>\n",
       "    </linearGradient>\n",
       "    <linearGradient id=\"linearGradient4671\">\n",
       "      <stop id=\"stop4673\" offset=\"0\" style=\"stop-color:#ffd43b;stop-opacity:1\"/>\n",
       "      <stop id=\"stop4675\" offset=\"1\" style=\"stop-color:#ffe873;stop-opacity:1\"/>\n",
       "    </linearGradient>\n",
       "    <linearGradient id=\"linearGradient4689\">\n",
       "      <stop id=\"stop4691\" offset=\"0\" style=\"stop-color:#5a9fd4;stop-opacity:1\"/>\n",
       "      <stop id=\"stop4693\" offset=\"1\" style=\"stop-color:#306998;stop-opacity:1\"/>\n",
       "    </linearGradient>\n",
       "    <linearGradient gradientTransform=\"translate(100.2702,99.61116)\" gradientUnits=\"userSpaceOnUse\" id=\"linearGradient2987\" x1=\"224.23996\" x2=\"-65.308502\" xlink:href=\"#linearGradient4671\" y1=\"144.75717\" y2=\"144.75717\"/>\n",
       "    <linearGradient gradientTransform=\"translate(100.2702,99.61116)\" gradientUnits=\"userSpaceOnUse\" id=\"linearGradient2990\" x1=\"172.94208\" x2=\"26.670298\" xlink:href=\"#linearGradient4689\" y1=\"77.475983\" y2=\"76.313133\"/>\n",
       "    <linearGradient gradientTransform=\"translate(100.2702,99.61116)\" gradientUnits=\"userSpaceOnUse\" id=\"linearGradient2587\" x1=\"172.94208\" x2=\"26.670298\" xlink:href=\"#linearGradient4689\" y1=\"77.475983\" y2=\"76.313133\"/>\n",
       "    <linearGradient gradientTransform=\"translate(100.2702,99.61116)\" gradientUnits=\"userSpaceOnUse\" id=\"linearGradient2589\" x1=\"224.23996\" x2=\"-65.308502\" xlink:href=\"#linearGradient4671\" y1=\"144.75717\" y2=\"144.75717\"/>\n",
       "    <linearGradient gradientTransform=\"translate(100.2702,99.61116)\" gradientUnits=\"userSpaceOnUse\" id=\"linearGradient2248\" x1=\"172.94208\" x2=\"26.670298\" xlink:href=\"#linearGradient4689\" y1=\"77.475983\" y2=\"76.313133\"/>\n",
       "    <linearGradient gradientTransform=\"translate(100.2702,99.61116)\" gradientUnits=\"userSpaceOnUse\" id=\"linearGradient2250\" x1=\"224.23996\" x2=\"-65.308502\" xlink:href=\"#linearGradient4671\" y1=\"144.75717\" y2=\"144.75717\"/>\n",
       "    <linearGradient gradientTransform=\"matrix(0.562541,0,0,0.567972,-11.5974,-7.60954)\" gradientUnits=\"userSpaceOnUse\" id=\"linearGradient2255\" x1=\"224.23996\" x2=\"-65.308502\" xlink:href=\"#linearGradient4671\" y1=\"144.75717\" y2=\"144.75717\"/>\n",
       "    <linearGradient gradientTransform=\"matrix(0.562541,0,0,0.567972,-11.5974,-7.60954)\" gradientUnits=\"userSpaceOnUse\" id=\"linearGradient2258\" x1=\"172.94208\" x2=\"26.670298\" xlink:href=\"#linearGradient4689\" y1=\"76.176224\" y2=\"76.313133\"/>\n",
       "    <radialGradient cx=\"61.518883\" cy=\"132.28575\" fx=\"61.518883\" fy=\"132.28575\" gradientTransform=\"matrix(1,0,0,0.177966,0,108.7434)\" gradientUnits=\"userSpaceOnUse\" id=\"radialGradient2801\" r=\"29.036913\" xlink:href=\"#linearGradient2795\"/>\n",
       "    <linearGradient gradientTransform=\"matrix(0.562541,0,0,0.567972,-9.399749,-5.305317)\" gradientUnits=\"userSpaceOnUse\" id=\"linearGradient1475\" x1=\"150.96111\" x2=\"112.03144\" xlink:href=\"#linearGradient4671\" y1=\"192.35176\" y2=\"137.27299\"/>\n",
       "    <linearGradient gradientTransform=\"matrix(0.562541,0,0,0.567972,-9.399749,-5.305317)\" gradientUnits=\"userSpaceOnUse\" id=\"linearGradient1478\" x1=\"26.648937\" x2=\"135.66525\" xlink:href=\"#linearGradient4689\" y1=\"20.603781\" y2=\"114.39767\"/>\n",
       "    <radialGradient cx=\"61.518883\" cy=\"132.28575\" fx=\"61.518883\" fy=\"132.28575\" gradientTransform=\"matrix(2.382716e-8,-0.296405,1.43676,4.683673e-7,-128.544,150.5202)\" gradientUnits=\"userSpaceOnUse\" id=\"radialGradient1480\" r=\"29.036913\" xlink:href=\"#linearGradient2795\"/>\n",
       "  </defs>\n",
       "  <g id=\"g2303\">\n",
       "    <path d=\"M 184.61344,61.929363 C 184.61344,47.367213 180.46118,39.891193 172.15666,39.481813 C 168.85239,39.325863 165.62611,39.852203 162.48754,41.070593 C 159.98254,41.967323 158.2963,42.854313 157.40931,43.751043 L 157.40931,78.509163 C 162.72147,81.842673 167.43907,83.392453 171.55234,83.148783 C 180.25649,82.573703 184.61344,75.507063 184.61344,61.929363 z M 194.85763,62.533683 C 194.85763,69.931723 193.12265,76.072393 189.63319,80.955683 C 185.7441,86.482283 180.35396,89.328433 173.46277,89.484393 C 168.26757,89.650093 162.91642,88.022323 157.40931,84.610843 L 157.40931,116.20116 L 148.50047,113.02361 L 148.50047,42.903043 C 149.96253,41.109583 151.84372,39.569543 154.12454,38.263433 C 159.42696,35.173603 165.86978,33.584823 173.45302,33.506853 L 173.57973,33.633563 C 180.50991,33.545833 185.85132,36.391993 189.60395,42.162263 C 193.10315,47.454933 194.85763,54.238913 194.85763,62.533683 z \" id=\"path46\" style=\"fill:#646464;fill-opacity:1\"/>\n",
       "    <path d=\"M 249.30487,83.265743 C 249.30487,93.188283 248.31067,100.05998 246.32227,103.88084 C 244.32411,107.7017 240.52275,110.75254 234.90842,113.02361 C 230.35653,114.81707 225.43425,115.79178 220.15133,115.95748 L 218.67952,110.34316 C 224.05016,109.61213 227.83204,108.88109 230.02513,108.15006 C 234.34309,106.688 237.30621,104.44617 238.93397,101.44406 C 240.24008,98.997543 240.88339,94.328693 240.88339,87.418003 L 240.88339,85.098203 C 234.79146,87.866373 228.40711,89.240713 221.73036,89.240713 C 217.34417,89.240713 213.47457,87.866373 210.14107,85.098203 C 206.39818,82.086343 204.52674,78.265483 204.52674,73.635623 L 204.52674,36.557693 L 213.43558,33.506853 L 213.43558,70.828453 C 213.43558,74.815013 214.7222,77.885353 217.29543,80.039463 C 219.86866,82.193563 223.20217,83.226753 227.2862,83.148783 C 231.37023,83.061053 235.74667,81.482023 240.39603,78.392203 L 240.39603,34.851953 L 249.30487,34.851953 L 249.30487,83.265743 z \" id=\"path48\" style=\"fill:#646464;fill-opacity:1\"/>\n",
       "    <path d=\"M 284.08249,88.997033 C 283.02006,89.084753 282.04535,89.123743 281.14862,89.123743 C 276.10937,89.123743 272.18129,87.924853 269.37413,85.517323 C 266.57671,83.109793 265.17314,79.786033 265.17314,75.546053 L 265.17314,40.456523 L 259.07146,40.456523 L 259.07146,34.851953 L 265.17314,34.851953 L 265.17314,19.968143 L 274.07223,16.800333 L 274.07223,34.851953 L 284.08249,34.851953 L 284.08249,40.456523 L 274.07223,40.456523 L 274.07223,75.302373 C 274.07223,78.645623 274.96896,81.014163 276.76243,82.398253 C 278.30247,83.538663 280.74899,84.191723 284.08249,84.357423 L 284.08249,88.997033 z \" id=\"path50\" style=\"fill:#646464;fill-opacity:1\"/>\n",
       "    <path d=\"M 338.02288,88.266003 L 329.11404,88.266003 L 329.11404,53.878273 C 329.11404,50.379063 328.29528,47.367213 326.66753,44.852463 C 324.78634,42.006313 322.17411,40.583233 318.82112,40.583233 C 314.73708,40.583233 309.6296,42.737343 303.4987,47.045563 L 303.4987,88.266003 L 294.58985,88.266003 L 294.58985,6.0687929 L 303.4987,3.2616329 L 303.4987,40.700203 C 309.191,36.557693 315.40963,34.481563 322.16436,34.481563 C 326.88196,34.481563 330.70282,36.070333 333.62694,39.238143 C 336.56082,42.405943 338.02288,46.353513 338.02288,51.071103 L 338.02288,88.266003 L 338.02288,88.266003 z \" id=\"path52\" style=\"fill:#646464;fill-opacity:1\"/>\n",
       "    <path d=\"M 385.37424,60.525783 C 385.37424,54.930953 384.31182,50.310833 382.19669,46.655673 C 379.68195,42.201253 375.77337,39.852203 370.49044,39.608523 C 360.72386,40.173863 355.85032,47.172273 355.85032,60.584263 C 355.85032,66.734683 356.86401,71.871393 358.91089,75.994413 C 361.52312,81.248093 365.44145,83.840823 370.66589,83.753103 C 380.47146,83.675123 385.37424,75.935933 385.37424,60.525783 z M 395.13109,60.584263 C 395.13109,68.547643 393.09395,75.175663 389.02941,80.468333 C 384.5555,86.394563 378.37584,89.367423 370.49044,89.367423 C 362.67328,89.367423 356.58135,86.394563 352.18541,80.468333 C 348.19885,75.175663 346.21044,68.547643 346.21044,60.584263 C 346.21044,53.098503 348.36455,46.801883 352.67276,41.674913 C 357.22466,36.236033 363.20937,33.506853 370.6074,33.506853 C 378.00545,33.506853 384.02914,36.236033 388.66877,41.674913 C 392.97697,46.801883 395.13109,53.098503 395.13109,60.584263 z \" id=\"path54\" style=\"fill:#646464;fill-opacity:1\"/>\n",
       "    <path d=\"M 446.20583,88.266003 L 437.29699,88.266003 L 437.29699,51.928853 C 437.29699,47.942293 436.0981,44.832973 433.70032,42.591133 C 431.30253,40.359053 428.10549,39.277123 424.11893,39.364853 C 419.8887,39.442833 415.86314,40.826913 412.04229,43.507363 L 412.04229,88.266003 L 403.13345,88.266003 L 403.13345,42.405943 C 408.26042,38.672813 412.97801,36.236033 417.28621,35.095623 C 421.35076,34.033193 424.93769,33.506853 428.02752,33.506853 C 430.14264,33.506853 432.13104,33.711543 434.00248,34.120913 C 437.50169,34.929923 440.34783,36.430973 442.54093,38.633823 C 444.98744,41.070593 446.20583,43.994723 446.20583,47.415943 L 446.20583,88.266003 z \" id=\"path56\" style=\"fill:#646464;fill-opacity:1\"/>\n",
       "    <path d=\"M 60.510156,6.3979729 C 55.926503,6.4192712 51.549217,6.8101906 47.697656,7.4917229 C 36.35144,9.4962267 34.291407,13.691825 34.291406,21.429223 L 34.291406,31.647973 L 61.103906,31.647973 L 61.103906,35.054223 L 34.291406,35.054223 L 24.228906,35.054223 C 16.436447,35.054223 9.6131468,39.73794 7.4789058,48.647973 C 5.0170858,58.860939 4.9078907,65.233996 7.4789058,75.897973 C 9.3848341,83.835825 13.936449,89.491721 21.728906,89.491723 L 30.947656,89.491723 L 30.947656,77.241723 C 30.947656,68.391821 38.6048,60.585475 47.697656,60.585473 L 74.478906,60.585473 C 81.933857,60.585473 87.885159,54.447309 87.885156,46.960473 L 87.885156,21.429223 C 87.885156,14.162884 81.755176,8.7044455 74.478906,7.4917229 C 69.872919,6.7249976 65.093809,6.3766746 60.510156,6.3979729 z M 46.010156,14.616723 C 48.779703,14.616723 51.041406,16.915369 51.041406,19.741723 C 51.041404,22.558059 48.779703,24.835473 46.010156,24.835473 C 43.23068,24.835472 40.978906,22.558058 40.978906,19.741723 C 40.978905,16.91537 43.23068,14.616723 46.010156,14.616723 z \" id=\"path1948\" style=\"fill:url(#linearGradient1478);fill-opacity:1\"/>\n",
       "    <path d=\"M 91.228906,35.054223 L 91.228906,46.960473 C 91.228906,56.191228 83.403011,63.960472 74.478906,63.960473 L 47.697656,63.960473 C 40.361823,63.960473 34.291407,70.238956 34.291406,77.585473 L 34.291406,103.11672 C 34.291406,110.38306 40.609994,114.65704 47.697656,116.74172 C 56.184987,119.23733 64.323893,119.68835 74.478906,116.74172 C 81.229061,114.78733 87.885159,110.85411 87.885156,103.11672 L 87.885156,92.897973 L 61.103906,92.897973 L 61.103906,89.491723 L 87.885156,89.491723 L 101.29141,89.491723 C 109.08387,89.491723 111.98766,84.056315 114.69765,75.897973 C 117.49698,67.499087 117.37787,59.422197 114.69765,48.647973 C 112.77187,40.890532 109.09378,35.054223 101.29141,35.054223 L 91.228906,35.054223 z M 76.166406,99.710473 C 78.945884,99.710476 81.197656,101.98789 81.197656,104.80422 C 81.197654,107.63057 78.945881,109.92922 76.166406,109.92922 C 73.396856,109.92922 71.135156,107.63057 71.135156,104.80422 C 71.135158,101.98789 73.396853,99.710473 76.166406,99.710473 z \" id=\"path1950\" style=\"fill:url(#linearGradient1475);fill-opacity:1\"/>\n",
       "    <path d=\"M 463.5544,26.909383 L 465.11635,26.909383 L 465.11635,17.113143 L 468.81648,17.113143 L 468.81648,15.945483 L 459.85427,15.945483 L 459.85427,17.113143 L 463.5544,17.113143 L 463.5544,26.909383 M 470.20142,26.909383 L 471.53589,26.909383 L 471.53589,17.962353 L 474.4323,26.908259 L 475.91799,26.908259 L 478.93615,17.992683 L 478.93615,26.909383 L 480.39194,26.909383 L 480.39194,15.945483 L 478.46605,15.945483 L 475.16774,25.33834 L 472.35477,15.945483 L 470.20142,15.945483 L 470.20142,26.909383\" id=\"text3004\" style=\"font-size:15.16445827px;font-style:normal;font-weight:normal;line-height:125%;fill:#646464;fill-opacity:1;stroke:none;stroke-width:1px;stroke-linecap:butt;stroke-linejoin:miter;stroke-opacity:1;font-family:Bitstream Vera Sans\"/>\n",
       "    <path d=\"M 110.46717 132.28575 A 48.948284 8.6066771 0 1 1  12.570599,132.28575 A 48.948284 8.6066771 0 1 1  110.46717 132.28575 z\" id=\"path1894\" style=\"opacity:0.44382019;fill:url(#radialGradient1480);fill-opacity:1;fill-rule:nonzero;stroke:none;stroke-width:20;stroke-miterlimit:4;stroke-dasharray:none;stroke-opacity:1\" transform=\"matrix(0.73406,0,0,0.809524,16.24958,27.00935)\"/>\n",
       "  </g>\n",
       "</svg>"
      ],
      "text/plain": [
       "<IPython.core.display.SVG object>"
      ]
     },
     "execution_count": 55,
     "metadata": {},
     "output_type": "execute_result"
    }
   ],
   "source": [
    "from IPython.display import SVG\n",
    "SVG(filename='examples/images/python_logo.svg')"
   ]
  },
  {
   "cell_type": "code",
   "execution_count": 56,
   "id": "b265f278",
   "metadata": {},
   "outputs": [],
   "source": [
    "from IPython.display import Image\n",
    "img_url = 'http://www.lawrencehallofscience.org/static/scienceview/scienceview.berkeley.edu/html/view/view_assets/images/newview.jpg'\n",
    "SoftLinked = Image(url=img_url)"
   ]
  },
  {
   "cell_type": "code",
   "execution_count": 57,
   "id": "f65c9b60",
   "metadata": {},
   "outputs": [
    {
     "data": {
      "text/html": [
       "<img src=\"http://www.lawrencehallofscience.org/static/scienceview/scienceview.berkeley.edu/html/view/view_assets/images/newview.jpg\"/>"
      ],
      "text/plain": [
       "<IPython.core.display.Image object>"
      ]
     },
     "execution_count": 57,
     "metadata": {},
     "output_type": "execute_result"
    }
   ],
   "source": [
    "SoftLinked"
   ]
  },
  {
   "cell_type": "code",
   "execution_count": 58,
   "id": "fc1ed223",
   "metadata": {},
   "outputs": [],
   "source": [
    "from IPython.display import HTML"
   ]
  },
  {
   "cell_type": "code",
   "execution_count": 59,
   "id": "9b4948f3",
   "metadata": {},
   "outputs": [],
   "source": [
    "s = \"\"\"<table>\n",
    "<tr>\n",
    "<th>Header 1</th>\n",
    "<th>Header 2</th>\n",
    "</tr>\n",
    "<tr>\n",
    "<td>row 1, cell 1</td>\n",
    "<td>row 1, cell 2</td>\n",
    "</tr>\n",
    "<tr>\n",
    "<td>row 2, cell 1</td>\n",
    "<td>row 2, cell 2</td>\n",
    "</tr>\n",
    "</table>\"\"\""
   ]
  },
  {
   "cell_type": "code",
   "execution_count": 60,
   "id": "afd6a702",
   "metadata": {},
   "outputs": [],
   "source": [
    "h = HTML(s)"
   ]
  },
  {
   "cell_type": "code",
   "execution_count": 61,
   "id": "8caa8ad9",
   "metadata": {},
   "outputs": [
    {
     "data": {
      "text/html": [
       "<table>\n",
       "<tr>\n",
       "<th>Header 1</th>\n",
       "<th>Header 2</th>\n",
       "</tr>\n",
       "<tr>\n",
       "<td>row 1, cell 1</td>\n",
       "<td>row 1, cell 2</td>\n",
       "</tr>\n",
       "<tr>\n",
       "<td>row 2, cell 1</td>\n",
       "<td>row 2, cell 2</td>\n",
       "</tr>\n",
       "</table>"
      ],
      "text/plain": [
       "<IPython.core.display.HTML object>"
      ]
     },
     "metadata": {},
     "output_type": "display_data"
    }
   ],
   "source": [
    "display(h)"
   ]
  },
  {
   "cell_type": "code",
   "execution_count": 62,
   "id": "cc8c6594",
   "metadata": {},
   "outputs": [
    {
     "data": {
      "text/html": [
       "<table>\n",
       "<tr>\n",
       "<th>Header 1</th>\n",
       "<th>Header 2</th>\n",
       "</tr>\n",
       "<tr>\n",
       "<td>row 1, cell 1</td>\n",
       "<td>row 1, cell 2</td>\n",
       "</tr>\n",
       "<tr>\n",
       "<td>row 2, cell 1</td>\n",
       "<td>row 2, cell 2</td>\n",
       "</tr>\n",
       "</table>\n"
      ],
      "text/plain": [
       "<IPython.core.display.HTML object>"
      ]
     },
     "metadata": {},
     "output_type": "display_data"
    }
   ],
   "source": [
    "%%html\n",
    "<table>\n",
    "<tr>\n",
    "<th>Header 1</th>\n",
    "<th>Header 2</th>\n",
    "</tr>\n",
    "<tr>\n",
    "<td>row 1, cell 1</td>\n",
    "<td>row 1, cell 2</td>\n",
    "</tr>\n",
    "<tr>\n",
    "<td>row 2, cell 1</td>\n",
    "<td>row 2, cell 2</td>\n",
    "</tr>\n",
    "</table>"
   ]
  },
  {
   "cell_type": "code",
   "execution_count": 63,
   "id": "018a42a0",
   "metadata": {},
   "outputs": [],
   "source": [
    "from IPython.display import Javascript"
   ]
  },
  {
   "cell_type": "code",
   "execution_count": 64,
   "id": "ff29f1c6",
   "metadata": {},
   "outputs": [],
   "source": [
    "js = Javascript('alert(\"hi\")');"
   ]
  },
  {
   "cell_type": "code",
   "execution_count": 65,
   "id": "7d2307ee",
   "metadata": {},
   "outputs": [
    {
     "data": {
      "application/javascript": [
       "alert(\"hi\")"
      ],
      "text/plain": [
       "<IPython.core.display.Javascript object>"
      ]
     },
     "metadata": {},
     "output_type": "display_data"
    }
   ],
   "source": [
    "display(js)"
   ]
  },
  {
   "cell_type": "code",
   "execution_count": 66,
   "id": "df225bd1",
   "metadata": {},
   "outputs": [
    {
     "data": {
      "application/javascript": [
       "\n",
       "alert(\"hi\");\n"
      ],
      "text/plain": [
       "<IPython.core.display.Javascript object>"
      ]
     },
     "metadata": {},
     "output_type": "display_data"
    }
   ],
   "source": [
    "%%javascript\n",
    "\n",
    "alert(\"hi\");"
   ]
  },
  {
   "cell_type": "code",
   "execution_count": 67,
   "id": "10a3ef9b",
   "metadata": {},
   "outputs": [
    {
     "data": {
      "application/javascript": [
       "$.getScript('//cdnjs.cloudflare.com/ajax/libs/d3/3.2.2/d3.v3.min.js')"
      ],
      "text/plain": [
       "<IPython.core.display.Javascript object>"
      ]
     },
     "execution_count": 67,
     "metadata": {},
     "output_type": "execute_result"
    }
   ],
   "source": [
    "Javascript(\n",
    "    \"\"\"$.getScript('//cdnjs.cloudflare.com/ajax/libs/d3/3.2.2/d3.v3.min.js')\"\"\"\n",
    ")"
   ]
  },
  {
   "cell_type": "code",
   "execution_count": 68,
   "id": "dbe95153",
   "metadata": {},
   "outputs": [
    {
     "data": {
      "text/html": [
       "<style type=\"text/css\">\n",
       "\n",
       "circle {\n",
       "  fill: rgb(31, 119, 180);\n",
       "  fill-opacity: .25;\n",
       "  stroke: rgb(31, 119, 180);\n",
       "  stroke-width: 1px;\n",
       "}\n",
       "\n",
       ".leaf circle {\n",
       "  fill: #ff7f0e;\n",
       "  fill-opacity: 1;\n",
       "}\n",
       "\n",
       "text {\n",
       "  font: 10px sans-serif;\n",
       "}\n",
       "\n",
       "</style>\n"
      ],
      "text/plain": [
       "<IPython.core.display.HTML object>"
      ]
     },
     "metadata": {},
     "output_type": "display_data"
    }
   ],
   "source": [
    "%%html\n",
    "<style type=\"text/css\">\n",
    "\n",
    "circle {\n",
    "  fill: rgb(31, 119, 180);\n",
    "  fill-opacity: .25;\n",
    "  stroke: rgb(31, 119, 180);\n",
    "  stroke-width: 1px;\n",
    "}\n",
    "\n",
    ".leaf circle {\n",
    "  fill: #ff7f0e;\n",
    "  fill-opacity: 1;\n",
    "}\n",
    "\n",
    "text {\n",
    "  font: 10px sans-serif;\n",
    "}\n",
    "\n",
    "</style>"
   ]
  },
  {
   "cell_type": "code",
   "execution_count": 69,
   "id": "734fbd3f",
   "metadata": {},
   "outputs": [
    {
     "data": {
      "application/javascript": [
       "\n",
       "// element is the jQuery element we will append to\n",
       "var e = element.get(0);\n",
       "    \n",
       "var diameter = 600,\n",
       "    format = d3.format(\",d\");\n",
       "\n",
       "var pack = d3.layout.pack()\n",
       "    .size([diameter - 4, diameter - 4])\n",
       "    .value(function(d) { return d.size; });\n",
       "\n",
       "var svg = d3.select(e).append(\"svg\")\n",
       "    .attr(\"width\", diameter)\n",
       "    .attr(\"height\", diameter)\n",
       "  .append(\"g\")\n",
       "    .attr(\"transform\", \"translate(2,2)\");\n",
       "\n",
       "d3.json(\"data/flare.json\", function(error, root) {\n",
       "  var node = svg.datum(root).selectAll(\".node\")\n",
       "      .data(pack.nodes)\n",
       "    .enter().append(\"g\")\n",
       "      .attr(\"class\", function(d) { return d.children ? \"node\" : \"leaf node\"; })\n",
       "      .attr(\"transform\", function(d) { return \"translate(\" + d.x + \",\" + d.y + \")\"; });\n",
       "\n",
       "  node.append(\"title\")\n",
       "      .text(function(d) { return d.name + (d.children ? \"\" : \": \" + format(d.size)); });\n",
       "\n",
       "  node.append(\"circle\")\n",
       "      .attr(\"r\", function(d) { return d.r; });\n",
       "\n",
       "  node.filter(function(d) { return !d.children; }).append(\"text\")\n",
       "      .attr(\"dy\", \".3em\")\n",
       "      .style(\"text-anchor\", \"middle\")\n",
       "      .text(function(d) { return d.name.substring(0, d.r / 3); });\n",
       "});\n",
       "\n",
       "d3.select(self.frameElement).style(\"height\", diameter + \"px\");\n"
      ],
      "text/plain": [
       "<IPython.core.display.Javascript object>"
      ]
     },
     "metadata": {},
     "output_type": "display_data"
    }
   ],
   "source": [
    "%%javascript\n",
    "\n",
    "// element is the jQuery element we will append to\n",
    "var e = element.get(0);\n",
    "    \n",
    "var diameter = 600,\n",
    "    format = d3.format(\",d\");\n",
    "\n",
    "var pack = d3.layout.pack()\n",
    "    .size([diameter - 4, diameter - 4])\n",
    "    .value(function(d) { return d.size; });\n",
    "\n",
    "var svg = d3.select(e).append(\"svg\")\n",
    "    .attr(\"width\", diameter)\n",
    "    .attr(\"height\", diameter)\n",
    "  .append(\"g\")\n",
    "    .attr(\"transform\", \"translate(2,2)\");\n",
    "\n",
    "d3.json(\"data/flare.json\", function(error, root) {\n",
    "  var node = svg.datum(root).selectAll(\".node\")\n",
    "      .data(pack.nodes)\n",
    "    .enter().append(\"g\")\n",
    "      .attr(\"class\", function(d) { return d.children ? \"node\" : \"leaf node\"; })\n",
    "      .attr(\"transform\", function(d) { return \"translate(\" + d.x + \",\" + d.y + \")\"; });\n",
    "\n",
    "  node.append(\"title\")\n",
    "      .text(function(d) { return d.name + (d.children ? \"\" : \": \" + format(d.size)); });\n",
    "\n",
    "  node.append(\"circle\")\n",
    "      .attr(\"r\", function(d) { return d.r; });\n",
    "\n",
    "  node.filter(function(d) { return !d.children; }).append(\"text\")\n",
    "      .attr(\"dy\", \".3em\")\n",
    "      .style(\"text-anchor\", \"middle\")\n",
    "      .text(function(d) { return d.name.substring(0, d.r / 3); });\n",
    "});\n",
    "\n",
    "d3.select(self.frameElement).style(\"height\", diameter + \"px\");"
   ]
  },
  {
   "cell_type": "code",
   "execution_count": 70,
   "id": "0a7db966",
   "metadata": {},
   "outputs": [
    {
     "data": {
      "text/latex": [
       "$\\displaystyle F(k) = \\int_{-\\infty}^{\\infty} f(x) e^{2\\pi i k} dx$"
      ],
      "text/plain": [
       "<IPython.core.display.Math object>"
      ]
     },
     "execution_count": 70,
     "metadata": {},
     "output_type": "execute_result"
    }
   ],
   "source": [
    "from IPython.display import Math\n",
    "Math(r'F(k) = \\int_{-\\infty}^{\\infty} f(x) e^{2\\pi i k} dx')"
   ]
  },
  {
   "cell_type": "code",
   "execution_count": 71,
   "id": "2d3fbead",
   "metadata": {},
   "outputs": [
    {
     "data": {
      "text/latex": [
       "\\begin{eqnarray}\n",
       "\\nabla \\times \\vec{\\mathbf{B}} -\\, \\frac1c\\, \\frac{\\partial\\vec{\\mathbf{E}}}{\\partial t} & = \\frac{4\\pi}{c}\\vec{\\mathbf{j}} \\\\\n",
       "\\nabla \\cdot \\vec{\\mathbf{E}} & = 4 \\pi \\rho \\\\\n",
       "\\nabla \\times \\vec{\\mathbf{E}}\\, +\\, \\frac1c\\, \\frac{\\partial\\vec{\\mathbf{B}}}{\\partial t} & = \\vec{\\mathbf{0}} \\\\\n",
       "\\nabla \\cdot \\vec{\\mathbf{B}} & = 0 \n",
       "\\end{eqnarray}"
      ],
      "text/plain": [
       "<IPython.core.display.Latex object>"
      ]
     },
     "execution_count": 71,
     "metadata": {},
     "output_type": "execute_result"
    }
   ],
   "source": [
    "from IPython.display import Latex\n",
    "Latex(r\"\"\"\\begin{eqnarray}\n",
    "\\nabla \\times \\vec{\\mathbf{B}} -\\, \\frac1c\\, \\frac{\\partial\\vec{\\mathbf{E}}}{\\partial t} & = \\frac{4\\pi}{c}\\vec{\\mathbf{j}} \\\\\n",
    "\\nabla \\cdot \\vec{\\mathbf{E}} & = 4 \\pi \\rho \\\\\n",
    "\\nabla \\times \\vec{\\mathbf{E}}\\, +\\, \\frac1c\\, \\frac{\\partial\\vec{\\mathbf{B}}}{\\partial t} & = \\vec{\\mathbf{0}} \\\\\n",
    "\\nabla \\cdot \\vec{\\mathbf{B}} & = 0 \n",
    "\\end{eqnarray}\"\"\")"
   ]
  },
  {
   "cell_type": "code",
   "execution_count": 72,
   "id": "95976ecf",
   "metadata": {},
   "outputs": [
    {
     "data": {
      "text/latex": [
       "\\begin{align}\n",
       "\\nabla \\times \\vec{\\mathbf{B}} -\\, \\frac1c\\, \\frac{\\partial\\vec{\\mathbf{E}}}{\\partial t} & = \\frac{4\\pi}{c}\\vec{\\mathbf{j}} \\\\\n",
       "\\nabla \\cdot \\vec{\\mathbf{E}} & = 4 \\pi \\rho \\\\\n",
       "\\nabla \\times \\vec{\\mathbf{E}}\\, +\\, \\frac1c\\, \\frac{\\partial\\vec{\\mathbf{B}}}{\\partial t} & = \\vec{\\mathbf{0}} \\\\\n",
       "\\nabla \\cdot \\vec{\\mathbf{B}} & = 0\n",
       "\\end{align}\n"
      ],
      "text/plain": [
       "<IPython.core.display.Latex object>"
      ]
     },
     "metadata": {},
     "output_type": "display_data"
    }
   ],
   "source": [
    "%%latex\n",
    "\\begin{align}\n",
    "\\nabla \\times \\vec{\\mathbf{B}} -\\, \\frac1c\\, \\frac{\\partial\\vec{\\mathbf{E}}}{\\partial t} & = \\frac{4\\pi}{c}\\vec{\\mathbf{j}} \\\\\n",
    "\\nabla \\cdot \\vec{\\mathbf{E}} & = 4 \\pi \\rho \\\\\n",
    "\\nabla \\times \\vec{\\mathbf{E}}\\, +\\, \\frac1c\\, \\frac{\\partial\\vec{\\mathbf{B}}}{\\partial t} & = \\vec{\\mathbf{0}} \\\\\n",
    "\\nabla \\cdot \\vec{\\mathbf{B}} & = 0\n",
    "\\end{align}"
   ]
  },
  {
   "cell_type": "code",
   "execution_count": 73,
   "id": "a03c84e6",
   "metadata": {},
   "outputs": [
    {
     "data": {
      "text/html": [
       "\n",
       "                <audio  controls=\"controls\" >\n",
       "                    <source src=\"http://www.nch.com.au/acm/8k16bitpcm.wav\" type=\"audio/wav\" />\n",
       "                    Your browser does not support the audio element.\n",
       "                </audio>\n",
       "              "
      ],
      "text/plain": [
       "<IPython.lib.display.Audio object>"
      ]
     },
     "execution_count": 73,
     "metadata": {},
     "output_type": "execute_result"
    }
   ],
   "source": [
    "from IPython.display import Audio\n",
    "Audio(url=\"http://www.nch.com.au/acm/8k16bitpcm.wav\")"
   ]
  },
  {
   "cell_type": "code",
   "execution_count": 74,
   "id": "88da09f1",
   "metadata": {},
   "outputs": [
    {
     "ename": "TypeError",
     "evalue": "'float' object cannot be interpreted as an integer",
     "output_type": "error",
     "traceback": [
      "\u001b[1;31m---------------------------------------------------------------------------\u001b[0m",
      "\u001b[1;31mTypeError\u001b[0m                                 Traceback (most recent call last)",
      "\u001b[1;32mC:\\Users\\RENGE~1.TSU\\AppData\\Local\\Temp/ipykernel_7344/532590284.py\u001b[0m in \u001b[0;36m<module>\u001b[1;34m\u001b[0m\n\u001b[0;32m      5\u001b[0m \u001b[0mrate\u001b[0m \u001b[1;33m=\u001b[0m \u001b[1;36m8000.0\u001b[0m\u001b[1;33m\u001b[0m\u001b[1;33m\u001b[0m\u001b[0m\n\u001b[0;32m      6\u001b[0m \u001b[0mL\u001b[0m \u001b[1;33m=\u001b[0m \u001b[1;36m3\u001b[0m\u001b[1;33m\u001b[0m\u001b[1;33m\u001b[0m\u001b[0m\n\u001b[1;32m----> 7\u001b[1;33m \u001b[0mtimes\u001b[0m \u001b[1;33m=\u001b[0m \u001b[0mnp\u001b[0m\u001b[1;33m.\u001b[0m\u001b[0mlinspace\u001b[0m\u001b[1;33m(\u001b[0m\u001b[1;36m0\u001b[0m\u001b[1;33m,\u001b[0m\u001b[0mL\u001b[0m\u001b[1;33m,\u001b[0m\u001b[0mrate\u001b[0m\u001b[1;33m*\u001b[0m\u001b[0mL\u001b[0m\u001b[1;33m)\u001b[0m\u001b[1;33m\u001b[0m\u001b[1;33m\u001b[0m\u001b[0m\n\u001b[0m\u001b[0;32m      8\u001b[0m \u001b[0msignal\u001b[0m \u001b[1;33m=\u001b[0m \u001b[0mnp\u001b[0m\u001b[1;33m.\u001b[0m\u001b[0msin\u001b[0m\u001b[1;33m(\u001b[0m\u001b[1;36m2\u001b[0m\u001b[1;33m*\u001b[0m\u001b[0mnp\u001b[0m\u001b[1;33m.\u001b[0m\u001b[0mpi\u001b[0m\u001b[1;33m*\u001b[0m\u001b[0mf1\u001b[0m\u001b[1;33m*\u001b[0m\u001b[0mtimes\u001b[0m\u001b[1;33m)\u001b[0m \u001b[1;33m+\u001b[0m \u001b[0mnp\u001b[0m\u001b[1;33m.\u001b[0m\u001b[0msin\u001b[0m\u001b[1;33m(\u001b[0m\u001b[1;36m2\u001b[0m\u001b[1;33m*\u001b[0m\u001b[0mnp\u001b[0m\u001b[1;33m.\u001b[0m\u001b[0mpi\u001b[0m\u001b[1;33m*\u001b[0m\u001b[0mf2\u001b[0m\u001b[1;33m*\u001b[0m\u001b[0mtimes\u001b[0m\u001b[1;33m)\u001b[0m\u001b[1;33m\u001b[0m\u001b[1;33m\u001b[0m\u001b[0m\n\u001b[0;32m      9\u001b[0m \u001b[1;33m\u001b[0m\u001b[0m\n",
      "\u001b[1;32m<__array_function__ internals>\u001b[0m in \u001b[0;36mlinspace\u001b[1;34m(*args, **kwargs)\u001b[0m\n",
      "\u001b[1;32mc:\\users\\renge.tsukino\\appdata\\local\\programs\\python\\python37\\lib\\site-packages\\numpy\\core\\function_base.py\u001b[0m in \u001b[0;36mlinspace\u001b[1;34m(start, stop, num, endpoint, retstep, dtype, axis)\u001b[0m\n\u001b[0;32m    118\u001b[0m \u001b[1;33m\u001b[0m\u001b[0m\n\u001b[0;32m    119\u001b[0m     \"\"\"\n\u001b[1;32m--> 120\u001b[1;33m     \u001b[0mnum\u001b[0m \u001b[1;33m=\u001b[0m \u001b[0moperator\u001b[0m\u001b[1;33m.\u001b[0m\u001b[0mindex\u001b[0m\u001b[1;33m(\u001b[0m\u001b[0mnum\u001b[0m\u001b[1;33m)\u001b[0m\u001b[1;33m\u001b[0m\u001b[1;33m\u001b[0m\u001b[0m\n\u001b[0m\u001b[0;32m    121\u001b[0m     \u001b[1;32mif\u001b[0m \u001b[0mnum\u001b[0m \u001b[1;33m<\u001b[0m \u001b[1;36m0\u001b[0m\u001b[1;33m:\u001b[0m\u001b[1;33m\u001b[0m\u001b[1;33m\u001b[0m\u001b[0m\n\u001b[0;32m    122\u001b[0m         \u001b[1;32mraise\u001b[0m \u001b[0mValueError\u001b[0m\u001b[1;33m(\u001b[0m\u001b[1;34m\"Number of samples, %s, must be non-negative.\"\u001b[0m \u001b[1;33m%\u001b[0m \u001b[0mnum\u001b[0m\u001b[1;33m)\u001b[0m\u001b[1;33m\u001b[0m\u001b[1;33m\u001b[0m\u001b[0m\n",
      "\u001b[1;31mTypeError\u001b[0m: 'float' object cannot be interpreted as an integer"
     ]
    }
   ],
   "source": [
    "import numpy as np\n",
    "max_time = 3\n",
    "f1 = 220.0\n",
    "f2 = 224.0\n",
    "rate = 8000.0\n",
    "L = 3\n",
    "times = np.linspace(0,L,rate*L)\n",
    "signal = np.sin(2*np.pi*f1*times) + np.sin(2*np.pi*f2*times)\n",
    "\n",
    "Audio(data=signal, rate=rate)"
   ]
  },
  {
   "cell_type": "code",
   "execution_count": 75,
   "id": "94305ea7",
   "metadata": {},
   "outputs": [
    {
     "data": {
      "image/jpeg": "[encoded data removed]",
      "text/html": [
       "\n",
       "        <iframe\n",
       "            width=\"400\"\n",
       "            height=\"300\"\n",
       "            src=\"https://www.youtube.com/embed/sjfsUzECqK0\"\n",
       "            frameborder=\"0\"\n",
       "            allowfullscreen\n",
       "            \n",
       "        ></iframe>\n",
       "        "
      ],
      "text/plain": [
       "<IPython.lib.display.YouTubeVideo at 0x21207c6da88>"
      ]
     },
     "execution_count": 75,
     "metadata": {},
     "output_type": "execute_result"
    }
   ],
   "source": [
    "from IPython.display import YouTubeVideo\n",
    "YouTubeVideo('sjfsUzECqK0')"
   ]
  },
  {
   "cell_type": "code",
   "execution_count": 76,
   "id": "c04b8402",
   "metadata": {},
   "outputs": [
    {
     "data": {
      "text/html": [
       "<video controls alt=\"test\" src=\"data:video/x-m4v;base64,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\">"
      ],
      "text/plain": [
       "<IPython.core.display.HTML object>"
      ]
     },
     "execution_count": 76,
     "metadata": {},
     "output_type": "execute_result"
    }
   ],
   "source": [
    "from IPython.display import HTML\n",
    "from base64 import b64encode\n",
    "video = open(\"examples/images/animation.m4v\", \"rb\").read()\n",
    "video_encoded = b64encode(video).decode('ascii')\n",
    "video_tag = '<video controls alt=\"test\" src=\"data:video/x-m4v;base64,{0}\">'.format(video_encoded)\n",
    "HTML(data=video_tag)"
   ]
  },
  {
   "cell_type": "code",
   "execution_count": 77,
   "id": "6c67f71d",
   "metadata": {},
   "outputs": [
    {
     "data": {
      "text/html": [
       "\n",
       "        <iframe\n",
       "            width=\"100%\"\n",
       "            height=\"350\"\n",
       "            src=\"http://jupyter.org\"\n",
       "            frameborder=\"0\"\n",
       "            allowfullscreen\n",
       "            \n",
       "        ></iframe>\n",
       "        "
      ],
      "text/plain": [
       "<IPython.lib.display.IFrame at 0x21207c59ec8>"
      ]
     },
     "execution_count": 77,
     "metadata": {},
     "output_type": "execute_result"
    }
   ],
   "source": [
    "from IPython.display import IFrame\n",
    "IFrame('http://jupyter.org', width='100%', height=350)"
   ]
  },
  {
   "cell_type": "code",
   "execution_count": 78,
   "id": "45006e2d",
   "metadata": {},
   "outputs": [
    {
     "data": {
      "text/html": [
       "<a href='examples/IPython Kernel/Cell Magics.ipynb' target='_blank'>examples/IPython Kernel/Cell Magics.ipynb</a><br>"
      ],
      "text/plain": [
       "C:\\Assignment_1\\examples\\IPython Kernel\\Cell Magics.ipynb"
      ]
     },
     "execution_count": 78,
     "metadata": {},
     "output_type": "execute_result"
    }
   ],
   "source": [
    "from IPython.display import FileLink, FileLinks\n",
    "FileLink('examples/IPython Kernel/Cell Magics.ipynb')"
   ]
  },
  {
   "cell_type": "code",
   "execution_count": 79,
   "id": "808f6372",
   "metadata": {},
   "outputs": [
    {
     "data": {
      "text/html": [
       "./<br>\n",
       "&nbsp;&nbsp;<a href='./.gitignore' target='_blank'>.gitignore</a><br>\n",
       "&nbsp;&nbsp;<a href='./Assignment 1.ipynb' target='_blank'>Assignment 1.ipynb</a><br>\n",
       "&nbsp;&nbsp;<a href='./Assignment 1.txt' target='_blank'>Assignment 1.txt</a><br>\n",
       "&nbsp;&nbsp;<a href='./fabfile.py' target='_blank'>fabfile.py</a><br>\n",
       "&nbsp;&nbsp;<a href='./Index.ipynb' target='_blank'>Index.ipynb</a><br>\n",
       "&nbsp;&nbsp;<a href='./LICENSE' target='_blank'>LICENSE</a><br>\n",
       "&nbsp;&nbsp;<a href='./log.py' target='_blank'>log.py</a><br>\n",
       "&nbsp;&nbsp;<a href='./mod.py' target='_blank'>mod.py</a><br>\n",
       "&nbsp;&nbsp;<a href='./monitor.sh' target='_blank'>monitor.sh</a><br>\n",
       "&nbsp;&nbsp;<a href='./pycon-2015-abstract.md' target='_blank'>pycon-2015-abstract.md</a><br>\n",
       "&nbsp;&nbsp;<a href='./pycon-submission.md' target='_blank'>pycon-submission.md</a><br>\n",
       "&nbsp;&nbsp;<a href='./README.md' target='_blank'>README.md</a><br>\n",
       "&nbsp;&nbsp;<a href='./test.txt' target='_blank'>test.txt</a><br>\n",
       ".\\.git/<br>\n",
       "&nbsp;&nbsp;<a href='./.git/config' target='_blank'>config</a><br>\n",
       "&nbsp;&nbsp;<a href='./.git/description' target='_blank'>description</a><br>\n",
       "&nbsp;&nbsp;<a href='./.git/HEAD' target='_blank'>HEAD</a><br>\n",
       "&nbsp;&nbsp;<a href='./.git/index' target='_blank'>index</a><br>\n",
       "&nbsp;&nbsp;<a href='./.git/packed-refs' target='_blank'>packed-refs</a><br>\n",
       ".\\.git\\hooks/<br>\n",
       "&nbsp;&nbsp;<a href='./.git/hooks/applypatch-msg.sample' target='_blank'>applypatch-msg.sample</a><br>\n",
       "&nbsp;&nbsp;<a href='./.git/hooks/commit-msg.sample' target='_blank'>commit-msg.sample</a><br>\n",
       "&nbsp;&nbsp;<a href='./.git/hooks/fsmonitor-watchman.sample' target='_blank'>fsmonitor-watchman.sample</a><br>\n",
       "&nbsp;&nbsp;<a href='./.git/hooks/post-update.sample' target='_blank'>post-update.sample</a><br>\n",
       "&nbsp;&nbsp;<a href='./.git/hooks/pre-applypatch.sample' target='_blank'>pre-applypatch.sample</a><br>\n",
       "&nbsp;&nbsp;<a href='./.git/hooks/pre-commit.sample' target='_blank'>pre-commit.sample</a><br>\n",
       "&nbsp;&nbsp;<a href='./.git/hooks/pre-merge-commit.sample' target='_blank'>pre-merge-commit.sample</a><br>\n",
       "&nbsp;&nbsp;<a href='./.git/hooks/pre-push.sample' target='_blank'>pre-push.sample</a><br>\n",
       "&nbsp;&nbsp;<a href='./.git/hooks/pre-rebase.sample' target='_blank'>pre-rebase.sample</a><br>\n",
       "&nbsp;&nbsp;<a href='./.git/hooks/pre-receive.sample' target='_blank'>pre-receive.sample</a><br>\n",
       "&nbsp;&nbsp;<a href='./.git/hooks/prepare-commit-msg.sample' target='_blank'>prepare-commit-msg.sample</a><br>\n",
       "&nbsp;&nbsp;<a href='./.git/hooks/push-to-checkout.sample' target='_blank'>push-to-checkout.sample</a><br>\n",
       "&nbsp;&nbsp;<a href='./.git/hooks/update.sample' target='_blank'>update.sample</a><br>\n",
       ".\\.git\\info/<br>\n",
       "&nbsp;&nbsp;<a href='./.git/info/exclude' target='_blank'>exclude</a><br>\n",
       ".\\.git\\logs/<br>\n",
       "&nbsp;&nbsp;<a href='./.git/logs/HEAD' target='_blank'>HEAD</a><br>\n",
       ".\\.git\\logs\\refs\\heads/<br>\n",
       "&nbsp;&nbsp;<a href='./.git/logs/refs/heads/master' target='_blank'>master</a><br>\n",
       ".\\.git\\logs\\refs\\remotes\\origin/<br>\n",
       "&nbsp;&nbsp;<a href='./.git/logs/refs/remotes/origin/HEAD' target='_blank'>HEAD</a><br>\n",
       ".\\.git\\objects\\pack/<br>\n",
       "&nbsp;&nbsp;<a href='./.git/objects/pack/pack-dd414f5ab49992f00c580152308d4f75a6825501.idx' target='_blank'>pack-dd414f5ab49992f00c580152308d4f75a6825501.idx</a><br>\n",
       "&nbsp;&nbsp;<a href='./.git/objects/pack/pack-dd414f5ab49992f00c580152308d4f75a6825501.pack' target='_blank'>pack-dd414f5ab49992f00c580152308d4f75a6825501.pack</a><br>\n",
       ".\\.git\\refs\\heads/<br>\n",
       "&nbsp;&nbsp;<a href='./.git/refs/heads/master' target='_blank'>master</a><br>\n",
       ".\\.git\\refs\\remotes\\origin/<br>\n",
       "&nbsp;&nbsp;<a href='./.git/refs/remotes/origin/HEAD' target='_blank'>HEAD</a><br>\n",
       ".\\.ipynb_checkpoints/<br>\n",
       "&nbsp;&nbsp;<a href='./.ipynb_checkpoints/Assignment 1-checkpoint.ipynb' target='_blank'>Assignment 1-checkpoint.ipynb</a><br>\n",
       "&nbsp;&nbsp;<a href='./.ipynb_checkpoints/Index-checkpoint.ipynb' target='_blank'>Index-checkpoint.ipynb</a><br>\n",
       ".\\__pycache__/<br>\n",
       "&nbsp;&nbsp;<a href='./__pycache__/mod.cpython-37.pyc' target='_blank'>mod.cpython-37.pyc</a><br>\n",
       ".\\binder/<br>\n",
       "&nbsp;&nbsp;<a href='./binder/apt.txt' target='_blank'>apt.txt</a><br>\n",
       "&nbsp;&nbsp;<a href='./binder/environment.yml' target='_blank'>environment.yml</a><br>\n",
       "&nbsp;&nbsp;<a href='./binder/Index.ipynb' target='_blank'>Index.ipynb</a><br>\n",
       ".\\examples/<br>\n",
       "&nbsp;&nbsp;<a href='./examples/Index.ipynb' target='_blank'>Index.ipynb</a><br>\n",
       ".\\examples\\Builtin Extensions/<br>\n",
       "&nbsp;&nbsp;<a href='./examples/Builtin Extensions/Cython Magics.ipynb' target='_blank'>Cython Magics.ipynb</a><br>\n",
       "&nbsp;&nbsp;<a href='./examples/Builtin Extensions/Index.ipynb' target='_blank'>Index.ipynb</a><br>\n",
       "&nbsp;&nbsp;<a href='./examples/Builtin Extensions/Octave Magic.ipynb' target='_blank'>Octave Magic.ipynb</a><br>\n",
       "&nbsp;&nbsp;<a href='./examples/Builtin Extensions/R Magics.ipynb' target='_blank'>R Magics.ipynb</a><br>\n",
       ".\\examples\\Builtin Extensions\\.ipynb_checkpoints/<br>\n",
       "&nbsp;&nbsp;<a href='./examples/Builtin Extensions/.ipynb_checkpoints/Index-checkpoint.ipynb' target='_blank'>Index-checkpoint.ipynb</a><br>\n",
       ".\\examples\\Embedding/<br>\n",
       "&nbsp;&nbsp;<a href='./examples/Embedding/embed_class_long.py' target='_blank'>embed_class_long.py</a><br>\n",
       "&nbsp;&nbsp;<a href='./examples/Embedding/embed_class_short.py' target='_blank'>embed_class_short.py</a><br>\n",
       "&nbsp;&nbsp;<a href='./examples/Embedding/embed_function.py' target='_blank'>embed_function.py</a><br>\n",
       "&nbsp;&nbsp;<a href='./examples/Embedding/Index.ipynb' target='_blank'>Index.ipynb</a><br>\n",
       "&nbsp;&nbsp;<a href='./examples/Embedding/inprocess_qtconsole.py' target='_blank'>inprocess_qtconsole.py</a><br>\n",
       "&nbsp;&nbsp;<a href='./examples/Embedding/inprocess_terminal.py' target='_blank'>inprocess_terminal.py</a><br>\n",
       "&nbsp;&nbsp;<a href='./examples/Embedding/internal_ipkernel.py' target='_blank'>internal_ipkernel.py</a><br>\n",
       "&nbsp;&nbsp;<a href='./examples/Embedding/ipkernel_qtapp.py' target='_blank'>ipkernel_qtapp.py</a><br>\n",
       "&nbsp;&nbsp;<a href='./examples/Embedding/ipkernel_wxapp.py' target='_blank'>ipkernel_wxapp.py</a><br>\n",
       ".\\examples\\IPython Kernel/<br>\n",
       "&nbsp;&nbsp;<a href='./examples/IPython Kernel/Animations Using clear_output.ipynb' target='_blank'>Animations Using clear_output.ipynb</a><br>\n",
       "&nbsp;&nbsp;<a href='./examples/IPython Kernel/Background Jobs.ipynb' target='_blank'>Background Jobs.ipynb</a><br>\n",
       "&nbsp;&nbsp;<a href='./examples/IPython Kernel/Beyond Plain Python.ipynb' target='_blank'>Beyond Plain Python.ipynb</a><br>\n",
       "&nbsp;&nbsp;<a href='./examples/IPython Kernel/Capturing Output.ipynb' target='_blank'>Capturing Output.ipynb</a><br>\n",
       "&nbsp;&nbsp;<a href='./examples/IPython Kernel/Cell Magics.ipynb' target='_blank'>Cell Magics.ipynb</a><br>\n",
       "&nbsp;&nbsp;<a href='./examples/IPython Kernel/Custom Display Logic.ipynb' target='_blank'>Custom Display Logic.ipynb</a><br>\n",
       "&nbsp;&nbsp;<a href='./examples/IPython Kernel/example-demo.py' target='_blank'>example-demo.py</a><br>\n",
       "&nbsp;&nbsp;<a href='./examples/IPython Kernel/Importing Notebooks.ipynb' target='_blank'>Importing Notebooks.ipynb</a><br>\n",
       "&nbsp;&nbsp;<a href='./examples/IPython Kernel/Index.ipynb' target='_blank'>Index.ipynb</a><br>\n",
       "&nbsp;&nbsp;<a href='./examples/IPython Kernel/ipython-completion.bash' target='_blank'>ipython-completion.bash</a><br>\n",
       "&nbsp;&nbsp;<a href='./examples/IPython Kernel/ipython-get-history.py' target='_blank'>ipython-get-history.py</a><br>\n",
       "&nbsp;&nbsp;<a href='./examples/IPython Kernel/ipython-qtconsole.desktop' target='_blank'>ipython-qtconsole.desktop</a><br>\n",
       "&nbsp;&nbsp;<a href='./examples/IPython Kernel/ipython.desktop' target='_blank'>ipython.desktop</a><br>\n",
       "&nbsp;&nbsp;<a href='./examples/IPython Kernel/Old Custom Display Logic.ipynb' target='_blank'>Old Custom Display Logic.ipynb</a><br>\n",
       "&nbsp;&nbsp;<a href='./examples/IPython Kernel/Plotting in the Notebook.ipynb' target='_blank'>Plotting in the Notebook.ipynb</a><br>\n",
       "&nbsp;&nbsp;<a href='./examples/IPython Kernel/Raw Input in the Notebook.ipynb' target='_blank'>Raw Input in the Notebook.ipynb</a><br>\n",
       "&nbsp;&nbsp;<a href='./examples/IPython Kernel/Rich Output.ipynb' target='_blank'>Rich Output.ipynb</a><br>\n",
       "&nbsp;&nbsp;<a href='./examples/IPython Kernel/Script Magics.ipynb' target='_blank'>Script Magics.ipynb</a><br>\n",
       "&nbsp;&nbsp;<a href='./examples/IPython Kernel/SymPy.ipynb' target='_blank'>SymPy.ipynb</a><br>\n",
       "&nbsp;&nbsp;<a href='./examples/IPython Kernel/Terminal Usage.ipynb' target='_blank'>Terminal Usage.ipynb</a><br>\n",
       "&nbsp;&nbsp;<a href='./examples/IPython Kernel/Third Party Rich Output.ipynb' target='_blank'>Third Party Rich Output.ipynb</a><br>\n",
       "&nbsp;&nbsp;<a href='./examples/IPython Kernel/Trapezoid Rule.ipynb' target='_blank'>Trapezoid Rule.ipynb</a><br>\n",
       "&nbsp;&nbsp;<a href='./examples/IPython Kernel/Updating Displays.ipynb' target='_blank'>Updating Displays.ipynb</a><br>\n",
       "&nbsp;&nbsp;<a href='./examples/IPython Kernel/Working With External Code.ipynb' target='_blank'>Working With External Code.ipynb</a><br>\n",
       ".\\examples\\IPython Kernel\\.ipynb_checkpoints/<br>\n",
       "&nbsp;&nbsp;<a href='./examples/IPython Kernel/.ipynb_checkpoints/Beyond Plain Python-checkpoint.ipynb' target='_blank'>Beyond Plain Python-checkpoint.ipynb</a><br>\n",
       "&nbsp;&nbsp;<a href='./examples/IPython Kernel/.ipynb_checkpoints/Custom Display Logic-checkpoint.ipynb' target='_blank'>Custom Display Logic-checkpoint.ipynb</a><br>\n",
       "&nbsp;&nbsp;<a href='./examples/IPython Kernel/.ipynb_checkpoints/Rich Output-checkpoint.ipynb' target='_blank'>Rich Output-checkpoint.ipynb</a><br>\n",
       ".\\examples\\IPython Kernel\\data/<br>\n",
       "&nbsp;&nbsp;<a href='./examples/IPython Kernel/data/flare.json' target='_blank'>flare.json</a><br>\n",
       ".\\examples\\IPython Kernel\\gui/<br>\n",
       "&nbsp;&nbsp;<a href='./examples/IPython Kernel/gui/gui-glut.py' target='_blank'>gui-glut.py</a><br>\n",
       "&nbsp;&nbsp;<a href='./examples/IPython Kernel/gui/gui-gtk.py' target='_blank'>gui-gtk.py</a><br>\n",
       "&nbsp;&nbsp;<a href='./examples/IPython Kernel/gui/gui-gtk3.py' target='_blank'>gui-gtk3.py</a><br>\n",
       "&nbsp;&nbsp;<a href='./examples/IPython Kernel/gui/gui-pyglet.py' target='_blank'>gui-pyglet.py</a><br>\n",
       "&nbsp;&nbsp;<a href='./examples/IPython Kernel/gui/gui-qt.py' target='_blank'>gui-qt.py</a><br>\n",
       "&nbsp;&nbsp;<a href='./examples/IPython Kernel/gui/gui-tk.py' target='_blank'>gui-tk.py</a><br>\n",
       "&nbsp;&nbsp;<a href='./examples/IPython Kernel/gui/gui-wx.py' target='_blank'>gui-wx.py</a><br>\n",
       ".\\examples\\IPython Kernel\\nbpackage/<br>\n",
       "&nbsp;&nbsp;<a href='./examples/IPython Kernel/nbpackage/mynotebook.ipynb' target='_blank'>mynotebook.ipynb</a><br>\n",
       "&nbsp;&nbsp;<a href='./examples/IPython Kernel/nbpackage/__init__.py' target='_blank'>__init__.py</a><br>\n",
       ".\\examples\\IPython Kernel\\nbpackage\\nbs/<br>\n",
       "&nbsp;&nbsp;<a href='./examples/IPython Kernel/nbpackage/nbs/other.ipynb' target='_blank'>other.ipynb</a><br>\n",
       "&nbsp;&nbsp;<a href='./examples/IPython Kernel/nbpackage/nbs/__init__.py' target='_blank'>__init__.py</a><br>\n",
       ".\\examples\\Interactive Widgets/<br>\n",
       "&nbsp;&nbsp;<a href='./examples/Interactive Widgets/Beat Frequencies.ipynb' target='_blank'>Beat Frequencies.ipynb</a><br>\n",
       "&nbsp;&nbsp;<a href='./examples/Interactive Widgets/Custom Widget - Hello World.ipynb' target='_blank'>Custom Widget - Hello World.ipynb</a><br>\n",
       "&nbsp;&nbsp;<a href='./examples/Interactive Widgets/Custom Widget - Spreadsheet.ipynb' target='_blank'>Custom Widget - Spreadsheet.ipynb</a><br>\n",
       "&nbsp;&nbsp;<a href='./examples/Interactive Widgets/Date Picker Widget.ipynb' target='_blank'>Date Picker Widget.ipynb</a><br>\n",
       "&nbsp;&nbsp;<a href='./examples/Interactive Widgets/Exploring Graphs.ipynb' target='_blank'>Exploring Graphs.ipynb</a><br>\n",
       "&nbsp;&nbsp;<a href='./examples/Interactive Widgets/Export As (nbconvert).html' target='_blank'>Export As (nbconvert).html</a><br>\n",
       "&nbsp;&nbsp;<a href='./examples/Interactive Widgets/Export As (nbconvert).ipynb' target='_blank'>Export As (nbconvert).ipynb</a><br>\n",
       "&nbsp;&nbsp;<a href='./examples/Interactive Widgets/Factoring.ipynb' target='_blank'>Factoring.ipynb</a><br>\n",
       "&nbsp;&nbsp;<a href='./examples/Interactive Widgets/File Upload Widget.ipynb' target='_blank'>File Upload Widget.ipynb</a><br>\n",
       "&nbsp;&nbsp;<a href='./examples/Interactive Widgets/Image Browser.ipynb' target='_blank'>Image Browser.ipynb</a><br>\n",
       "&nbsp;&nbsp;<a href='./examples/Interactive Widgets/Image Processing.ipynb' target='_blank'>Image Processing.ipynb</a><br>\n",
       "&nbsp;&nbsp;<a href='./examples/Interactive Widgets/Index.ipynb' target='_blank'>Index.ipynb</a><br>\n",
       "&nbsp;&nbsp;<a href='./examples/Interactive Widgets/Lorenz Differential Equations.ipynb' target='_blank'>Lorenz Differential Equations.ipynb</a><br>\n",
       "&nbsp;&nbsp;<a href='./examples/Interactive Widgets/Nonblocking Console.ipynb' target='_blank'>Nonblocking Console.ipynb</a><br>\n",
       "&nbsp;&nbsp;<a href='./examples/Interactive Widgets/Using Interact.ipynb' target='_blank'>Using Interact.ipynb</a><br>\n",
       "&nbsp;&nbsp;<a href='./examples/Interactive Widgets/Variable Inspector.ipynb' target='_blank'>Variable Inspector.ipynb</a><br>\n",
       "&nbsp;&nbsp;<a href='./examples/Interactive Widgets/Widget Basics.ipynb' target='_blank'>Widget Basics.ipynb</a><br>\n",
       "&nbsp;&nbsp;<a href='./examples/Interactive Widgets/Widget Events.ipynb' target='_blank'>Widget Events.ipynb</a><br>\n",
       "&nbsp;&nbsp;<a href='./examples/Interactive Widgets/Widget List.ipynb' target='_blank'>Widget List.ipynb</a><br>\n",
       "&nbsp;&nbsp;<a href='./examples/Interactive Widgets/Widget Styling.ipynb' target='_blank'>Widget Styling.ipynb</a><br>\n",
       ".\\examples\\Interactive Widgets\\images/<br>\n",
       "&nbsp;&nbsp;<a href='./examples/Interactive Widgets/images/MultilanguageKernels.graffle' target='_blank'>MultilanguageKernels.graffle</a><br>\n",
       "&nbsp;&nbsp;<a href='./examples/Interactive Widgets/images/MultilanguageKernels.png' target='_blank'>MultilanguageKernels.png</a><br>\n",
       "&nbsp;&nbsp;<a href='./examples/Interactive Widgets/images/ParallelKernels.graffle' target='_blank'>ParallelKernels.graffle</a><br>\n",
       "&nbsp;&nbsp;<a href='./examples/Interactive Widgets/images/ParallelKernels.png' target='_blank'>ParallelKernels.png</a><br>\n",
       "&nbsp;&nbsp;<a href='./examples/Interactive Widgets/images/VizInteractCompute.graffle' target='_blank'>VizInteractCompute.graffle</a><br>\n",
       "&nbsp;&nbsp;<a href='./examples/Interactive Widgets/images/VizInteractCompute.png' target='_blank'>VizInteractCompute.png</a><br>\n",
       "&nbsp;&nbsp;<a href='./examples/Interactive Widgets/images/WidgetArch.graffle' target='_blank'>WidgetArch.graffle</a><br>\n",
       "&nbsp;&nbsp;<a href='./examples/Interactive Widgets/images/WidgetArch.png' target='_blank'>WidgetArch.png</a><br>\n",
       "&nbsp;&nbsp;<a href='./examples/Interactive Widgets/images/WidgetModelView.graffle' target='_blank'>WidgetModelView.graffle</a><br>\n",
       "&nbsp;&nbsp;<a href='./examples/Interactive Widgets/images/WidgetModelView.png' target='_blank'>WidgetModelView.png</a><br>\n",
       ".\\examples\\Notebook/<br>\n",
       "&nbsp;&nbsp;<a href='./examples/Notebook/Connecting with the Qt Console.ipynb' target='_blank'>Connecting with the Qt Console.ipynb</a><br>\n",
       "&nbsp;&nbsp;<a href='./examples/Notebook/Converting Notebooks With nbconvert.ipynb' target='_blank'>Converting Notebooks With nbconvert.ipynb</a><br>\n",
       "&nbsp;&nbsp;<a href='./examples/Notebook/Custom Keyboard Shortcuts.ipynb' target='_blank'>Custom Keyboard Shortcuts.ipynb</a><br>\n",
       "&nbsp;&nbsp;<a href='./examples/Notebook/Importing Notebooks.ipynb' target='_blank'>Importing Notebooks.ipynb</a><br>\n",
       "&nbsp;&nbsp;<a href='./examples/Notebook/Index.ipynb' target='_blank'>Index.ipynb</a><br>\n",
       "&nbsp;&nbsp;<a href='./examples/Notebook/JavaScript Notebook Extensions.ipynb' target='_blank'>JavaScript Notebook Extensions.ipynb</a><br>\n",
       "&nbsp;&nbsp;<a href='./examples/Notebook/Julia and Python Bridge.ipynb' target='_blank'>Julia and Python Bridge.ipynb</a><br>\n",
       "&nbsp;&nbsp;<a href='./examples/Notebook/Multiple Languages, Frontends.ipynb' target='_blank'>Multiple Languages, Frontends.ipynb</a><br>\n",
       "&nbsp;&nbsp;<a href='./examples/Notebook/Notebook Basics.ipynb' target='_blank'>Notebook Basics.ipynb</a><br>\n",
       "&nbsp;&nbsp;<a href='./examples/Notebook/Notebook Security.ipynb' target='_blank'>Notebook Security.ipynb</a><br>\n",
       "&nbsp;&nbsp;<a href='./examples/Notebook/R Demo.ipynb' target='_blank'>R Demo.ipynb</a><br>\n",
       "&nbsp;&nbsp;<a href='./examples/Notebook/Running Code.ipynb' target='_blank'>Running Code.ipynb</a><br>\n",
       "&nbsp;&nbsp;<a href='./examples/Notebook/Running the Notebook Server.ipynb' target='_blank'>Running the Notebook Server.ipynb</a><br>\n",
       "&nbsp;&nbsp;<a href='./examples/Notebook/Typesetting Equations.ipynb' target='_blank'>Typesetting Equations.ipynb</a><br>\n",
       "&nbsp;&nbsp;<a href='./examples/Notebook/Using nbconvert as a Library.ipynb' target='_blank'>Using nbconvert as a Library.ipynb</a><br>\n",
       "&nbsp;&nbsp;<a href='./examples/Notebook/What is the IPython Notebook.ipynb' target='_blank'>What is the IPython Notebook.ipynb</a><br>\n",
       "&nbsp;&nbsp;<a href='./examples/Notebook/Working With Markdown Cells.ipynb' target='_blank'>Working With Markdown Cells.ipynb</a><br>\n",
       ".\\examples\\Notebook\\.ipynb_checkpoints/<br>\n",
       "&nbsp;&nbsp;<a href='./examples/Notebook/.ipynb_checkpoints/Multiple Languages, Frontends-checkpoint.ipynb' target='_blank'>Multiple Languages, Frontends-checkpoint.ipynb</a><br>\n",
       "&nbsp;&nbsp;<a href='./examples/Notebook/.ipynb_checkpoints/Running the Notebook Server-checkpoint.ipynb' target='_blank'>Running the Notebook Server-checkpoint.ipynb</a><br>\n",
       ".\\examples\\Notebook\\images/<br>\n",
       "&nbsp;&nbsp;<a href='./examples/Notebook/images/animation.m4v' target='_blank'>animation.m4v</a><br>\n",
       "&nbsp;&nbsp;<a href='./examples/Notebook/images/command_mode.png' target='_blank'>command_mode.png</a><br>\n",
       "&nbsp;&nbsp;<a href='./examples/Notebook/images/command_shortcuts.png' target='_blank'>command_shortcuts.png</a><br>\n",
       "&nbsp;&nbsp;<a href='./examples/Notebook/images/dashboard_clusters_tab_4_0.png' target='_blank'>dashboard_clusters_tab_4_0.png</a><br>\n",
       "&nbsp;&nbsp;<a href='./examples/Notebook/images/dashboard_notebooks_tab_5_0.png' target='_blank'>dashboard_notebooks_tab_5_0.png</a><br>\n",
       "&nbsp;&nbsp;<a href='./examples/Notebook/images/dashboard_running_tab.png' target='_blank'>dashboard_running_tab.png</a><br>\n",
       "&nbsp;&nbsp;<a href='./examples/Notebook/images/dashboard_running_tab_4_0.png' target='_blank'>dashboard_running_tab_4_0.png</a><br>\n",
       "&nbsp;&nbsp;<a href='./examples/Notebook/images/edit_mode.png' target='_blank'>edit_mode.png</a><br>\n",
       "&nbsp;&nbsp;<a href='./examples/Notebook/images/edit_shortcuts.png' target='_blank'>edit_shortcuts.png</a><br>\n",
       "&nbsp;&nbsp;<a href='./examples/Notebook/images/ipy_kernel_and_terminal.png' target='_blank'>ipy_kernel_and_terminal.png</a><br>\n",
       "&nbsp;&nbsp;<a href='./examples/Notebook/images/menubar_toolbar.png' target='_blank'>menubar_toolbar.png</a><br>\n",
       "&nbsp;&nbsp;<a href='./examples/Notebook/images/nbconvert_arch.png' target='_blank'>nbconvert_arch.png</a><br>\n",
       "&nbsp;&nbsp;<a href='./examples/Notebook/images/notebook_body_4_0.png' target='_blank'>notebook_body_4_0.png</a><br>\n",
       "&nbsp;&nbsp;<a href='./examples/Notebook/images/notebook_components.png' target='_blank'>notebook_components.png</a><br>\n",
       "&nbsp;&nbsp;<a href='./examples/Notebook/images/notebook_header_4_0.png' target='_blank'>notebook_header_4_0.png</a><br>\n",
       "&nbsp;&nbsp;<a href='./examples/Notebook/images/notebook_shortcuts_4_0.png' target='_blank'>notebook_shortcuts_4_0.png</a><br>\n",
       "&nbsp;&nbsp;<a href='./examples/Notebook/images/other_kernels.png' target='_blank'>other_kernels.png</a><br>\n",
       "&nbsp;&nbsp;<a href='./examples/Notebook/images/python-logo.svg' target='_blank'>python-logo.svg</a><br>\n",
       "&nbsp;&nbsp;<a href='./examples/Notebook/images/terminal_4_0.png' target='_blank'>terminal_4_0.png</a><br>\n",
       "&nbsp;&nbsp;<a href='./examples/Notebook/images/text_editor_4_0.png' target='_blank'>text_editor_4_0.png</a><br>\n",
       ".\\examples\\Notebook\\nbpackage/<br>\n",
       "&nbsp;&nbsp;<a href='./examples/Notebook/nbpackage/mynotebook.ipynb' target='_blank'>mynotebook.ipynb</a><br>\n",
       "&nbsp;&nbsp;<a href='./examples/Notebook/nbpackage/__init__.py' target='_blank'>__init__.py</a><br>\n",
       ".\\examples\\Notebook\\nbpackage\\nbs/<br>\n",
       "&nbsp;&nbsp;<a href='./examples/Notebook/nbpackage/nbs/other.ipynb' target='_blank'>other.ipynb</a><br>\n",
       "&nbsp;&nbsp;<a href='./examples/Notebook/nbpackage/nbs/__init__.py' target='_blank'>__init__.py</a><br>\n",
       ".\\examples\\Parallel Computing/<br>\n",
       "&nbsp;&nbsp;<a href='./examples/Parallel Computing/customresults.py' target='_blank'>customresults.py</a><br>\n",
       "&nbsp;&nbsp;<a href='./examples/Parallel Computing/dagdeps.py' target='_blank'>dagdeps.py</a><br>\n",
       "&nbsp;&nbsp;<a href='./examples/Parallel Computing/Data Publication API.ipynb' target='_blank'>Data Publication API.ipynb</a><br>\n",
       "&nbsp;&nbsp;<a href='./examples/Parallel Computing/dependencies.py' target='_blank'>dependencies.py</a><br>\n",
       "&nbsp;&nbsp;<a href='./examples/Parallel Computing/fetchparse.py' target='_blank'>fetchparse.py</a><br>\n",
       "&nbsp;&nbsp;<a href='./examples/Parallel Computing/Index.ipynb' target='_blank'>Index.ipynb</a><br>\n",
       "&nbsp;&nbsp;<a href='./examples/Parallel Computing/iopubwatcher.py' target='_blank'>iopubwatcher.py</a><br>\n",
       "&nbsp;&nbsp;<a href='./examples/Parallel Computing/itermapresult.py' target='_blank'>itermapresult.py</a><br>\n",
       "&nbsp;&nbsp;<a href='./examples/Parallel Computing/Monitoring an MPI Simulation - 1.ipynb' target='_blank'>Monitoring an MPI Simulation - 1.ipynb</a><br>\n",
       "&nbsp;&nbsp;<a href='./examples/Parallel Computing/Monitoring an MPI Simulation - 2.ipynb' target='_blank'>Monitoring an MPI Simulation - 2.ipynb</a><br>\n",
       "&nbsp;&nbsp;<a href='./examples/Parallel Computing/Monte Carlo Options.ipynb' target='_blank'>Monte Carlo Options.ipynb</a><br>\n",
       "&nbsp;&nbsp;<a href='./examples/Parallel Computing/nwmerge.py' target='_blank'>nwmerge.py</a><br>\n",
       "&nbsp;&nbsp;<a href='./examples/Parallel Computing/Parallel Decorator and map.ipynb' target='_blank'>Parallel Decorator and map.ipynb</a><br>\n",
       "&nbsp;&nbsp;<a href='./examples/Parallel Computing/Parallel Magics.ipynb' target='_blank'>Parallel Magics.ipynb</a><br>\n",
       "&nbsp;&nbsp;<a href='./examples/Parallel Computing/phistogram.py' target='_blank'>phistogram.py</a><br>\n",
       "&nbsp;&nbsp;<a href='./examples/Parallel Computing/task_profiler.py' target='_blank'>task_profiler.py</a><br>\n",
       "&nbsp;&nbsp;<a href='./examples/Parallel Computing/throughput.py' target='_blank'>throughput.py</a><br>\n",
       "&nbsp;&nbsp;<a href='./examples/Parallel Computing/Using Dill.ipynb' target='_blank'>Using Dill.ipynb</a><br>\n",
       "&nbsp;&nbsp;<a href='./examples/Parallel Computing/Using MPI with IPython Parallel.ipynb' target='_blank'>Using MPI with IPython Parallel.ipynb</a><br>\n",
       ".\\examples\\Parallel Computing\\daVinci Word Count/<br>\n",
       "&nbsp;&nbsp;<a href='./examples/Parallel Computing/daVinci Word Count/pwordfreq.py' target='_blank'>pwordfreq.py</a><br>\n",
       "&nbsp;&nbsp;<a href='./examples/Parallel Computing/daVinci Word Count/wordfreq.py' target='_blank'>wordfreq.py</a><br>\n",
       ".\\examples\\Parallel Computing\\interengine/<br>\n",
       "&nbsp;&nbsp;<a href='./examples/Parallel Computing/interengine/bintree.py' target='_blank'>bintree.py</a><br>\n",
       "&nbsp;&nbsp;<a href='./examples/Parallel Computing/interengine/bintree_script.py' target='_blank'>bintree_script.py</a><br>\n",
       "&nbsp;&nbsp;<a href='./examples/Parallel Computing/interengine/communicator.py' target='_blank'>communicator.py</a><br>\n",
       "&nbsp;&nbsp;<a href='./examples/Parallel Computing/interengine/interengine.py' target='_blank'>interengine.py</a><br>\n",
       ".\\examples\\Parallel Computing\\pi/<br>\n",
       "&nbsp;&nbsp;<a href='./examples/Parallel Computing/pi/parallelpi.py' target='_blank'>parallelpi.py</a><br>\n",
       "&nbsp;&nbsp;<a href='./examples/Parallel Computing/pi/pidigits.py' target='_blank'>pidigits.py</a><br>\n",
       ".\\examples\\Parallel Computing\\rmt/<br>\n",
       "&nbsp;&nbsp;<a href='./examples/Parallel Computing/rmt/rmt.ipy' target='_blank'>rmt.ipy</a><br>\n",
       "&nbsp;&nbsp;<a href='./examples/Parallel Computing/rmt/rmt.ipynb' target='_blank'>rmt.ipynb</a><br>\n",
       "&nbsp;&nbsp;<a href='./examples/Parallel Computing/rmt/rmtkernel.py' target='_blank'>rmtkernel.py</a><br>\n",
       ".\\examples\\Parallel Computing\\wave2D/<br>\n",
       "&nbsp;&nbsp;<a href='./examples/Parallel Computing/wave2D/communicator.py' target='_blank'>communicator.py</a><br>\n",
       "&nbsp;&nbsp;<a href='./examples/Parallel Computing/wave2D/parallelwave-mpi.py' target='_blank'>parallelwave-mpi.py</a><br>\n",
       "&nbsp;&nbsp;<a href='./examples/Parallel Computing/wave2D/parallelwave.py' target='_blank'>parallelwave.py</a><br>\n",
       "&nbsp;&nbsp;<a href='./examples/Parallel Computing/wave2D/RectPartitioner.py' target='_blank'>RectPartitioner.py</a><br>\n",
       "&nbsp;&nbsp;<a href='./examples/Parallel Computing/wave2D/wavesolver.py' target='_blank'>wavesolver.py</a><br>\n",
       ".\\examples\\Parallel Computing\\workflow/<br>\n",
       "&nbsp;&nbsp;<a href='./examples/Parallel Computing/workflow/client.py' target='_blank'>client.py</a><br>\n",
       "&nbsp;&nbsp;<a href='./examples/Parallel Computing/workflow/job_wrapper.py' target='_blank'>job_wrapper.py</a><br>\n",
       "&nbsp;&nbsp;<a href='./examples/Parallel Computing/workflow/wmanager.py' target='_blank'>wmanager.py</a><br>\n",
       ".\\examples\\images/<br>\n",
       "&nbsp;&nbsp;<a href='./examples/images/animation.m4v' target='_blank'>animation.m4v</a><br>\n",
       "&nbsp;&nbsp;<a href='./examples/images/FrontendKernel.png' target='_blank'>FrontendKernel.png</a><br>\n",
       "&nbsp;&nbsp;<a href='./examples/images/ipython_logo.png' target='_blank'>ipython_logo.png</a><br>\n",
       "&nbsp;&nbsp;<a href='./examples/images/python_logo.svg' target='_blank'>python_logo.svg</a><br>\n",
       ".\\examples\\images\\FrontendKernel.graffle/<br>\n",
       "&nbsp;&nbsp;<a href='./examples/images/FrontendKernel.graffle/data.plist' target='_blank'>data.plist</a><br>\n",
       "&nbsp;&nbsp;<a href='./examples/images/FrontendKernel.graffle/image1.png' target='_blank'>image1.png</a><br>\n",
       ".\\examples\\utils/<br>\n",
       "&nbsp;&nbsp;<a href='./examples/utils/list_pyfiles.ipy' target='_blank'>list_pyfiles.ipy</a><br>\n",
       "&nbsp;&nbsp;<a href='./examples/utils/list_subdirs.ipy' target='_blank'>list_subdirs.ipy</a><br>\n",
       ".\\exercises\\Customization/<br>\n",
       "&nbsp;&nbsp;<a href='./exercises/Customization/Condensed.ipynb' target='_blank'>Condensed.ipynb</a><br>\n",
       "&nbsp;&nbsp;<a href='./exercises/Customization/Configuration.ipynb' target='_blank'>Configuration.ipynb</a><br>\n",
       "&nbsp;&nbsp;<a href='./exercises/Customization/Custom magic and cross language integration.ipynb' target='_blank'>Custom magic and cross language integration.ipynb</a><br>\n",
       "&nbsp;&nbsp;<a href='./exercises/Customization/Extension.ipynb' target='_blank'>Extension.ipynb</a><br>\n",
       "&nbsp;&nbsp;<a href='./exercises/Customization/Magics.ipynb' target='_blank'>Magics.ipynb</a><br>\n",
       "&nbsp;&nbsp;<a href='./exercises/Customization/tictoc_solution.py' target='_blank'>tictoc_solution.py</a><br>\n",
       "&nbsp;&nbsp;<a href='./exercises/Customization/_Sample.ipynb' target='_blank'>_Sample.ipynb</a><br>\n",
       ".\\exercises\\Customization\\.ipynb_checkpoints/<br>\n",
       "&nbsp;&nbsp;<a href='./exercises/Customization/.ipynb_checkpoints/Condensed-checkpoint.ipynb' target='_blank'>Condensed-checkpoint.ipynb</a><br>\n",
       ".\\exercises\\Customization\\soln/<br>\n",
       "&nbsp;&nbsp;<a href='./exercises/Customization/soln/mymagics.py' target='_blank'>mymagics.py</a><br>\n",
       "&nbsp;&nbsp;<a href='./exercises/Customization/soln/nbrun.py' target='_blank'>nbrun.py</a><br>\n",
       "&nbsp;&nbsp;<a href='./exercises/Customization/soln/scalemagic.py' target='_blank'>scalemagic.py</a><br>\n",
       "&nbsp;&nbsp;<a href='./exercises/Customization/soln/tictocf.py' target='_blank'>tictocf.py</a><br>\n",
       ".\\exercises\\Embedding/<br>\n",
       "&nbsp;&nbsp;<a href='./exercises/Embedding/kapp.py' target='_blank'>kapp.py</a><br>\n",
       ".\\exercises\\IPython Kernel/<br>\n",
       "&nbsp;&nbsp;<a href='./exercises/IPython Kernel/Background Jobs Exercises.ipynb' target='_blank'>Background Jobs Exercises.ipynb</a><br>\n",
       "&nbsp;&nbsp;<a href='./exercises/IPython Kernel/Custom Display Logic Exercises.ipynb' target='_blank'>Custom Display Logic Exercises.ipynb</a><br>\n",
       "&nbsp;&nbsp;<a href='./exercises/IPython Kernel/Rich Output Exercises.ipynb' target='_blank'>Rich Output Exercises.ipynb</a><br>\n",
       ".\\exercises\\IPython Kernel\\soln/<br>\n",
       "&nbsp;&nbsp;<a href='./exercises/IPython Kernel/soln/mycircle.py' target='_blank'>mycircle.py</a><br>\n",
       "&nbsp;&nbsp;<a href='./exercises/IPython Kernel/soln/mycircle_png.py' target='_blank'>mycircle_png.py</a><br>\n",
       "&nbsp;&nbsp;<a href='./exercises/IPython Kernel/soln/ndarray_png.py' target='_blank'>ndarray_png.py</a><br>\n",
       "&nbsp;&nbsp;<a href='./exercises/IPython Kernel/soln/soundcloud.ipy' target='_blank'>soundcloud.ipy</a><br>\n",
       ".\\exercises\\Interactive Widgets/<br>\n",
       "&nbsp;&nbsp;<a href='./exercises/Interactive Widgets/Interact Exercises.ipynb' target='_blank'>Interact Exercises.ipynb</a><br>\n",
       "&nbsp;&nbsp;<a href='./exercises/Interactive Widgets/Widget Exercises.ipynb' target='_blank'>Widget Exercises.ipynb</a><br>\n",
       ".\\exercises\\Interactive Widgets\\soln/<br>\n",
       "&nbsp;&nbsp;<a href='./exercises/Interactive Widgets/soln/colored.py' target='_blank'>colored.py</a><br>\n",
       "&nbsp;&nbsp;<a href='./exercises/Interactive Widgets/soln/data_explorer.py' target='_blank'>data_explorer.py</a><br>\n",
       "&nbsp;&nbsp;<a href='./exercises/Interactive Widgets/soln/displaying.py' target='_blank'>displaying.py</a><br>\n",
       "&nbsp;&nbsp;<a href='./exercises/Interactive Widgets/soln/link.py' target='_blank'>link.py</a><br>\n",
       "&nbsp;&nbsp;<a href='./exercises/Interactive Widgets/soln/on_submit.py' target='_blank'>on_submit.py</a><br>\n",
       "&nbsp;&nbsp;<a href='./exercises/Interactive Widgets/soln/on_trait_change.py' target='_blank'>on_trait_change.py</a><br>\n",
       "&nbsp;&nbsp;<a href='./exercises/Interactive Widgets/soln/param_plot_1.py' target='_blank'>param_plot_1.py</a><br>\n",
       "&nbsp;&nbsp;<a href='./exercises/Interactive Widgets/soln/param_plot_2.py' target='_blank'>param_plot_2.py</a><br>\n",
       "&nbsp;&nbsp;<a href='./exercises/Interactive Widgets/soln/selection.py' target='_blank'>selection.py</a><br>\n",
       "&nbsp;&nbsp;<a href='./exercises/Interactive Widgets/soln/sliders.py' target='_blank'>sliders.py</a><br>\n",
       "&nbsp;&nbsp;<a href='./exercises/Interactive Widgets/soln/string_sorting.py' target='_blank'>string_sorting.py</a><br>\n",
       ".\\exercises\\Notebook/<br>\n",
       "&nbsp;&nbsp;<a href='./exercises/Notebook/Notebook Exercises.ipynb' target='_blank'>Notebook Exercises.ipynb</a><br>\n",
       ".\\exercises\\Notebook\\images/<br>\n",
       "&nbsp;&nbsp;<a href='./exercises/Notebook/images/animation.m4v' target='_blank'>animation.m4v</a><br>\n",
       "&nbsp;&nbsp;<a href='./exercises/Notebook/images/python_logo.svg' target='_blank'>python_logo.svg</a><br>\n",
       ".\\exercises\\Notebook\\soln/<br>\n",
       "&nbsp;&nbsp;<a href='./exercises/Notebook/soln/load.py' target='_blank'>load.py</a><br>\n",
       ".\\exercises\\Parallel Computing/<br>\n",
       "&nbsp;&nbsp;<a href='./exercises/Parallel Computing/haarcascade_frontalface_default.xml' target='_blank'>haarcascade_frontalface_default.xml</a><br>\n",
       "&nbsp;&nbsp;<a href='./exercises/Parallel Computing/Overview of IPython.parallel.ipynb' target='_blank'>Overview of IPython.parallel.ipynb</a><br>\n",
       "&nbsp;&nbsp;<a href='./exercises/Parallel Computing/Parallel Example - Remote Iteration.ipynb' target='_blank'>Parallel Example - Remote Iteration.ipynb</a><br>\n",
       "&nbsp;&nbsp;<a href='./exercises/Parallel Computing/Parallel face detection (no download).ipynb' target='_blank'>Parallel face detection (no download).ipynb</a><br>\n",
       "&nbsp;&nbsp;<a href='./exercises/Parallel Computing/Parallel face detection.ipynb' target='_blank'>Parallel face detection.ipynb</a><br>\n",
       "&nbsp;&nbsp;<a href='./exercises/Parallel Computing/starcluster_config' target='_blank'>starcluster_config</a><br>\n",
       "&nbsp;&nbsp;<a href='./exercises/Parallel Computing/Using DirectView and LoadBalancedView Together.ipynb' target='_blank'>Using DirectView and LoadBalancedView Together.ipynb</a><br>\n",
       ".\\exercises\\images/<br>\n",
       "&nbsp;&nbsp;<a href='./exercises/images/allconnections.png' target='_blank'>allconnections.png</a><br>\n",
       "&nbsp;&nbsp;<a href='./exercises/images/coffee.npy' target='_blank'>coffee.npy</a><br>\n",
       "&nbsp;&nbsp;<a href='./exercises/images/command_mode.png' target='_blank'>command_mode.png</a><br>\n",
       "&nbsp;&nbsp;<a href='./exercises/images/darts.png' target='_blank'>darts.png</a><br>\n",
       "&nbsp;&nbsp;<a href='./exercises/images/edit_mode.png' target='_blank'>edit_mode.png</a><br>\n",
       "&nbsp;&nbsp;<a href='./exercises/images/ipcluster-kernels.png' target='_blank'>ipcluster-kernels.png</a><br>\n",
       "&nbsp;&nbsp;<a href='./exercises/images/latency.png' target='_blank'>latency.png</a><br>\n",
       "&nbsp;&nbsp;<a href='./exercises/images/latency2.png' target='_blank'>latency2.png</a><br>\n",
       "&nbsp;&nbsp;<a href='./exercises/images/map.png' target='_blank'>map.png</a><br>\n",
       "&nbsp;&nbsp;<a href='./exercises/images/throughput1.png' target='_blank'>throughput1.png</a><br>\n",
       "&nbsp;&nbsp;<a href='./exercises/images/throughput2.png' target='_blank'>throughput2.png</a><br>\n",
       "&nbsp;&nbsp;<a href='./exercises/images/wideView.png' target='_blank'>wideView.png</a><br>\n",
       "&nbsp;&nbsp;<a href='./exercises/images/wideView400.png' target='_blank'>wideView400.png</a><br>\n",
       ".\\exercises\\soln/<br>\n",
       "&nbsp;&nbsp;<a href='./exercises/soln/bash-script' target='_blank'>bash-script</a><br>\n",
       "&nbsp;&nbsp;<a href='./exercises/soln/celldiff.js' target='_blank'>celldiff.js</a><br>\n",
       "&nbsp;&nbsp;<a href='./exercises/soln/coloreddiff.tpl' target='_blank'>coloreddiff.tpl</a><br>\n",
       "&nbsp;&nbsp;<a href='./exercises/soln/interactive' target='_blank'>interactive</a><br>\n",
       "&nbsp;&nbsp;<a href='./exercises/soln/italicstr.py' target='_blank'>italicstr.py</a><br>\n",
       "&nbsp;&nbsp;<a href='./exercises/soln/lnum.py' target='_blank'>lnum.py</a><br>\n",
       "&nbsp;&nbsp;<a href='./exercises/soln/nestedloop.py' target='_blank'>nestedloop.py</a><br>\n",
       "&nbsp;&nbsp;<a href='./exercises/soln/plotscale.py' target='_blank'>plotscale.py</a><br>\n",
       "&nbsp;&nbsp;<a href='./exercises/soln/remote_iter.py' target='_blank'>remote_iter.py</a><br>\n",
       "&nbsp;&nbsp;<a href='./exercises/soln/remote_iter_hint.py' target='_blank'>remote_iter_hint.py</a><br>\n",
       "&nbsp;&nbsp;<a href='./exercises/soln/remote_iter_slightly_better.py' target='_blank'>remote_iter_slightly_better.py</a><br>\n",
       "&nbsp;&nbsp;<a href='./exercises/soln/soundcloud.py' target='_blank'>soundcloud.py</a><br>\n",
       "&nbsp;&nbsp;<a href='./exercises/soln/taylor.py' target='_blank'>taylor.py</a><br>\n",
       "&nbsp;&nbsp;<a href='./exercises/soln/tictoc.py' target='_blank'>tictoc.py</a><br>\n",
       ".\\tools/<br>\n",
       "&nbsp;&nbsp;<a href='./tools/nbmerge.py' target='_blank'>nbmerge.py</a><br>"
      ],
      "text/plain": [
       "./\n",
       "  .gitignore\n",
       "  Assignment 1.ipynb\n",
       "  Assignment 1.txt\n",
       "  fabfile.py\n",
       "  Index.ipynb\n",
       "  LICENSE\n",
       "  log.py\n",
       "  mod.py\n",
       "  monitor.sh\n",
       "  pycon-2015-abstract.md\n",
       "  pycon-submission.md\n",
       "  README.md\n",
       "  test.txt\n",
       ".\\.git/\n",
       "  config\n",
       "  description\n",
       "  HEAD\n",
       "  index\n",
       "  packed-refs\n",
       ".\\.git\\hooks/\n",
       "  applypatch-msg.sample\n",
       "  commit-msg.sample\n",
       "  fsmonitor-watchman.sample\n",
       "  post-update.sample\n",
       "  pre-applypatch.sample\n",
       "  pre-commit.sample\n",
       "  pre-merge-commit.sample\n",
       "  pre-push.sample\n",
       "  pre-rebase.sample\n",
       "  pre-receive.sample\n",
       "  prepare-commit-msg.sample\n",
       "  push-to-checkout.sample\n",
       "  update.sample\n",
       ".\\.git\\info/\n",
       "  exclude\n",
       ".\\.git\\logs/\n",
       "  HEAD\n",
       ".\\.git\\logs\\refs\\heads/\n",
       "  master\n",
       ".\\.git\\logs\\refs\\remotes\\origin/\n",
       "  HEAD\n",
       ".\\.git\\objects\\pack/\n",
       "  pack-dd414f5ab49992f00c580152308d4f75a6825501.idx\n",
       "  pack-dd414f5ab49992f00c580152308d4f75a6825501.pack\n",
       ".\\.git\\refs\\heads/\n",
       "  master\n",
       ".\\.git\\refs\\remotes\\origin/\n",
       "  HEAD\n",
       ".\\.ipynb_checkpoints/\n",
       "  Assignment 1-checkpoint.ipynb\n",
       "  Index-checkpoint.ipynb\n",
       ".\\__pycache__/\n",
       "  mod.cpython-37.pyc\n",
       ".\\binder/\n",
       "  apt.txt\n",
       "  environment.yml\n",
       "  Index.ipynb\n",
       ".\\examples/\n",
       "  Index.ipynb\n",
       ".\\examples\\Builtin Extensions/\n",
       "  Cython Magics.ipynb\n",
       "  Index.ipynb\n",
       "  Octave Magic.ipynb\n",
       "  R Magics.ipynb\n",
       ".\\examples\\Builtin Extensions\\.ipynb_checkpoints/\n",
       "  Index-checkpoint.ipynb\n",
       ".\\examples\\Embedding/\n",
       "  embed_class_long.py\n",
       "  embed_class_short.py\n",
       "  embed_function.py\n",
       "  Index.ipynb\n",
       "  inprocess_qtconsole.py\n",
       "  inprocess_terminal.py\n",
       "  internal_ipkernel.py\n",
       "  ipkernel_qtapp.py\n",
       "  ipkernel_wxapp.py\n",
       ".\\examples\\IPython Kernel/\n",
       "  Animations Using clear_output.ipynb\n",
       "  Background Jobs.ipynb\n",
       "  Beyond Plain Python.ipynb\n",
       "  Capturing Output.ipynb\n",
       "  Cell Magics.ipynb\n",
       "  Custom Display Logic.ipynb\n",
       "  example-demo.py\n",
       "  Importing Notebooks.ipynb\n",
       "  Index.ipynb\n",
       "  ipython-completion.bash\n",
       "  ipython-get-history.py\n",
       "  ipython-qtconsole.desktop\n",
       "  ipython.desktop\n",
       "  Old Custom Display Logic.ipynb\n",
       "  Plotting in the Notebook.ipynb\n",
       "  Raw Input in the Notebook.ipynb\n",
       "  Rich Output.ipynb\n",
       "  Script Magics.ipynb\n",
       "  SymPy.ipynb\n",
       "  Terminal Usage.ipynb\n",
       "  Third Party Rich Output.ipynb\n",
       "  Trapezoid Rule.ipynb\n",
       "  Updating Displays.ipynb\n",
       "  Working With External Code.ipynb\n",
       ".\\examples\\IPython Kernel\\.ipynb_checkpoints/\n",
       "  Beyond Plain Python-checkpoint.ipynb\n",
       "  Custom Display Logic-checkpoint.ipynb\n",
       "  Rich Output-checkpoint.ipynb\n",
       ".\\examples\\IPython Kernel\\data/\n",
       "  flare.json\n",
       ".\\examples\\IPython Kernel\\gui/\n",
       "  gui-glut.py\n",
       "  gui-gtk.py\n",
       "  gui-gtk3.py\n",
       "  gui-pyglet.py\n",
       "  gui-qt.py\n",
       "  gui-tk.py\n",
       "  gui-wx.py\n",
       ".\\examples\\IPython Kernel\\nbpackage/\n",
       "  mynotebook.ipynb\n",
       "  __init__.py\n",
       ".\\examples\\IPython Kernel\\nbpackage\\nbs/\n",
       "  other.ipynb\n",
       "  __init__.py\n",
       ".\\examples\\Interactive Widgets/\n",
       "  Beat Frequencies.ipynb\n",
       "  Custom Widget - Hello World.ipynb\n",
       "  Custom Widget - Spreadsheet.ipynb\n",
       "  Date Picker Widget.ipynb\n",
       "  Exploring Graphs.ipynb\n",
       "  Export As (nbconvert).html\n",
       "  Export As (nbconvert).ipynb\n",
       "  Factoring.ipynb\n",
       "  File Upload Widget.ipynb\n",
       "  Image Browser.ipynb\n",
       "  Image Processing.ipynb\n",
       "  Index.ipynb\n",
       "  Lorenz Differential Equations.ipynb\n",
       "  Nonblocking Console.ipynb\n",
       "  Using Interact.ipynb\n",
       "  Variable Inspector.ipynb\n",
       "  Widget Basics.ipynb\n",
       "  Widget Events.ipynb\n",
       "  Widget List.ipynb\n",
       "  Widget Styling.ipynb\n",
       ".\\examples\\Interactive Widgets\\images/\n",
       "  MultilanguageKernels.graffle\n",
       "  MultilanguageKernels.png\n",
       "  ParallelKernels.graffle\n",
       "  ParallelKernels.png\n",
       "  VizInteractCompute.graffle\n",
       "  VizInteractCompute.png\n",
       "  WidgetArch.graffle\n",
       "  WidgetArch.png\n",
       "  WidgetModelView.graffle\n",
       "  WidgetModelView.png\n",
       ".\\examples\\Notebook/\n",
       "  Connecting with the Qt Console.ipynb\n",
       "  Converting Notebooks With nbconvert.ipynb\n",
       "  Custom Keyboard Shortcuts.ipynb\n",
       "  Importing Notebooks.ipynb\n",
       "  Index.ipynb\n",
       "  JavaScript Notebook Extensions.ipynb\n",
       "  Julia and Python Bridge.ipynb\n",
       "  Multiple Languages, Frontends.ipynb\n",
       "  Notebook Basics.ipynb\n",
       "  Notebook Security.ipynb\n",
       "  R Demo.ipynb\n",
       "  Running Code.ipynb\n",
       "  Running the Notebook Server.ipynb\n",
       "  Typesetting Equations.ipynb\n",
       "  Using nbconvert as a Library.ipynb\n",
       "  What is the IPython Notebook.ipynb\n",
       "  Working With Markdown Cells.ipynb\n",
       ".\\examples\\Notebook\\.ipynb_checkpoints/\n",
       "  Multiple Languages, Frontends-checkpoint.ipynb\n",
       "  Running the Notebook Server-checkpoint.ipynb\n",
       ".\\examples\\Notebook\\images/\n",
       "  animation.m4v\n",
       "  command_mode.png\n",
       "  command_shortcuts.png\n",
       "  dashboard_clusters_tab_4_0.png\n",
       "  dashboard_notebooks_tab_5_0.png\n",
       "  dashboard_running_tab.png\n",
       "  dashboard_running_tab_4_0.png\n",
       "  edit_mode.png\n",
       "  edit_shortcuts.png\n",
       "  ipy_kernel_and_terminal.png\n",
       "  menubar_toolbar.png\n",
       "  nbconvert_arch.png\n",
       "  notebook_body_4_0.png\n",
       "  notebook_components.png\n",
       "  notebook_header_4_0.png\n",
       "  notebook_shortcuts_4_0.png\n",
       "  other_kernels.png\n",
       "  python-logo.svg\n",
       "  terminal_4_0.png\n",
       "  text_editor_4_0.png\n",
       ".\\examples\\Notebook\\nbpackage/\n",
       "  mynotebook.ipynb\n",
       "  __init__.py\n",
       ".\\examples\\Notebook\\nbpackage\\nbs/\n",
       "  other.ipynb\n",
       "  __init__.py\n",
       ".\\examples\\Parallel Computing/\n",
       "  customresults.py\n",
       "  dagdeps.py\n",
       "  Data Publication API.ipynb\n",
       "  dependencies.py\n",
       "  fetchparse.py\n",
       "  Index.ipynb\n",
       "  iopubwatcher.py\n",
       "  itermapresult.py\n",
       "  Monitoring an MPI Simulation - 1.ipynb\n",
       "  Monitoring an MPI Simulation - 2.ipynb\n",
       "  Monte Carlo Options.ipynb\n",
       "  nwmerge.py\n",
       "  Parallel Decorator and map.ipynb\n",
       "  Parallel Magics.ipynb\n",
       "  phistogram.py\n",
       "  task_profiler.py\n",
       "  throughput.py\n",
       "  Using Dill.ipynb\n",
       "  Using MPI with IPython Parallel.ipynb\n",
       ".\\examples\\Parallel Computing\\daVinci Word Count/\n",
       "  pwordfreq.py\n",
       "  wordfreq.py\n",
       ".\\examples\\Parallel Computing\\interengine/\n",
       "  bintree.py\n",
       "  bintree_script.py\n",
       "  communicator.py\n",
       "  interengine.py\n",
       ".\\examples\\Parallel Computing\\pi/\n",
       "  parallelpi.py\n",
       "  pidigits.py\n",
       ".\\examples\\Parallel Computing\\rmt/\n",
       "  rmt.ipy\n",
       "  rmt.ipynb\n",
       "  rmtkernel.py\n",
       ".\\examples\\Parallel Computing\\wave2D/\n",
       "  communicator.py\n",
       "  parallelwave-mpi.py\n",
       "  parallelwave.py\n",
       "  RectPartitioner.py\n",
       "  wavesolver.py\n",
       ".\\examples\\Parallel Computing\\workflow/\n",
       "  client.py\n",
       "  job_wrapper.py\n",
       "  wmanager.py\n",
       ".\\examples\\images/\n",
       "  animation.m4v\n",
       "  FrontendKernel.png\n",
       "  ipython_logo.png\n",
       "  python_logo.svg\n",
       ".\\examples\\images\\FrontendKernel.graffle/\n",
       "  data.plist\n",
       "  image1.png\n",
       ".\\examples\\utils/\n",
       "  list_pyfiles.ipy\n",
       "  list_subdirs.ipy\n",
       ".\\exercises\\Customization/\n",
       "  Condensed.ipynb\n",
       "  Configuration.ipynb\n",
       "  Custom magic and cross language integration.ipynb\n",
       "  Extension.ipynb\n",
       "  Magics.ipynb\n",
       "  tictoc_solution.py\n",
       "  _Sample.ipynb\n",
       ".\\exercises\\Customization\\.ipynb_checkpoints/\n",
       "  Condensed-checkpoint.ipynb\n",
       ".\\exercises\\Customization\\soln/\n",
       "  mymagics.py\n",
       "  nbrun.py\n",
       "  scalemagic.py\n",
       "  tictocf.py\n",
       ".\\exercises\\Embedding/\n",
       "  kapp.py\n",
       ".\\exercises\\IPython Kernel/\n",
       "  Background Jobs Exercises.ipynb\n",
       "  Custom Display Logic Exercises.ipynb\n",
       "  Rich Output Exercises.ipynb\n",
       ".\\exercises\\IPython Kernel\\soln/\n",
       "  mycircle.py\n",
       "  mycircle_png.py\n",
       "  ndarray_png.py\n",
       "  soundcloud.ipy\n",
       ".\\exercises\\Interactive Widgets/\n",
       "  Interact Exercises.ipynb\n",
       "  Widget Exercises.ipynb\n",
       ".\\exercises\\Interactive Widgets\\soln/\n",
       "  colored.py\n",
       "  data_explorer.py\n",
       "  displaying.py\n",
       "  link.py\n",
       "  on_submit.py\n",
       "  on_trait_change.py\n",
       "  param_plot_1.py\n",
       "  param_plot_2.py\n",
       "  selection.py\n",
       "  sliders.py\n",
       "  string_sorting.py\n",
       ".\\exercises\\Notebook/\n",
       "  Notebook Exercises.ipynb\n",
       ".\\exercises\\Notebook\\images/\n",
       "  animation.m4v\n",
       "  python_logo.svg\n",
       ".\\exercises\\Notebook\\soln/\n",
       "  load.py\n",
       ".\\exercises\\Parallel Computing/\n",
       "  haarcascade_frontalface_default.xml\n",
       "  Overview of IPython.parallel.ipynb\n",
       "  Parallel Example - Remote Iteration.ipynb\n",
       "  Parallel face detection (no download).ipynb\n",
       "  Parallel face detection.ipynb\n",
       "  starcluster_config\n",
       "  Using DirectView and LoadBalancedView Together.ipynb\n",
       ".\\exercises\\images/\n",
       "  allconnections.png\n",
       "  coffee.npy\n",
       "  command_mode.png\n",
       "  darts.png\n",
       "  edit_mode.png\n",
       "  ipcluster-kernels.png\n",
       "  latency.png\n",
       "  latency2.png\n",
       "  map.png\n",
       "  throughput1.png\n",
       "  throughput2.png\n",
       "  wideView.png\n",
       "  wideView400.png\n",
       ".\\exercises\\soln/\n",
       "  bash-script\n",
       "  celldiff.js\n",
       "  coloreddiff.tpl\n",
       "  interactive\n",
       "  italicstr.py\n",
       "  lnum.py\n",
       "  nestedloop.py\n",
       "  plotscale.py\n",
       "  remote_iter.py\n",
       "  remote_iter_hint.py\n",
       "  remote_iter_slightly_better.py\n",
       "  soundcloud.py\n",
       "  taylor.py\n",
       "  tictoc.py\n",
       ".\\tools/\n",
       "  nbmerge.py"
      ]
     },
     "execution_count": 79,
     "metadata": {},
     "output_type": "execute_result"
    }
   ],
   "source": [
    "FileLinks('.')"
   ]
  },
  {
   "cell_type": "code",
   "execution_count": 80,
   "id": "1648ab66",
   "metadata": {},
   "outputs": [],
   "source": [
    "from IPython.display import (\n",
    "    display, display_html, display_png, display_svg\n",
    ")"
   ]
  },
  {
   "cell_type": "code",
   "execution_count": 81,
   "id": "c9c5e824",
   "metadata": {},
   "outputs": [],
   "source": [
    "%matplotlib inline\n",
    "import numpy as np\n",
    "import matplotlib.pyplot as plt"
   ]
  },
  {
   "cell_type": "code",
   "execution_count": 82,
   "id": "1cd4cd54",
   "metadata": {},
   "outputs": [],
   "source": [
    "from IPython.core.pylabtools import print_figure\n",
    "from IPython.display import Image, SVG, Math\n",
    "\n",
    "class Gaussian(object):\n",
    "    \"\"\"A simple object holding data sampled from a Gaussian distribution.\n",
    "    \"\"\"\n",
    "    def __init__(self, mean=0.0, std=1, size=1000):\n",
    "        self.data = np.random.normal(mean, std, size)\n",
    "        self.mean = mean\n",
    "        self.std = std\n",
    "        self.size = size\n",
    "        # For caching plots that may be expensive to compute\n",
    "        self._png_data = None\n",
    "        \n",
    "    def _figure_data(self, format):\n",
    "        fig, ax = plt.subplots()\n",
    "        ax.hist(self.data, bins=50)\n",
    "        ax.set_title(self._repr_latex_())\n",
    "        ax.set_xlim(-10.0,10.0)\n",
    "        data = print_figure(fig, format)\n",
    "        # We MUST close the figure, otherwise IPython's display machinery\n",
    "        # will pick it up and send it as output, resulting in a double display\n",
    "        plt.close(fig)\n",
    "        return data\n",
    "        \n",
    "    def _repr_png_(self):\n",
    "        if self._png_data is None:\n",
    "            self._png_data = self._figure_data('png')\n",
    "        return self._png_data\n",
    "    \n",
    "    def _repr_latex_(self):\n",
    "        return r'$\\mathcal{N}(\\mu=%.2g, \\sigma=%.2g),\\ N=%d$' % (self.mean,\n",
    "                                                                 self.std, self.size)"
   ]
  },
  {
   "cell_type": "code",
   "execution_count": 83,
   "id": "d9a10328",
   "metadata": {},
   "outputs": [
    {
     "data": {
      "image/png": "[encoded data removed]",
      "text/latex": [
       "$\\mathcal{N}(\\mu=2, \\sigma=1),\\ N=1000$"
      ],
      "text/plain": [
       "<__main__.Gaussian at 0x21207c4fd08>"
      ]
     },
     "execution_count": 83,
     "metadata": {},
     "output_type": "execute_result"
    }
   ],
   "source": [
    "x = Gaussian(2.0, 1.0)\n",
    "x"
   ]
  },
  {
   "cell_type": "code",
   "execution_count": 84,
   "id": "be31207a",
   "metadata": {},
   "outputs": [
    {
     "data": {
      "image/png": "[encoded data removed]",
      "text/latex": [
       "$\\mathcal{N}(\\mu=2, \\sigma=1),\\ N=1000$"
      ],
      "text/plain": [
       "<__main__.Gaussian at 0x21207c4fd08>"
      ]
     },
     "metadata": {},
     "output_type": "display_data"
    }
   ],
   "source": [
    "display(x)"
   ]
  },
  {
   "cell_type": "code",
   "execution_count": 85,
   "id": "04d70576",
   "metadata": {},
   "outputs": [
    {
     "data": {
      "image/png": "[encoded data removed]"
     },
     "metadata": {},
     "output_type": "display_data"
    }
   ],
   "source": [
    "display_png(x)"
   ]
  },
  {
   "cell_type": "code",
   "execution_count": 86,
   "id": "7b9af03c",
   "metadata": {},
   "outputs": [
    {
     "data": {
      "image/png": "[encoded data removed]",
      "text/latex": [
       "$\\mathcal{N}(\\mu=0, \\sigma=2),\\ N=2000$"
      ],
      "text/plain": [
       "<__main__.Gaussian at 0x21207fe9148>"
      ]
     },
     "execution_count": 86,
     "metadata": {},
     "output_type": "execute_result"
    }
   ],
   "source": [
    "x2 = Gaussian(0, 2, 2000)\n",
    "x2"
   ]
  },
  {
   "cell_type": "code",
   "execution_count": 87,
   "id": "6ebec70f",
   "metadata": {},
   "outputs": [
    {
     "data": {
      "image/png": "[encoded data removed]"
     },
     "metadata": {},
     "output_type": "display_data"
    },
    {
     "data": {
      "image/png": "[encoded data removed]"
     },
     "metadata": {},
     "output_type": "display_data"
    }
   ],
   "source": [
    "display_png(x)\n",
    "display_png(x2)"
   ]
  },
  {
   "cell_type": "code",
   "execution_count": 88,
   "id": "a15e7981",
   "metadata": {},
   "outputs": [
    {
     "data": {
      "text/latex": [
       "$x \\mapsto \\text{1.0} + \\text{2.0}\\,\\left(\\text{0.1}x\\right) + \\text{3.0}\\,\\left(\\text{0.1}x\\right)^{2}$"
      ],
      "text/plain": [
       "Polynomial([1., 2., 3.], domain=[-10.,  10.], window=[-1,  1])"
      ]
     },
     "execution_count": 88,
     "metadata": {},
     "output_type": "execute_result"
    }
   ],
   "source": [
    "p = np.polynomial.Polynomial([1,2,3], [-10, 10])\n",
    "p"
   ]
  },
  {
   "cell_type": "code",
   "execution_count": 89,
   "id": "4b5982fb",
   "metadata": {},
   "outputs": [],
   "source": [
    "def poly_to_latex(p):\n",
    "    terms = ['%.2g' % p.coef[0]]\n",
    "    if len(p) > 1:\n",
    "        term = 'x'\n",
    "        c = p.coef[1]\n",
    "        if c!=1:\n",
    "            term = ('%.2g ' % c) + term\n",
    "        terms.append(term)\n",
    "    if len(p) > 2:\n",
    "        for i in range(2, len(p)):\n",
    "            term = 'x^%d' % i\n",
    "            c = p.coef[i]\n",
    "            if c!=1:\n",
    "                term = ('%.2g ' % c) + term\n",
    "            terms.append(term)\n",
    "    px = '$P(x)=%s$' % '+'.join(terms)\n",
    "    dom = r', $x \\in [%.2g,\\ %.2g]$' % tuple(p.domain)\n",
    "    return px+dom"
   ]
  },
  {
   "cell_type": "code",
   "execution_count": 90,
   "id": "dd08bd5e",
   "metadata": {},
   "outputs": [
    {
     "data": {
      "text/plain": [
       "'$P(x)=1+2 x+3 x^2$, $x \\\\in [-10,\\\\ 10]$'"
      ]
     },
     "execution_count": 90,
     "metadata": {},
     "output_type": "execute_result"
    }
   ],
   "source": [
    "poly_to_latex(p)"
   ]
  },
  {
   "cell_type": "code",
   "execution_count": 91,
   "id": "ecf1eb29",
   "metadata": {},
   "outputs": [
    {
     "data": {
      "text/latex": [
       "$P(x)=1+2 x+3 x^2$, $x \\in [-10,\\ 10]$"
      ],
      "text/plain": [
       "<IPython.core.display.Latex object>"
      ]
     },
     "execution_count": 91,
     "metadata": {},
     "output_type": "execute_result"
    }
   ],
   "source": [
    "from IPython.display import Latex\n",
    "Latex(poly_to_latex(p))"
   ]
  },
  {
   "cell_type": "code",
   "execution_count": 92,
   "id": "55142778",
   "metadata": {},
   "outputs": [
    {
     "name": "stdout",
     "output_type": "stream",
     "text": [
      "              text/plain : PlainTextFormatter\n",
      "               text/html : HTMLFormatter\n",
      "           text/markdown : MarkdownFormatter\n",
      "           image/svg+xml : SVGFormatter\n",
      "               image/png : PNGFormatter\n",
      "         application/pdf : PDFFormatter\n",
      "              image/jpeg : JPEGFormatter\n",
      "              text/latex : LatexFormatter\n",
      "        application/json : JSONFormatter\n",
      "  application/javascript : JavascriptFormatter\n"
     ]
    }
   ],
   "source": [
    "ip = get_ipython()\n",
    "for mime, formatter in ip.display_formatter.formatters.items():\n",
    "    print('%24s : %s' % (mime, formatter.__class__.__name__))"
   ]
  },
  {
   "cell_type": "code",
   "execution_count": 93,
   "id": "88fe29bb",
   "metadata": {},
   "outputs": [],
   "source": [
    "ip = get_ipython()\n",
    "latex_f = ip.display_formatter.formatters['text/latex']"
   ]
  },
  {
   "cell_type": "code",
   "execution_count": 94,
   "id": "9a512099",
   "metadata": {},
   "outputs": [
    {
     "name": "stdout",
     "output_type": "stream",
     "text": [
      "Help on method for_type in module IPython.core.formatters:\n",
      "\n",
      "for_type(typ, func=None) method of IPython.core.formatters.LatexFormatter instance\n",
      "    Add a format function for a given type.\n",
      "    \n",
      "    Parameters\n",
      "    ----------\n",
      "    typ : type or '__module__.__name__' string for a type\n",
      "        The class of the object that will be formatted using `func`.\n",
      "    func : callable\n",
      "        A callable for computing the format data.\n",
      "        `func` will be called with the object to be formatted,\n",
      "        and will return the raw data in this formatter's format.\n",
      "        Subclasses may use a different call signature for the\n",
      "        `func` argument.\n",
      "        \n",
      "        If `func` is None or not specified, there will be no change,\n",
      "        only returning the current value.\n",
      "    \n",
      "    Returns\n",
      "    -------\n",
      "    oldfunc : callable\n",
      "        The currently registered callable.\n",
      "        If you are registering a new formatter,\n",
      "        this will be the previous value (to enable restoring later).\n",
      "\n"
     ]
    }
   ],
   "source": [
    "help(latex_f.for_type)"
   ]
  },
  {
   "cell_type": "code",
   "execution_count": 95,
   "id": "fcafaea0",
   "metadata": {},
   "outputs": [
    {
     "name": "stdout",
     "output_type": "stream",
     "text": [
      "Help on method for_type_by_name in module IPython.core.formatters:\n",
      "\n",
      "for_type_by_name(type_module, type_name, func=None) method of IPython.core.formatters.LatexFormatter instance\n",
      "    Add a format function for a type specified by the full dotted\n",
      "    module and name of the type, rather than the type of the object.\n",
      "    \n",
      "    Parameters\n",
      "    ----------\n",
      "    type_module : str\n",
      "        The full dotted name of the module the type is defined in, like\n",
      "        ``numpy``.\n",
      "    type_name : str\n",
      "        The name of the type (the class name), like ``dtype``\n",
      "    func : callable\n",
      "        A callable for computing the format data.\n",
      "        `func` will be called with the object to be formatted,\n",
      "        and will return the raw data in this formatter's format.\n",
      "        Subclasses may use a different call signature for the\n",
      "        `func` argument.\n",
      "        \n",
      "        If `func` is None or unspecified, there will be no change,\n",
      "        only returning the current value.\n",
      "    \n",
      "    Returns\n",
      "    -------\n",
      "    oldfunc : callable\n",
      "        The currently registered callable.\n",
      "        If you are registering a new formatter,\n",
      "        this will be the previous value (to enable restoring later).\n",
      "\n"
     ]
    }
   ],
   "source": [
    "help(latex_f.for_type_by_name)"
   ]
  },
  {
   "cell_type": "code",
   "execution_count": 96,
   "id": "31030272",
   "metadata": {},
   "outputs": [],
   "source": [
    "latex_f.for_type_by_name('numpy.polynomial.polynomial',\n",
    "                                 'Polynomial', poly_to_latex)"
   ]
  },
  {
   "cell_type": "code",
   "execution_count": 97,
   "id": "c84122d5",
   "metadata": {},
   "outputs": [
    {
     "data": {
      "text/latex": [
       "$P(x)=1+2 x+3 x^2$, $x \\in [-10,\\ 10]$"
      ],
      "text/plain": [
       "Polynomial([1., 2., 3.], domain=[-10.,  10.], window=[-1,  1])"
      ]
     },
     "execution_count": 97,
     "metadata": {},
     "output_type": "execute_result"
    }
   ],
   "source": [
    "p"
   ]
  },
  {
   "cell_type": "code",
   "execution_count": 98,
   "id": "909851a7",
   "metadata": {},
   "outputs": [
    {
     "data": {
      "text/latex": [
       "$P(x)=-20+71 x+-15 x^2+x^3$, $x \\in [-1,\\ 1]$"
      ],
      "text/plain": [
       "Polynomial([-20.,  71., -15.,   1.], domain=[-1,  1], window=[-1,  1])"
      ]
     },
     "execution_count": 98,
     "metadata": {},
     "output_type": "execute_result"
    }
   ],
   "source": [
    "p2 = np.polynomial.Polynomial([-20, 71, -15, 1])\n",
    "p2"
   ]
  },
  {
   "cell_type": "code",
   "execution_count": 99,
   "id": "84ab9cbe",
   "metadata": {},
   "outputs": [],
   "source": [
    "import json\n",
    "import uuid\n",
    "from IPython.display import display_javascript, display_html, display\n",
    "\n",
    "class FlotPlot(object):\n",
    "    def __init__(self, x, y):\n",
    "        self.x = x\n",
    "        self.y = y\n",
    "        self.uuid = str(uuid.uuid4())\n",
    "    \n",
    "    def _ipython_display_(self):\n",
    "        json_data = json.dumps(list(zip(self.x, self.y)))\n",
    "        display_html('<div id=\"{}\" style=\"height: 300px; width:80%;\"></div>'.format(self.uuid),\n",
    "            raw=True\n",
    "        )\n",
    "        display_javascript(\"\"\"\n",
    "        require([\"//cdnjs.cloudflare.com/ajax/libs/flot/0.8.2/jquery.flot.min.js\"], function() {\n",
    "          var line = JSON.parse(\"%s\");\n",
    "          console.log(line);\n",
    "          $.plot(\"#%s\", [line]);\n",
    "        });\n",
    "        \"\"\" % (json_data, self.uuid), raw=True)\n"
   ]
  },
  {
   "cell_type": "code",
   "execution_count": 100,
   "id": "2bdc7fa5",
   "metadata": {},
   "outputs": [
    {
     "data": {
      "text/html": [
       "<div id=\"03a2714e-fda6-4442-8671-6c22082a6559\" style=\"height: 300px; width:80%;\"></div>"
      ]
     },
     "metadata": {},
     "output_type": "display_data"
    },
    {
     "data": {
      "application/javascript": [
       "\n",
       "        require([\"//cdnjs.cloudflare.com/ajax/libs/flot/0.8.2/jquery.flot.min.js\"], function() {\n",
       "          var line = JSON.parse(\"[[0.0, 0.0], [0.20408163265306123, 0.20266793654820095], [0.40816326530612246, 0.39692414892492234], [0.6122448979591837, 0.5747060412161792], [0.8163265306122449, 0.7286347834693504], [1.0204081632653061, 0.8523215697196184], [1.2244897959183674, 0.9406327851124867], [1.4285714285714286, 0.9899030763721239], [1.6326530612244898, 0.9980874821347183], [1.836734693877551, 0.9648463089837632], [2.0408163265306123, 0.8915592304110037], [2.2448979591836737, 0.7812680235262638], [2.4489795918367347, 0.6385503202266021], [2.6530612244897958, 0.469329612777201], [2.857142857142857, 0.28062939951435684], [3.0612244897959187, 0.0802816748428135], [3.2653061224489797, -0.12339813736217871], [3.4693877551020407, -0.3219563150726187], [3.673469387755102, -0.5071517094845144], [3.8775510204081636, -0.6712977935519321], [4.081632653061225, -0.8075816909683364], [4.285714285714286, -0.9103469443107827], [4.4897959183673475, -0.9753282860670456], [4.6938775510204085, -0.9998286683840896], [4.8979591836734695, -0.9828312039256306], [5.1020408163265305, -0.9250413717382029], [5.3061224489795915, -0.8288577363730427], [5.510204081632653, -0.6982723955653996], [5.714285714285714, -0.5387052883861563], [5.918367346938775, -0.3567792408989381], [6.122448979591837, -0.16004508604325057], [6.326530612244898, 0.04333173336868346], [6.530612244897959, 0.2449100710119793], [6.73469387755102, 0.4363234264718193], [6.938775510204081, 0.6096271964908323], [7.142857142857143, 0.7576284153927202], [7.346938775510204, 0.8741842988197335], [7.551020408163265, 0.9544571997387519], [7.755102040816327, 0.9951153947776636], [7.959183673469388, 0.9944713672636168], [8.16326530612245, 0.9525518475314604], [8.36734693877551, 0.8710967034823207], [8.571428571428571, 0.7534867274396376], [8.775510204081632, 0.6046033165061543], [8.979591836734695, 0.4306258703827373], [9.183673469387756, 0.23877531564403087], [9.387755102040817, 0.03701440148506237], [9.591836734693878, -0.1662827938487564], [9.795918367346939, -0.3626784288265488], [10.0, -0.5440211108893698]]\");\n",
       "          console.log(line);\n",
       "          $.plot(\"#03a2714e-fda6-4442-8671-6c22082a6559\", [line]);\n",
       "        });\n",
       "        "
      ]
     },
     "metadata": {},
     "output_type": "display_data"
    }
   ],
   "source": [
    "import numpy as np\n",
    "x = np.linspace(0,10)\n",
    "y = np.sin(x)\n",
    "FlotPlot(x, np.sin(x))"
   ]
  },
  {
   "cell_type": "code",
   "execution_count": 101,
   "id": "a1870516",
   "metadata": {},
   "outputs": [
    {
     "name": "stdout",
     "output_type": "stream",
     "text": [
      "=========\n",
      " IPython\n",
      "=========\n",
      "\n",
      "Tools for Interactive Computing in Python\n",
      "=========================================\n",
      "\n",
      "    A Python shell with automatic history (input and output), dynamic object\n",
      "    introspection, easier configuration, command completion, access to the\n",
      "    system shell and more.  IPython can also be embedded in running programs.\n",
      "\n",
      "Usage\n",
      "\n",
      "    ipython [subcommand] [options] [-c cmd | -m mod | file] [--] [arg] ...\n",
      "\n",
      "    If invoked with no options, it executes the file and exits, passing the\n",
      "    remaining arguments to the script, just as if you had specified the same\n",
      "    command with python. You may need to specify `--` before args to be passed\n",
      "    to the script, to prevent IPython from attempting to parse them. If you\n",
      "    specify the option `-i` before the filename, it will enter an interactive\n",
      "    IPython session after running the script, rather than exiting. Files ending\n",
      "    in .py will be treated as normal Python, but files ending in .ipy can\n",
      "    contain special IPython syntax (magic commands, shell expansions, etc.).\n",
      "\n",
      "    Almost all configuration in IPython is available via the command-line. Do\n",
      "    `ipython --help-all` to see all available options.  For persistent\n",
      "    configuration, look into your `ipython_config.py` configuration file for\n",
      "    details.\n",
      "\n",
      "    This file is typically installed in the `IPYTHONDIR` directory, and there\n",
      "    is a separate configuration directory for each profile. The default profile\n",
      "    directory will be located in $IPYTHONDIR/profile_default. IPYTHONDIR\n",
      "    defaults to to `$HOME/.ipython`.  For Windows users, $HOME resolves to\n",
      "    C:\\Users\\YourUserName in most instances.\n",
      "\n",
      "    To initialize a profile with the default configuration file, do::\n",
      "\n",
      "      $> ipython profile create\n",
      "\n",
      "    and start editing `IPYTHONDIR/profile_default/ipython_config.py`\n",
      "\n",
      "    In IPython's documentation, we will refer to this directory as\n",
      "    `IPYTHONDIR`, you can change its default location by creating an\n",
      "    environment variable with this name and setting it to the desired path.\n",
      "\n",
      "    For more information, see the manual available in HTML and PDF in your\n",
      "    installation, or online at https://ipython.org/documentation.html.\n",
      "\n",
      "Subcommands\n",
      "===========\n",
      "Subcommands are launched as `ipython cmd [args]`. For information on using\n",
      "subcommand 'cmd', do: `ipython cmd -h`.\n",
      "\n",
      "profile\n",
      "    Create and manage IPython profiles.\n",
      "kernel\n",
      "    Start a kernel without an attached frontend.\n",
      "locate\n",
      "    print the path to the IPython dir\n",
      "history\n",
      "    Manage the IPython history database.\n",
      "qtconsole\n",
      "    DEPRECATED, Will be removed in IPython 6.0 : Launch the Jupyter Qt Console.\n",
      "notebook\n",
      "    DEPRECATED, Will be removed in IPython 6.0 : Launch the Jupyter HTML Notebook Server.\n",
      "console\n",
      "    DEPRECATED, Will be removed in IPython 6.0 : Launch the Jupyter terminal-based Console.\n",
      "nbconvert\n",
      "    DEPRECATED, Will be removed in IPython 6.0 : Convert notebooks to/from other formats.\n",
      "trust\n",
      "    DEPRECATED, Will be removed in IPython 6.0 : Sign notebooks to trust their potentially unsafe contents at load.\n",
      "kernelspec\n",
      "    DEPRECATED, Will be removed in IPython 6.0 : Manage Jupyter kernel specifications.\n",
      "install-nbextension\n",
      "    DEPRECATED, Will be removed in IPython 6.0 : Install Jupyter notebook extension files\n",
      "\n",
      "Options\n",
      "=======\n",
      "The options below are convenience aliases to configurable class-options,\n",
      "as listed in the \"Equivalent to\" description-line of the aliases.\n",
      "To see all configurable class-options for some <cmd>, use:\n",
      "    <cmd> --help-all\n",
      "\n",
      "--debug\n",
      "    set log level to logging.DEBUG (maximize logging output)\n",
      "    Equivalent to: [--Application.log_level=10]\n",
      "--quiet\n",
      "    set log level to logging.CRITICAL (minimize logging output)\n",
      "    Equivalent to: [--Application.log_level=50]\n",
      "--init\n",
      "    Initialize profile with default config files.  This is equivalent\n",
      "                to running `ipython profile create <profile>` prior to startup.\n",
      "    Equivalent to: [--BaseIPythonApplication.copy_config_files=True --BaseIPythonApplication.auto_create=True]\n",
      "--autoindent\n",
      "    Turn on autoindenting.\n",
      "    Equivalent to: [--InteractiveShell.autoindent=True]\n",
      "--no-autoindent\n",
      "    Turn off autoindenting.\n",
      "    Equivalent to: [--InteractiveShell.autoindent=False]\n",
      "--automagic\n",
      "    Turn on the auto calling of magic commands. Type %%magic at the\n",
      "            IPython  prompt  for  more information.\n",
      "    Equivalent to: [--InteractiveShell.automagic=True]\n",
      "--no-automagic\n",
      "    Turn off the auto calling of magic commands.\n",
      "    Equivalent to: [--InteractiveShell.automagic=False]\n",
      "--pdb\n",
      "    Enable auto calling the pdb debugger after every exception.\n",
      "    Equivalent to: [--InteractiveShell.pdb=True]\n",
      "--no-pdb\n",
      "    Disable auto calling the pdb debugger after every exception.\n",
      "    Equivalent to: [--InteractiveShell.pdb=False]\n",
      "--pprint\n",
      "    Enable auto pretty printing of results.\n",
      "    Equivalent to: [--PlainTextFormatter.pprint=True]\n",
      "--no-pprint\n",
      "    Disable auto pretty printing of results.\n",
      "    Equivalent to: [--PlainTextFormatter.pprint=False]\n",
      "--color-info\n",
      "    IPython can display information about objects via a set of functions,\n",
      "        and optionally can use colors for this, syntax highlighting\n",
      "        source code and various other elements. This is on by default, but can cause\n",
      "        problems with some pagers. If you see such problems, you can disable the\n",
      "        colours.\n",
      "    Equivalent to: [--InteractiveShell.color_info=True]\n",
      "--no-color-info\n",
      "    Disable using colors for info related things.\n",
      "    Equivalent to: [--InteractiveShell.color_info=False]\n",
      "--ignore-cwd\n",
      "    Exclude the current working directory from sys.path\n",
      "    Equivalent to: [--InteractiveShellApp.ignore_cwd=True]\n",
      "--no-ignore-cwd\n",
      "    Include the current working directory in sys.path\n",
      "    Equivalent to: [--InteractiveShellApp.ignore_cwd=False]\n",
      "--nosep\n",
      "    Eliminate all spacing between prompts.\n",
      "    Equivalent to: [--InteractiveShell.separate_in= --InteractiveShell.separate_out= --InteractiveShell.separate_out2=]\n",
      "--pylab\n",
      "    Pre-load matplotlib and numpy for interactive use with\n",
      "        the default matplotlib backend.\n",
      "    Equivalent to: [--InteractiveShellApp.pylab=auto]\n",
      "--matplotlib\n",
      "    Configure matplotlib for interactive use with\n",
      "        the default matplotlib backend.\n",
      "    Equivalent to: [--InteractiveShellApp.matplotlib=auto]\n",
      "--autoedit-syntax\n",
      "    Turn on auto editing of files with syntax errors.\n",
      "    Equivalent to: [--TerminalInteractiveShell.autoedit_syntax=True]\n",
      "--no-autoedit-syntax\n",
      "    Turn off auto editing of files with syntax errors.\n",
      "    Equivalent to: [--TerminalInteractiveShell.autoedit_syntax=False]\n",
      "--simple-prompt\n",
      "    Force simple minimal prompt using `raw_input`\n",
      "    Equivalent to: [--TerminalInteractiveShell.simple_prompt=True]\n",
      "--no-simple-prompt\n",
      "    Use a rich interactive prompt with prompt_toolkit\n",
      "    Equivalent to: [--TerminalInteractiveShell.simple_prompt=False]\n",
      "--banner\n",
      "    Display a banner upon starting IPython.\n",
      "    Equivalent to: [--TerminalIPythonApp.display_banner=True]\n",
      "--no-banner\n",
      "    Don't display a banner upon starting IPython.\n",
      "    Equivalent to: [--TerminalIPythonApp.display_banner=False]\n",
      "--confirm-exit\n",
      "    Set to confirm when you try to exit IPython with an EOF (Control-D\n",
      "        in Unix, Control-Z/Enter in Windows). By typing 'exit' or 'quit',\n",
      "        you can force a direct exit without any confirmation.\n",
      "    Equivalent to: [--TerminalInteractiveShell.confirm_exit=True]\n",
      "--no-confirm-exit\n",
      "    Don't prompt the user when exiting.\n",
      "    Equivalent to: [--TerminalInteractiveShell.confirm_exit=False]\n",
      "--term-title\n",
      "    Enable auto setting the terminal title.\n",
      "    Equivalent to: [--TerminalInteractiveShell.term_title=True]\n",
      "--no-term-title\n",
      "    Disable auto setting the terminal title.\n",
      "    Equivalent to: [--TerminalInteractiveShell.term_title=False]\n",
      "--classic\n",
      "    Gives IPython a similar feel to the classic Python prompt.\n",
      "    Equivalent to: [--InteractiveShell.cache_size=0 --InteractiveShell.separate_in= --InteractiveShell.separate_out= --InteractiveShell.separate_out2= --InteractiveShell.colors=NoColor --InteractiveShell.xmode=Plain --PlainTextFormatter.pprint=False --TerminalInteractiveShell.prompts_class=IPython.terminal.prompts.ClassicPrompts]\n",
      "--quick\n",
      "    Enable quick startup with no config files.\n",
      "    Equivalent to: [--TerminalIPythonApp.quick=True]\n",
      "-i\n",
      "    If running code from the command line, become interactive afterwards.\n",
      "        It is often useful to follow this with `--` to treat remaining flags as\n",
      "        script arguments.\n",
      "    Equivalent to: [--TerminalIPythonApp.force_interact=True]\n",
      "--profile-dir=<Unicode>\n",
      "    Set the profile location directly. This overrides the logic used by the\n",
      "            `profile` option.\n",
      "    Default: ''\n",
      "    Equivalent to: [--ProfileDir.location]\n",
      "--profile=<Unicode>\n",
      "    The IPython profile to use.\n",
      "    Default: 'default'\n",
      "    Equivalent to: [--BaseIPythonApplication.profile]\n",
      "--ipython-dir=<Unicode>\n",
      "    The name of the IPython directory. This directory is used for logging\n",
      "    configuration (through profiles), history storage, etc. The default is\n",
      "    usually $HOME/.ipython. This option can also be specified through the\n",
      "    environment variable IPYTHONDIR.\n",
      "    Default: ''\n",
      "    Equivalent to: [--BaseIPythonApplication.ipython_dir]\n",
      "--log-level=<Enum>\n",
      "    Set the log level by value or name.\n",
      "    Choices: any of [0, 10, 20, 30, 40, 50, 'DEBUG', 'INFO', 'WARN', 'ERROR', 'CRITICAL']\n",
      "    Default: 30\n",
      "    Equivalent to: [--Application.log_level]\n",
      "--config=<Unicode>\n",
      "    Path to an extra config file to load.\n",
      "        If specified, load this config file in addition to any other IPython\n",
      "    config.\n",
      "    Default: ''\n",
      "    Equivalent to: [--BaseIPythonApplication.extra_config_file]\n",
      "--autocall=<Enum>\n",
      "    Make IPython automatically call any callable object even if you didn't type\n",
      "    explicit parentheses. For example, 'str 43' becomes 'str(43)' automatically.\n",
      "    The value can be '0' to disable the feature, '1' for 'smart' autocall, where\n",
      "    it is not applied if there are no more arguments on the line, and '2' for\n",
      "    'full' autocall, where all callable objects are automatically called (even\n",
      "    if no arguments are present).\n",
      "    Choices: any of [0, 1, 2]\n",
      "    Default: 0\n",
      "    Equivalent to: [--InteractiveShell.autocall]\n",
      "--colors=<CaselessStrEnum>\n",
      "    Set the color scheme (NoColor, Neutral, Linux, or LightBG).\n",
      "    Choices: any of ['Neutral', 'NoColor', 'LightBG', 'Linux'] (case-insensitive)\n",
      "    Default: 'Neutral'\n",
      "    Equivalent to: [--InteractiveShell.colors]\n",
      "--logfile=<Unicode>\n",
      "    The name of the logfile to use.\n",
      "    Default: ''\n",
      "    Equivalent to: [--InteractiveShell.logfile]\n",
      "--logappend=<Unicode>\n",
      "    Start logging to the given file in append mode. Use `logfile` to specify a\n",
      "    log file to **overwrite** logs to.\n",
      "    Default: ''\n",
      "    Equivalent to: [--InteractiveShell.logappend]\n",
      "-c=<Unicode>\n",
      "    Execute the given command string.\n",
      "    Default: ''\n",
      "    Equivalent to: [--InteractiveShellApp.code_to_run]\n",
      "-m=<Unicode>\n",
      "    Run the module as a script.\n",
      "    Default: ''\n",
      "    Equivalent to: [--InteractiveShellApp.module_to_run]\n",
      "--ext=<list-item-1>...\n",
      "    Dotted module name(s) of one or more IPython extensions to load.\n",
      "    For specifying extra extensions to load on the command-line.\n",
      "    .. versionadded:: 7.10\n",
      "    Default: []\n",
      "    Equivalent to: [--InteractiveShellApp.extra_extensions]\n",
      "--gui=<CaselessStrEnum>\n",
      "    Enable GUI event loop integration with any of ('asyncio', 'glut', 'gtk',\n",
      "    'gtk2', 'gtk3', 'gtk4', 'osx', 'pyglet', 'qt', 'qt4', 'qt5', 'qt6', 'tk',\n",
      "    'wx', 'gtk2', 'qt4').\n",
      "    Choices: any of ['asyncio', 'glut', 'gtk', 'gtk2', 'gtk3', 'gtk4', 'osx', 'pyglet', 'qt', 'qt4', 'qt5', 'qt6', 'tk', 'wx', 'gtk2', 'qt4'] (case-insensitive) or None\n",
      "    Default: None\n",
      "    Equivalent to: [--InteractiveShellApp.gui]\n",
      "--pylab=<CaselessStrEnum>\n",
      "    Pre-load matplotlib and numpy for interactive use,\n",
      "            selecting a particular matplotlib backend and loop integration.\n",
      "    Choices: any of ['auto', 'agg', 'gtk', 'gtk3', 'gtk4', 'inline', 'ipympl', 'nbagg', 'notebook', 'osx', 'pdf', 'ps', 'qt', 'qt4', 'qt5', 'qt6', 'svg', 'tk', 'widget', 'wx'] (case-insensitive) or None\n",
      "    Default: None\n",
      "    Equivalent to: [--InteractiveShellApp.pylab]\n",
      "--matplotlib=<CaselessStrEnum>\n",
      "    Configure matplotlib for interactive use with\n",
      "            the default matplotlib backend.\n",
      "    Choices: any of ['auto', 'agg', 'gtk', 'gtk3', 'gtk4', 'inline', 'ipympl', 'nbagg', 'notebook', 'osx', 'pdf', 'ps', 'qt', 'qt4', 'qt5', 'qt6', 'svg', 'tk', 'widget', 'wx'] (case-insensitive) or None\n",
      "    Default: None\n",
      "    Equivalent to: [--InteractiveShellApp.matplotlib]\n",
      "--cache-size=<Int>\n",
      "    Set the size of the output cache.  The default is 1000, you can change it\n",
      "    permanently in your config file.  Setting it to 0 completely disables the\n",
      "    caching system, and the minimum value accepted is 3 (if you provide a value\n",
      "    less than 3, it is reset to 0 and a warning is issued).  This limit is\n",
      "    defined because otherwise you'll spend more time re-flushing a too small\n",
      "    cache than working\n",
      "    Default: 1000\n",
      "    Equivalent to: [--InteractiveShell.cache_size]\n",
      "\n",
      "Examples\n",
      "--------\n",
      "\n",
      "    ipython --matplotlib       # enable matplotlib integration\n",
      "    ipython --matplotlib=qt    # enable matplotlib integration with qt4 backend\n",
      "\n",
      "    ipython --log-level=DEBUG  # set logging to DEBUG\n",
      "    ipython --profile=foo      # start with profile foo\n",
      "\n",
      "    ipython profile create foo # create profile foo w/ default config files\n",
      "    ipython help profile       # show the help for the profile subcmd\n",
      "\n",
      "    ipython locate             # print the path to the IPython directory\n",
      "    ipython locate profile foo # print the path to the directory for profile `foo`\n",
      "\n",
      "To see all available configurables, use `--help-all`.\n",
      "\n"
     ]
    }
   ],
   "source": [
    "!ipython -h"
   ]
  },
  {
   "cell_type": "code",
   "execution_count": 102,
   "id": "b02e6fea",
   "metadata": {},
   "outputs": [
    {
     "name": "stdout",
     "output_type": "stream",
     "text": [
      "=========\n",
      " IPython\n",
      "=========\n",
      "\n",
      "Tools for Interactive Computing in Python\n",
      "=========================================\n",
      "\n",
      "    A Python shell with automatic history (input and output), dynamic object\n",
      "    introspection, easier configuration, command completion, access to the\n",
      "    system shell and more.  IPython can also be embedded in running programs.\n",
      "\n",
      "Usage\n",
      "\n",
      "    ipython [subcommand] [options] [-c cmd | -m mod | file] [--] [arg] ...\n",
      "\n",
      "    If invoked with no options, it executes the file and exits, passing the\n",
      "    remaining arguments to the script, just as if you had specified the same\n",
      "    command with python. You may need to specify `--` before args to be passed\n",
      "    to the script, to prevent IPython from attempting to parse them. If you\n",
      "    specify the option `-i` before the filename, it will enter an interactive\n",
      "    IPython session after running the script, rather than exiting. Files ending\n",
      "    in .py will be treated as normal Python, but files ending in .ipy can\n",
      "    contain special IPython syntax (magic commands, shell expansions, etc.).\n",
      "\n",
      "    Almost all configuration in IPython is available via the command-line. Do\n",
      "    `ipython --help-all` to see all available options.  For persistent\n",
      "    configuration, look into your `ipython_config.py` configuration file for\n",
      "    details.\n",
      "\n",
      "    This file is typically installed in the `IPYTHONDIR` directory, and there\n",
      "    is a separate configuration directory for each profile. The default profile\n",
      "    directory will be located in $IPYTHONDIR/profile_default. IPYTHONDIR\n",
      "    defaults to to `$HOME/.ipython`.  For Windows users, $HOME resolves to\n",
      "    C:\\Users\\YourUserName in most instances.\n",
      "\n",
      "    To initialize a profile with the default configuration file, do::\n",
      "\n",
      "      $> ipython profile create\n",
      "\n",
      "    and start editing `IPYTHONDIR/profile_default/ipython_config.py`\n",
      "\n",
      "    In IPython's documentation, we will refer to this directory as\n",
      "    `IPYTHONDIR`, you can change its default location by creating an\n",
      "    environment variable with this name and setting it to the desired path.\n",
      "\n",
      "    For more information, see the manual available in HTML and PDF in your\n",
      "    installation, or online at https://ipython.org/documentation.html.\n",
      "\n",
      "Subcommands\n",
      "===========\n",
      "Subcommands are launched as `ipython cmd [args]`. For information on using\n",
      "subcommand 'cmd', do: `ipython cmd -h`.\n",
      "\n",
      "profile\n",
      "    Create and manage IPython profiles.\n",
      "kernel\n",
      "    Start a kernel without an attached frontend.\n",
      "locate\n",
      "    print the path to the IPython dir\n",
      "history\n",
      "    Manage the IPython history database.\n",
      "qtconsole\n",
      "    DEPRECATED, Will be removed in IPython 6.0 : Launch the Jupyter Qt Console.\n",
      "notebook\n",
      "    DEPRECATED, Will be removed in IPython 6.0 : Launch the Jupyter HTML Notebook Server.\n",
      "console\n",
      "    DEPRECATED, Will be removed in IPython 6.0 : Launch the Jupyter terminal-based Console.\n",
      "nbconvert\n",
      "    DEPRECATED, Will be removed in IPython 6.0 : Convert notebooks to/from other formats.\n",
      "trust\n",
      "    DEPRECATED, Will be removed in IPython 6.0 : Sign notebooks to trust their potentially unsafe contents at load.\n",
      "kernelspec\n",
      "    DEPRECATED, Will be removed in IPython 6.0 : Manage Jupyter kernel specifications.\n",
      "install-nbextension\n",
      "    DEPRECATED, Will be removed in IPython 6.0 : Install Jupyter notebook extension files\n",
      "\n",
      "Options\n",
      "=======\n",
      "The options below are convenience aliases to configurable class-options,\n",
      "as listed in the \"Equivalent to\" description-line of the aliases.\n",
      "To see all configurable class-options for some <cmd>, use:\n",
      "    <cmd> --help-all\n",
      "\n",
      "--debug\n",
      "    set log level to logging.DEBUG (maximize logging output)\n",
      "    Equivalent to: [--Application.log_level=10]\n",
      "--quiet\n",
      "    set log level to logging.CRITICAL (minimize logging output)\n",
      "    Equivalent to: [--Application.log_level=50]\n",
      "--init\n",
      "    Initialize profile with default config files.  This is equivalent\n",
      "                to running `ipython profile create <profile>` prior to startup.\n",
      "    Equivalent to: [--BaseIPythonApplication.copy_config_files=True --BaseIPythonApplication.auto_create=True]\n",
      "--autoindent\n",
      "    Turn on autoindenting.\n",
      "    Equivalent to: [--InteractiveShell.autoindent=True]\n",
      "--no-autoindent\n",
      "    Turn off autoindenting.\n",
      "    Equivalent to: [--InteractiveShell.autoindent=False]\n",
      "--automagic\n",
      "    Turn on the auto calling of magic commands. Type %%magic at the\n",
      "            IPython  prompt  for  more information.\n",
      "    Equivalent to: [--InteractiveShell.automagic=True]\n",
      "--no-automagic\n",
      "    Turn off the auto calling of magic commands.\n",
      "    Equivalent to: [--InteractiveShell.automagic=False]\n",
      "--pdb\n",
      "    Enable auto calling the pdb debugger after every exception.\n",
      "    Equivalent to: [--InteractiveShell.pdb=True]\n",
      "--no-pdb\n",
      "    Disable auto calling the pdb debugger after every exception.\n",
      "    Equivalent to: [--InteractiveShell.pdb=False]\n",
      "--pprint\n",
      "    Enable auto pretty printing of results.\n",
      "    Equivalent to: [--PlainTextFormatter.pprint=True]\n",
      "--no-pprint\n",
      "    Disable auto pretty printing of results.\n",
      "    Equivalent to: [--PlainTextFormatter.pprint=False]\n",
      "--color-info\n",
      "    IPython can display information about objects via a set of functions,\n",
      "        and optionally can use colors for this, syntax highlighting\n",
      "        source code and various other elements. This is on by default, but can cause\n",
      "        problems with some pagers. If you see such problems, you can disable the\n",
      "        colours.\n",
      "    Equivalent to: [--InteractiveShell.color_info=True]\n",
      "--no-color-info\n",
      "    Disable using colors for info related things.\n",
      "    Equivalent to: [--InteractiveShell.color_info=False]\n",
      "--ignore-cwd\n",
      "    Exclude the current working directory from sys.path\n",
      "    Equivalent to: [--InteractiveShellApp.ignore_cwd=True]\n",
      "--no-ignore-cwd\n",
      "    Include the current working directory in sys.path\n",
      "    Equivalent to: [--InteractiveShellApp.ignore_cwd=False]\n",
      "--nosep\n",
      "    Eliminate all spacing between prompts.\n",
      "    Equivalent to: [--InteractiveShell.separate_in= --InteractiveShell.separate_out= --InteractiveShell.separate_out2=]\n",
      "--pylab\n",
      "    Pre-load matplotlib and numpy for interactive use with\n",
      "        the default matplotlib backend.\n",
      "    Equivalent to: [--InteractiveShellApp.pylab=auto]\n",
      "--matplotlib\n",
      "    Configure matplotlib for interactive use with\n",
      "        the default matplotlib backend.\n",
      "    Equivalent to: [--InteractiveShellApp.matplotlib=auto]\n",
      "--autoedit-syntax\n",
      "    Turn on auto editing of files with syntax errors.\n",
      "    Equivalent to: [--TerminalInteractiveShell.autoedit_syntax=True]\n",
      "--no-autoedit-syntax\n",
      "    Turn off auto editing of files with syntax errors.\n",
      "    Equivalent to: [--TerminalInteractiveShell.autoedit_syntax=False]\n",
      "--simple-prompt\n",
      "    Force simple minimal prompt using `raw_input`\n",
      "    Equivalent to: [--TerminalInteractiveShell.simple_prompt=True]\n",
      "--no-simple-prompt\n",
      "    Use a rich interactive prompt with prompt_toolkit\n",
      "    Equivalent to: [--TerminalInteractiveShell.simple_prompt=False]\n",
      "--banner\n",
      "    Display a banner upon starting IPython.\n",
      "    Equivalent to: [--TerminalIPythonApp.display_banner=True]\n",
      "--no-banner\n",
      "    Don't display a banner upon starting IPython.\n",
      "    Equivalent to: [--TerminalIPythonApp.display_banner=False]\n",
      "--confirm-exit\n",
      "    Set to confirm when you try to exit IPython with an EOF (Control-D\n",
      "        in Unix, Control-Z/Enter in Windows). By typing 'exit' or 'quit',\n",
      "        you can force a direct exit without any confirmation.\n",
      "    Equivalent to: [--TerminalInteractiveShell.confirm_exit=True]\n",
      "--no-confirm-exit\n",
      "    Don't prompt the user when exiting.\n",
      "    Equivalent to: [--TerminalInteractiveShell.confirm_exit=False]\n",
      "--term-title\n",
      "    Enable auto setting the terminal title.\n",
      "    Equivalent to: [--TerminalInteractiveShell.term_title=True]\n",
      "--no-term-title\n",
      "    Disable auto setting the terminal title.\n",
      "    Equivalent to: [--TerminalInteractiveShell.term_title=False]\n",
      "--classic\n",
      "    Gives IPython a similar feel to the classic Python prompt.\n",
      "    Equivalent to: [--InteractiveShell.cache_size=0 --InteractiveShell.separate_in= --InteractiveShell.separate_out= --InteractiveShell.separate_out2= --InteractiveShell.colors=NoColor --InteractiveShell.xmode=Plain --PlainTextFormatter.pprint=False --TerminalInteractiveShell.prompts_class=IPython.terminal.prompts.ClassicPrompts]\n",
      "--quick\n",
      "    Enable quick startup with no config files.\n",
      "    Equivalent to: [--TerminalIPythonApp.quick=True]\n",
      "-i\n",
      "    If running code from the command line, become interactive afterwards.\n",
      "        It is often useful to follow this with `--` to treat remaining flags as\n",
      "        script arguments.\n",
      "    Equivalent to: [--TerminalIPythonApp.force_interact=True]\n",
      "--profile-dir=<Unicode>\n",
      "    Set the profile location directly. This overrides the logic used by the\n",
      "            `profile` option.\n",
      "    Default: ''\n",
      "    Equivalent to: [--ProfileDir.location]\n",
      "--profile=<Unicode>\n",
      "    The IPython profile to use.\n",
      "    Default: 'default'\n",
      "    Equivalent to: [--BaseIPythonApplication.profile]\n",
      "--ipython-dir=<Unicode>\n",
      "    The name of the IPython directory. This directory is used for logging\n",
      "    configuration (through profiles), history storage, etc. The default is\n",
      "    usually $HOME/.ipython. This option can also be specified through the\n",
      "    environment variable IPYTHONDIR.\n",
      "    Default: ''\n",
      "    Equivalent to: [--BaseIPythonApplication.ipython_dir]\n",
      "--log-level=<Enum>\n",
      "    Set the log level by value or name.\n",
      "    Choices: any of [0, 10, 20, 30, 40, 50, 'DEBUG', 'INFO', 'WARN', 'ERROR', 'CRITICAL']\n",
      "    Default: 30\n",
      "    Equivalent to: [--Application.log_level]\n",
      "--config=<Unicode>\n",
      "    Path to an extra config file to load.\n",
      "        If specified, load this config file in addition to any other IPython\n",
      "    config.\n",
      "    Default: ''\n",
      "    Equivalent to: [--BaseIPythonApplication.extra_config_file]\n",
      "--autocall=<Enum>\n",
      "    Make IPython automatically call any callable object even if you didn't type\n",
      "    explicit parentheses. For example, 'str 43' becomes 'str(43)' automatically.\n",
      "    The value can be '0' to disable the feature, '1' for 'smart' autocall, where\n",
      "    it is not applied if there are no more arguments on the line, and '2' for\n",
      "    'full' autocall, where all callable objects are automatically called (even\n",
      "    if no arguments are present).\n",
      "    Choices: any of [0, 1, 2]\n",
      "    Default: 0\n",
      "    Equivalent to: [--InteractiveShell.autocall]\n",
      "--colors=<CaselessStrEnum>\n",
      "    Set the color scheme (NoColor, Neutral, Linux, or LightBG).\n",
      "    Choices: any of ['Neutral', 'NoColor', 'LightBG', 'Linux'] (case-insensitive)\n",
      "    Default: 'Neutral'\n",
      "    Equivalent to: [--InteractiveShell.colors]\n",
      "--logfile=<Unicode>\n"
     ]
    },
    {
     "name": "stdout",
     "output_type": "stream",
     "text": [
      "    The name of the logfile to use.\n",
      "    Default: ''\n",
      "    Equivalent to: [--InteractiveShell.logfile]\n",
      "--logappend=<Unicode>\n",
      "    Start logging to the given file in append mode. Use `logfile` to specify a\n",
      "    log file to **overwrite** logs to.\n",
      "    Default: ''\n",
      "    Equivalent to: [--InteractiveShell.logappend]\n",
      "-c=<Unicode>\n",
      "    Execute the given command string.\n",
      "    Default: ''\n",
      "    Equivalent to: [--InteractiveShellApp.code_to_run]\n",
      "-m=<Unicode>\n",
      "    Run the module as a script.\n",
      "    Default: ''\n",
      "    Equivalent to: [--InteractiveShellApp.module_to_run]\n",
      "--ext=<list-item-1>...\n",
      "    Dotted module name(s) of one or more IPython extensions to load.\n",
      "    For specifying extra extensions to load on the command-line.\n",
      "    .. versionadded:: 7.10\n",
      "    Default: []\n",
      "    Equivalent to: [--InteractiveShellApp.extra_extensions]\n",
      "--gui=<CaselessStrEnum>\n",
      "    Enable GUI event loop integration with any of ('asyncio', 'glut', 'gtk',\n",
      "    'gtk2', 'gtk3', 'gtk4', 'osx', 'pyglet', 'qt', 'qt4', 'qt5', 'qt6', 'tk',\n",
      "    'wx', 'gtk2', 'qt4').\n",
      "    Choices: any of ['asyncio', 'glut', 'gtk', 'gtk2', 'gtk3', 'gtk4', 'osx', 'pyglet', 'qt', 'qt4', 'qt5', 'qt6', 'tk', 'wx', 'gtk2', 'qt4'] (case-insensitive) or None\n",
      "    Default: None\n",
      "    Equivalent to: [--InteractiveShellApp.gui]\n",
      "--pylab=<CaselessStrEnum>\n",
      "    Pre-load matplotlib and numpy for interactive use,\n",
      "            selecting a particular matplotlib backend and loop integration.\n",
      "    Choices: any of ['auto', 'agg', 'gtk', 'gtk3', 'gtk4', 'inline', 'ipympl', 'nbagg', 'notebook', 'osx', 'pdf', 'ps', 'qt', 'qt4', 'qt5', 'qt6', 'svg', 'tk', 'widget', 'wx'] (case-insensitive) or None\n",
      "    Default: None\n",
      "    Equivalent to: [--InteractiveShellApp.pylab]\n",
      "--matplotlib=<CaselessStrEnum>\n",
      "    Configure matplotlib for interactive use with\n",
      "            the default matplotlib backend.\n",
      "    Choices: any of ['auto', 'agg', 'gtk', 'gtk3', 'gtk4', 'inline', 'ipympl', 'nbagg', 'notebook', 'osx', 'pdf', 'ps', 'qt', 'qt4', 'qt5', 'qt6', 'svg', 'tk', 'widget', 'wx'] (case-insensitive) or None\n",
      "    Default: None\n",
      "    Equivalent to: [--InteractiveShellApp.matplotlib]\n",
      "--cache-size=<Int>\n",
      "    Set the size of the output cache.  The default is 1000, you can change it\n",
      "    permanently in your config file.  Setting it to 0 completely disables the\n",
      "    caching system, and the minimum value accepted is 3 (if you provide a value\n",
      "    less than 3, it is reset to 0 and a warning is issued).  This limit is\n",
      "    defined because otherwise you'll spend more time re-flushing a too small\n",
      "    cache than working\n",
      "    Default: 1000\n",
      "    Equivalent to: [--InteractiveShell.cache_size]\n",
      "\n",
      "Class options\n",
      "=============\n",
      "The command-line option below sets the respective configurable class-parameter:\n",
      "    --Class.parameter=value\n",
      "This line is evaluated in Python, so simple expressions are allowed.\n",
      "For instance, to set `C.a=[0,1,2]`, you may type this:\n",
      "    --C.a='range(3)'\n",
      "\n",
      "InteractiveShellApp(Configurable) options\n",
      "-----------------------------------------\n",
      "--InteractiveShellApp.code_to_run=<Unicode>\n",
      "    Execute the given command string.\n",
      "    Default: ''\n",
      "--InteractiveShellApp.exec_PYTHONSTARTUP=<Bool>\n",
      "    Run the file referenced by the PYTHONSTARTUP environment\n",
      "            variable at IPython startup.\n",
      "    Default: True\n",
      "--InteractiveShellApp.exec_files=<list-item-1>...\n",
      "    List of files to run at IPython startup.\n",
      "    Default: []\n",
      "--InteractiveShellApp.exec_lines=<list-item-1>...\n",
      "    lines of code to run at IPython startup.\n",
      "    Default: []\n",
      "--InteractiveShellApp.extensions=<list-item-1>...\n",
      "    A list of dotted module names of IPython extensions to load.\n",
      "    Default: []\n",
      "--InteractiveShellApp.extra_extension=<Unicode>\n",
      "    DEPRECATED. Dotted module name of a single extra IPython extension to load.\n",
      "    Only one extension can be added this way.\n",
      "    Only used with traitlets < 5.0, plural extra_extensions list is used in\n",
      "    traitlets 5.\n",
      "    Default: ''\n",
      "--InteractiveShellApp.extra_extensions=<list-item-1>...\n",
      "    Dotted module name(s) of one or more IPython extensions to load.\n",
      "    For specifying extra extensions to load on the command-line.\n",
      "    .. versionadded:: 7.10\n",
      "    Default: []\n",
      "--InteractiveShellApp.file_to_run=<Unicode>\n",
      "    A file to be run\n",
      "    Default: ''\n",
      "--InteractiveShellApp.gui=<CaselessStrEnum>\n",
      "    Enable GUI event loop integration with any of ('asyncio', 'glut', 'gtk',\n",
      "    'gtk2', 'gtk3', 'gtk4', 'osx', 'pyglet', 'qt', 'qt4', 'qt5', 'qt6', 'tk',\n",
      "    'wx', 'gtk2', 'qt4').\n",
      "    Choices: any of ['asyncio', 'glut', 'gtk', 'gtk2', 'gtk3', 'gtk4', 'osx', 'pyglet', 'qt', 'qt4', 'qt5', 'qt6', 'tk', 'wx', 'gtk2', 'qt4'] (case-insensitive) or None\n",
      "    Default: None\n",
      "--InteractiveShellApp.hide_initial_ns=<Bool>\n",
      "    Should variables loaded at startup (by startup files, exec_lines, etc.)\n",
      "            be hidden from tools like %who?\n",
      "    Default: True\n",
      "--InteractiveShellApp.ignore_cwd=<Bool>\n",
      "    If True, IPython will not add the current working directory to sys.path.\n",
      "            When False, the current working directory is added to sys.path, allowing imports\n",
      "            of modules defined in the current directory.\n",
      "    Default: False\n",
      "--InteractiveShellApp.matplotlib=<CaselessStrEnum>\n",
      "    Configure matplotlib for interactive use with\n",
      "            the default matplotlib backend.\n",
      "    Choices: any of ['auto', 'agg', 'gtk', 'gtk3', 'gtk4', 'inline', 'ipympl', 'nbagg', 'notebook', 'osx', 'pdf', 'ps', 'qt', 'qt4', 'qt5', 'qt6', 'svg', 'tk', 'widget', 'wx'] (case-insensitive) or None\n",
      "    Default: None\n",
      "--InteractiveShellApp.module_to_run=<Unicode>\n",
      "    Run the module as a script.\n",
      "    Default: ''\n",
      "--InteractiveShellApp.pylab=<CaselessStrEnum>\n",
      "    Pre-load matplotlib and numpy for interactive use,\n",
      "            selecting a particular matplotlib backend and loop integration.\n",
      "    Choices: any of ['auto', 'agg', 'gtk', 'gtk3', 'gtk4', 'inline', 'ipympl', 'nbagg', 'notebook', 'osx', 'pdf', 'ps', 'qt', 'qt4', 'qt5', 'qt6', 'svg', 'tk', 'widget', 'wx'] (case-insensitive) or None\n",
      "    Default: None\n",
      "--InteractiveShellApp.pylab_import_all=<Bool>\n",
      "    If true, IPython will populate the user namespace with numpy, pylab, etc.\n",
      "            and an ``import *`` is done from numpy and pylab, when using pylab mode.\n",
      "            When False, pylab mode should not import any names into the user\n",
      "    namespace.\n",
      "    Default: True\n",
      "--InteractiveShellApp.reraise_ipython_extension_failures=<Bool>\n",
      "    Reraise exceptions encountered loading IPython extensions?\n",
      "    Default: False\n",
      "\n",
      "Application(SingletonConfigurable) options\n",
      "------------------------------------------\n",
      "--Application.log_datefmt=<Unicode>\n",
      "    The date format used by logging formatters for %(asctime)s\n",
      "    Default: '%Y-%m-%d %H:%M:%S'\n",
      "--Application.log_format=<Unicode>\n",
      "    The Logging format template\n",
      "    Default: '[%(name)s]%(highlevel)s %(message)s'\n",
      "--Application.log_level=<Enum>\n",
      "    Set the log level by value or name.\n",
      "    Choices: any of [0, 10, 20, 30, 40, 50, 'DEBUG', 'INFO', 'WARN', 'ERROR', 'CRITICAL']\n",
      "    Default: 30\n",
      "--Application.show_config=<Bool>\n",
      "    Instead of starting the Application, dump configuration to stdout\n",
      "    Default: False\n",
      "--Application.show_config_json=<Bool>\n",
      "    Instead of starting the Application, dump configuration to stdout (as JSON)\n",
      "    Default: False\n",
      "\n",
      "BaseIPythonApplication(Application) options\n",
      "-------------------------------------------\n",
      "--BaseIPythonApplication.auto_create=<Bool>\n",
      "    Whether to create profile dir if it doesn't exist\n",
      "    Default: False\n",
      "--BaseIPythonApplication.copy_config_files=<Bool>\n",
      "    Whether to install the default config files into the profile dir.\n",
      "            If a new profile is being created, and IPython contains config files for that\n",
      "            profile, then they will be staged into the new directory.  Otherwise,\n",
      "            default config files will be automatically generated.\n",
      "    Default: False\n",
      "--BaseIPythonApplication.extra_config_file=<Unicode>\n",
      "    Path to an extra config file to load.\n",
      "        If specified, load this config file in addition to any other IPython\n",
      "    config.\n",
      "    Default: ''\n",
      "--BaseIPythonApplication.ipython_dir=<Unicode>\n",
      "    The name of the IPython directory. This directory is used for logging\n",
      "    configuration (through profiles), history storage, etc. The default is\n",
      "    usually $HOME/.ipython. This option can also be specified through the\n",
      "    environment variable IPYTHONDIR.\n",
      "    Default: ''\n",
      "--BaseIPythonApplication.log_datefmt=<Unicode>\n",
      "    The date format used by logging formatters for %(asctime)s\n",
      "    Default: '%Y-%m-%d %H:%M:%S'\n",
      "--BaseIPythonApplication.log_format=<Unicode>\n",
      "    The Logging format template\n",
      "    Default: '[%(name)s]%(highlevel)s %(message)s'\n",
      "--BaseIPythonApplication.log_level=<Enum>\n",
      "    Set the log level by value or name.\n",
      "    Choices: any of [0, 10, 20, 30, 40, 50, 'DEBUG', 'INFO', 'WARN', 'ERROR', 'CRITICAL']\n",
      "    Default: 30\n",
      "--BaseIPythonApplication.overwrite=<Bool>\n",
      "    Whether to overwrite existing config files when copying\n",
      "    Default: False\n",
      "--BaseIPythonApplication.profile=<Unicode>\n",
      "    The IPython profile to use.\n",
      "    Default: 'default'\n",
      "--BaseIPythonApplication.show_config=<Bool>\n",
      "    Instead of starting the Application, dump configuration to stdout\n",
      "    Default: False\n",
      "--BaseIPythonApplication.show_config_json=<Bool>\n",
      "    Instead of starting the Application, dump configuration to stdout (as JSON)\n",
      "    Default: False\n",
      "--BaseIPythonApplication.verbose_crash=<Bool>\n",
      "    Create a massive crash report when IPython encounters what may be an\n",
      "            internal error.  The default is to append a short message to the\n",
      "            usual traceback\n",
      "    Default: False\n",
      "\n",
      "TerminalIPythonApp(BaseIPythonApplication, InteractiveShellApp) options\n",
      "-----------------------------------------------------------------------\n",
      "--TerminalIPythonApp.code_to_run=<Unicode>\n",
      "    Execute the given command string.\n",
      "    Default: ''\n",
      "--TerminalIPythonApp.copy_config_files=<Bool>\n",
      "    Whether to install the default config files into the profile dir.\n",
      "            If a new profile is being created, and IPython contains config files for that\n",
      "            profile, then they will be staged into the new directory.  Otherwise,\n",
      "            default config files will be automatically generated.\n",
      "    Default: False\n",
      "--TerminalIPythonApp.display_banner=<Bool>\n",
      "    Whether to display a banner upon starting IPython.\n",
      "    Default: True\n",
      "--TerminalIPythonApp.exec_PYTHONSTARTUP=<Bool>\n",
      "    Run the file referenced by the PYTHONSTARTUP environment\n",
      "            variable at IPython startup.\n",
      "    Default: True\n",
      "--TerminalIPythonApp.exec_files=<list-item-1>...\n",
      "    List of files to run at IPython startup.\n",
      "    Default: []\n",
      "--TerminalIPythonApp.exec_lines=<list-item-1>...\n",
      "    lines of code to run at IPython startup.\n",
      "    Default: []\n",
      "--TerminalIPythonApp.extensions=<list-item-1>...\n",
      "    A list of dotted module names of IPython extensions to load.\n",
      "    Default: []\n",
      "--TerminalIPythonApp.extra_config_file=<Unicode>\n",
      "    Path to an extra config file to load.\n",
      "        If specified, load this config file in addition to any other IPython\n",
      "    config.\n",
      "    Default: ''\n",
      "--TerminalIPythonApp.extra_extension=<Unicode>\n",
      "    DEPRECATED. Dotted module name of a single extra IPython extension to load.\n",
      "    Only one extension can be added this way.\n",
      "    Only used with traitlets < 5.0, plural extra_extensions list is used in\n",
      "    traitlets 5.\n",
      "    Default: ''\n",
      "--TerminalIPythonApp.extra_extensions=<list-item-1>...\n",
      "    Dotted module name(s) of one or more IPython extensions to load.\n",
      "    For specifying extra extensions to load on the command-line.\n",
      "    .. versionadded:: 7.10\n",
      "    Default: []\n",
      "--TerminalIPythonApp.file_to_run=<Unicode>\n",
      "    A file to be run\n",
      "    Default: ''\n",
      "--TerminalIPythonApp.force_interact=<Bool>\n",
      "    If a command or file is given via the command-line,\n",
      "            e.g. 'ipython foo.py', start an interactive shell after executing the\n",
      "            file or command.\n",
      "    Default: False\n",
      "--TerminalIPythonApp.gui=<CaselessStrEnum>\n",
      "    Enable GUI event loop integration with any of ('asyncio', 'glut', 'gtk',\n",
      "    'gtk2', 'gtk3', 'gtk4', 'osx', 'pyglet', 'qt', 'qt4', 'qt5', 'qt6', 'tk',\n",
      "    'wx', 'gtk2', 'qt4').\n",
      "    Choices: any of ['asyncio', 'glut', 'gtk', 'gtk2', 'gtk3', 'gtk4', 'osx', 'pyglet', 'qt', 'qt4', 'qt5', 'qt6', 'tk', 'wx', 'gtk2', 'qt4'] (case-insensitive) or None\n",
      "    Default: None\n",
      "--TerminalIPythonApp.hide_initial_ns=<Bool>\n",
      "    Should variables loaded at startup (by startup files, exec_lines, etc.)\n",
      "            be hidden from tools like %who?\n",
      "    Default: True\n",
      "--TerminalIPythonApp.ignore_cwd=<Bool>\n",
      "    If True, IPython will not add the current working directory to sys.path.\n",
      "            When False, the current working directory is added to sys.path, allowing imports\n",
      "            of modules defined in the current directory.\n",
      "    Default: False\n",
      "--TerminalIPythonApp.interactive_shell_class=<Type>\n",
      "    Class to use to instantiate the TerminalInteractiveShell object. Useful for\n",
      "    custom Frontends\n",
      "    Default: 'IPython.terminal.interactiveshell.TerminalInteractiveShell'\n",
      "--TerminalIPythonApp.ipython_dir=<Unicode>\n",
      "    The name of the IPython directory. This directory is used for logging\n",
      "    configuration (through profiles), history storage, etc. The default is\n",
      "    usually $HOME/.ipython. This option can also be specified through the\n",
      "    environment variable IPYTHONDIR.\n",
      "    Default: ''\n",
      "--TerminalIPythonApp.log_datefmt=<Unicode>\n",
      "    The date format used by logging formatters for %(asctime)s\n",
      "    Default: '%Y-%m-%d %H:%M:%S'\n",
      "--TerminalIPythonApp.log_format=<Unicode>\n",
      "    The Logging format template\n",
      "    Default: '[%(name)s]%(highlevel)s %(message)s'\n",
      "--TerminalIPythonApp.log_level=<Enum>\n",
      "    Set the log level by value or name.\n",
      "    Choices: any of [0, 10, 20, 30, 40, 50, 'DEBUG', 'INFO', 'WARN', 'ERROR', 'CRITICAL']\n",
      "    Default: 30\n",
      "--TerminalIPythonApp.matplotlib=<CaselessStrEnum>\n",
      "    Configure matplotlib for interactive use with\n",
      "            the default matplotlib backend.\n",
      "    Choices: any of ['auto', 'agg', 'gtk', 'gtk3', 'gtk4', 'inline', 'ipympl', 'nbagg', 'notebook', 'osx', 'pdf', 'ps', 'qt', 'qt4', 'qt5', 'qt6', 'svg', 'tk', 'widget', 'wx'] (case-insensitive) or None\n",
      "    Default: None\n",
      "--TerminalIPythonApp.module_to_run=<Unicode>\n",
      "    Run the module as a script.\n",
      "    Default: ''\n",
      "--TerminalIPythonApp.overwrite=<Bool>\n",
      "    Whether to overwrite existing config files when copying\n",
      "    Default: False\n",
      "--TerminalIPythonApp.profile=<Unicode>\n",
      "    The IPython profile to use.\n",
      "    Default: 'default'\n",
      "--TerminalIPythonApp.pylab=<CaselessStrEnum>\n",
      "    Pre-load matplotlib and numpy for interactive use,\n",
      "            selecting a particular matplotlib backend and loop integration.\n",
      "    Choices: any of ['auto', 'agg', 'gtk', 'gtk3', 'gtk4', 'inline', 'ipympl', 'nbagg', 'notebook', 'osx', 'pdf', 'ps', 'qt', 'qt4', 'qt5', 'qt6', 'svg', 'tk', 'widget', 'wx'] (case-insensitive) or None\n",
      "    Default: None\n",
      "--TerminalIPythonApp.pylab_import_all=<Bool>\n",
      "    If true, IPython will populate the user namespace with numpy, pylab, etc.\n",
      "            and an ``import *`` is done from numpy and pylab, when using pylab mode.\n",
      "            When False, pylab mode should not import any names into the user\n",
      "    namespace.\n",
      "    Default: True\n",
      "--TerminalIPythonApp.quick=<Bool>\n",
      "    Start IPython quickly by skipping the loading of config files.\n",
      "    Default: False\n",
      "--TerminalIPythonApp.reraise_ipython_extension_failures=<Bool>\n",
      "    Reraise exceptions encountered loading IPython extensions?\n",
      "    Default: False\n",
      "--TerminalIPythonApp.show_config=<Bool>\n",
      "    Instead of starting the Application, dump configuration to stdout\n",
      "    Default: False\n",
      "--TerminalIPythonApp.show_config_json=<Bool>\n",
      "    Instead of starting the Application, dump configuration to stdout (as JSON)\n",
      "    Default: False\n",
      "--TerminalIPythonApp.verbose_crash=<Bool>\n",
      "    Create a massive crash report when IPython encounters what may be an\n",
      "            internal error.  The default is to append a short message to the\n",
      "            usual traceback\n",
      "    Default: False\n",
      "\n",
      "InteractiveShell(SingletonConfigurable) options\n",
      "-----------------------------------------------\n",
      "--InteractiveShell.ast_node_interactivity=<Enum>\n",
      "    'all', 'last', 'last_expr' or 'none', 'last_expr_or_assign' specifying which\n",
      "    nodes should be run interactively (displaying output from expressions).\n",
      "    Choices: any of ['all', 'last', 'last_expr', 'none', 'last_expr_or_assign']\n",
      "    Default: 'last_expr'\n",
      "--InteractiveShell.ast_transformers=<list-item-1>...\n",
      "    A list of ast.NodeTransformer subclass instances, which will be applied to\n",
      "    user input before code is run.\n",
      "    Default: []\n",
      "--InteractiveShell.autoawait=<Bool>\n",
      "    Automatically run await statement in the top level repl.\n",
      "    Default: True\n",
      "--InteractiveShell.autocall=<Enum>\n",
      "    Make IPython automatically call any callable object even if you didn't type\n",
      "    explicit parentheses. For example, 'str 43' becomes 'str(43)' automatically.\n",
      "    The value can be '0' to disable the feature, '1' for 'smart' autocall, where\n",
      "    it is not applied if there are no more arguments on the line, and '2' for\n",
      "    'full' autocall, where all callable objects are automatically called (even\n",
      "    if no arguments are present).\n",
      "    Choices: any of [0, 1, 2]\n",
      "    Default: 0\n",
      "--InteractiveShell.autoindent=<Bool>\n",
      "    Autoindent IPython code entered interactively.\n",
      "    Default: True\n",
      "--InteractiveShell.automagic=<Bool>\n",
      "    Enable magic commands to be called without the leading %.\n",
      "    Default: True\n",
      "--InteractiveShell.banner1=<Unicode>\n",
      "    The part of the banner to be printed before the profile\n",
      "    Default: \"Python 3.7.6 (tags/v3.7.6:43364a7ae0, Dec 19 2019, 00:42:30)...\n",
      "--InteractiveShell.banner2=<Unicode>\n",
      "    The part of the banner to be printed after the profile\n",
      "    Default: ''\n",
      "--InteractiveShell.cache_size=<Int>\n",
      "    Set the size of the output cache.  The default is 1000, you can change it\n",
      "    permanently in your config file.  Setting it to 0 completely disables the\n",
      "    caching system, and the minimum value accepted is 3 (if you provide a value\n",
      "    less than 3, it is reset to 0 and a warning is issued).  This limit is\n",
      "    defined because otherwise you'll spend more time re-flushing a too small\n",
      "    cache than working\n",
      "    Default: 1000\n",
      "--InteractiveShell.color_info=<Bool>\n",
      "    Use colors for displaying information about objects. Because this\n",
      "    information is passed through a pager (like 'less'), and some pagers get\n",
      "    confused with color codes, this capability can be turned off.\n",
      "    Default: True\n",
      "--InteractiveShell.colors=<CaselessStrEnum>\n",
      "    Set the color scheme (NoColor, Neutral, Linux, or LightBG).\n",
      "    Choices: any of ['Neutral', 'NoColor', 'LightBG', 'Linux'] (case-insensitive)\n",
      "    Default: 'Neutral'\n",
      "--InteractiveShell.debug=<Bool>\n",
      "    Default: False\n",
      "--InteractiveShell.disable_failing_post_execute=<Bool>\n",
      "    Don't call post-execute functions that have failed in the past.\n",
      "    Default: False\n",
      "--InteractiveShell.display_page=<Bool>\n",
      "    If True, anything that would be passed to the pager\n",
      "            will be displayed as regular output instead.\n",
      "    Default: False\n",
      "--InteractiveShell.enable_html_pager=<Bool>\n",
      "    (Provisional API) enables html representation in mime bundles sent to\n",
      "    pagers.\n",
      "    Default: False\n",
      "--InteractiveShell.history_length=<Int>\n",
      "    Total length of command history\n",
      "    Default: 10000\n",
      "--InteractiveShell.history_load_length=<Int>\n",
      "    The number of saved history entries to be loaded into the history buffer at\n",
      "    startup.\n",
      "    Default: 1000\n",
      "--InteractiveShell.ipython_dir=<Unicode>\n",
      "    Default: ''\n",
      "--InteractiveShell.logappend=<Unicode>\n",
      "    Start logging to the given file in append mode. Use `logfile` to specify a\n",
      "    log file to **overwrite** logs to.\n",
      "    Default: ''\n",
      "--InteractiveShell.logfile=<Unicode>\n",
      "    The name of the logfile to use.\n",
      "    Default: ''\n",
      "--InteractiveShell.logstart=<Bool>\n",
      "    Start logging to the default log file in overwrite mode. Use `logappend` to\n",
      "    specify a log file to **append** logs to.\n",
      "    Default: False\n",
      "--InteractiveShell.loop_runner=<Any>\n",
      "    Select the loop runner that will be used to execute top-level asynchronous\n",
      "    code\n",
      "    Default: 'IPython.core.interactiveshell._asyncio_runner'\n",
      "--InteractiveShell.object_info_string_level=<Enum>\n",
      "    Choices: any of [0, 1, 2]\n",
      "    Default: 0\n",
      "--InteractiveShell.pdb=<Bool>\n",
      "    Automatically call the pdb debugger after every exception.\n",
      "    Default: False\n",
      "--InteractiveShell.prompt_in1=<Unicode>\n",
      "    Deprecated since IPython 4.0 and ignored since 5.0, set\n",
      "    TerminalInteractiveShell.prompts object directly.\n",
      "    Default: 'In [\\\\#]: '\n",
      "--InteractiveShell.prompt_in2=<Unicode>\n",
      "    Deprecated since IPython 4.0 and ignored since 5.0, set\n",
      "    TerminalInteractiveShell.prompts object directly.\n",
      "    Default: '   .\\\\D.: '\n",
      "--InteractiveShell.prompt_out=<Unicode>\n",
      "    Deprecated since IPython 4.0 and ignored since 5.0, set\n",
      "    TerminalInteractiveShell.prompts object directly.\n",
      "    Default: 'Out[\\\\#]: '\n",
      "--InteractiveShell.prompts_pad_left=<Bool>\n",
      "    Deprecated since IPython 4.0 and ignored since 5.0, set\n",
      "    TerminalInteractiveShell.prompts object directly.\n",
      "    Default: True\n",
      "--InteractiveShell.quiet=<Bool>\n",
      "    Default: False\n",
      "--InteractiveShell.separate_in=<SeparateUnicode>\n",
      "    Default: '\\n'\n",
      "--InteractiveShell.separate_out=<SeparateUnicode>\n",
      "    Default: ''\n",
      "--InteractiveShell.separate_out2=<SeparateUnicode>\n",
      "    Default: ''\n",
      "--InteractiveShell.show_rewritten_input=<Bool>\n",
      "    Show rewritten input, e.g. for autocall.\n",
      "    Default: True\n",
      "--InteractiveShell.sphinxify_docstring=<Bool>\n",
      "    Enables rich html representation of docstrings. (This requires the docrepr\n",
      "    module).\n",
      "    Default: False\n",
      "--InteractiveShell.wildcards_case_sensitive=<Bool>\n",
      "    Default: True\n",
      "--InteractiveShell.xmode=<CaselessStrEnum>\n",
      "    Switch modes for the IPython exception handlers.\n",
      "    Choices: any of ['Context', 'Plain', 'Verbose', 'Minimal'] (case-insensitive)\n",
      "    Default: 'Context'\n",
      "\n",
      "TerminalInteractiveShell(InteractiveShell) options\n",
      "--------------------------------------------------\n",
      "--TerminalInteractiveShell.ast_node_interactivity=<Enum>\n",
      "    'all', 'last', 'last_expr' or 'none', 'last_expr_or_assign' specifying which\n",
      "    nodes should be run interactively (displaying output from expressions).\n",
      "    Choices: any of ['all', 'last', 'last_expr', 'none', 'last_expr_or_assign']\n",
      "    Default: 'last_expr'\n",
      "--TerminalInteractiveShell.ast_transformers=<list-item-1>...\n",
      "    A list of ast.NodeTransformer subclass instances, which will be applied to\n",
      "    user input before code is run.\n",
      "    Default: []\n",
      "--TerminalInteractiveShell.autoawait=<Bool>\n",
      "    Automatically run await statement in the top level repl.\n",
      "    Default: True\n",
      "--TerminalInteractiveShell.autocall=<Enum>\n",
      "    Make IPython automatically call any callable object even if you didn't type\n",
      "    explicit parentheses. For example, 'str 43' becomes 'str(43)' automatically.\n",
      "    The value can be '0' to disable the feature, '1' for 'smart' autocall, where\n",
      "    it is not applied if there are no more arguments on the line, and '2' for\n",
      "    'full' autocall, where all callable objects are automatically called (even\n",
      "    if no arguments are present).\n",
      "    Choices: any of [0, 1, 2]\n",
      "    Default: 0\n",
      "--TerminalInteractiveShell.autoformatter=<Unicode>\n",
      "    Autoformatter to reformat Terminal code. Can be `'black'` or `None`\n",
      "    Default: None\n",
      "--TerminalInteractiveShell.autoindent=<Bool>\n",
      "    Autoindent IPython code entered interactively.\n",
      "    Default: True\n",
      "--TerminalInteractiveShell.automagic=<Bool>\n",
      "    Enable magic commands to be called without the leading %.\n",
      "    Default: True\n",
      "--TerminalInteractiveShell.banner1=<Unicode>\n",
      "    The part of the banner to be printed before the profile\n",
      "    Default: \"Python 3.7.6 (tags/v3.7.6:43364a7ae0, Dec 19 2019, 00:42:30)...\n",
      "--TerminalInteractiveShell.banner2=<Unicode>\n",
      "    The part of the banner to be printed after the profile\n",
      "    Default: ''\n",
      "--TerminalInteractiveShell.cache_size=<Int>\n",
      "    Set the size of the output cache.  The default is 1000, you can change it\n",
      "    permanently in your config file.  Setting it to 0 completely disables the\n",
      "    caching system, and the minimum value accepted is 3 (if you provide a value\n",
      "    less than 3, it is reset to 0 and a warning is issued).  This limit is\n",
      "    defined because otherwise you'll spend more time re-flushing a too small\n",
      "    cache than working\n",
      "    Default: 1000\n",
      "--TerminalInteractiveShell.color_info=<Bool>\n",
      "    Use colors for displaying information about objects. Because this\n",
      "    information is passed through a pager (like 'less'), and some pagers get\n",
      "    confused with color codes, this capability can be turned off.\n",
      "    Default: True\n",
      "--TerminalInteractiveShell.colors=<CaselessStrEnum>\n",
      "    Set the color scheme (NoColor, Neutral, Linux, or LightBG).\n",
      "    Choices: any of ['Neutral', 'NoColor', 'LightBG', 'Linux'] (case-insensitive)\n",
      "    Default: 'Neutral'\n",
      "--TerminalInteractiveShell.confirm_exit=<Bool>\n",
      "    Set to confirm when you try to exit IPython with an EOF (Control-D in Unix,\n",
      "    Control-Z/Enter in Windows). By typing 'exit' or 'quit', you can force a\n",
      "    direct exit without any confirmation.\n",
      "    Default: True\n",
      "--TerminalInteractiveShell.debug=<Bool>\n",
      "    Default: False\n",
      "--TerminalInteractiveShell.disable_failing_post_execute=<Bool>\n",
      "    Don't call post-execute functions that have failed in the past.\n",
      "    Default: False\n",
      "--TerminalInteractiveShell.display_completions=<Enum>\n",
      "    Options for displaying tab completions, 'column', 'multicolumn', and\n",
      "    'readlinelike'. These options are for `prompt_toolkit`, see `prompt_toolkit`\n",
      "    documentation for more information.\n",
      "    Choices: any of ['column', 'multicolumn', 'readlinelike']\n",
      "    Default: 'multicolumn'\n",
      "--TerminalInteractiveShell.display_page=<Bool>\n",
      "    If True, anything that would be passed to the pager\n",
      "            will be displayed as regular output instead.\n",
      "    Default: False\n",
      "--TerminalInteractiveShell.editing_mode=<Unicode>\n",
      "    Shortcut style to use at the prompt. 'vi' or 'emacs'.\n",
      "    Default: 'emacs'\n",
      "--TerminalInteractiveShell.editor=<Unicode>\n",
      "    Set the editor used by IPython (default to $EDITOR/vi/notepad).\n",
      "    Default: 'notepad'\n",
      "--TerminalInteractiveShell.enable_history_search=<Bool>\n",
      "    Allows to enable/disable the prompt toolkit history search\n",
      "    Default: True\n",
      "--TerminalInteractiveShell.enable_html_pager=<Bool>\n",
      "    (Provisional API) enables html representation in mime bundles sent to\n",
      "    pagers.\n",
      "    Default: False\n",
      "--TerminalInteractiveShell.extra_open_editor_shortcuts=<Bool>\n",
      "    Enable vi (v) or Emacs (C-X C-E) shortcuts to open an external editor. This\n",
      "    is in addition to the F2 binding, which is always enabled.\n",
      "    Default: False\n",
      "--TerminalInteractiveShell.handle_return=<Any>\n",
      "    Provide an alternative handler to be called when the user presses Return.\n",
      "    This is an advanced option intended for debugging, which may be changed or\n",
      "    removed in later releases.\n",
      "    Default: None\n",
      "--TerminalInteractiveShell.highlight_matching_brackets=<Bool>\n",
      "    Highlight matching brackets.\n",
      "    Default: True\n",
      "--TerminalInteractiveShell.highlighting_style=<Union>\n",
      "    The name or class of a Pygments style to use for syntax\n",
      "            highlighting. To see available styles, run `pygmentize -L styles`.\n",
      "    Default: traitlets.Undefined\n",
      "--TerminalInteractiveShell.highlighting_style_overrides=<key-1>=<value-1>...\n",
      "    Override highlighting format for specific tokens\n",
      "    Default: {}\n",
      "--TerminalInteractiveShell.history_length=<Int>\n",
      "    Total length of command history\n",
      "    Default: 10000\n",
      "--TerminalInteractiveShell.history_load_length=<Int>\n",
      "    The number of saved history entries to be loaded into the history buffer at\n",
      "    startup.\n",
      "    Default: 1000\n",
      "--TerminalInteractiveShell.ipython_dir=<Unicode>\n",
      "    Default: ''\n",
      "--TerminalInteractiveShell.logappend=<Unicode>\n",
      "    Start logging to the given file in append mode. Use `logfile` to specify a\n",
      "    log file to **overwrite** logs to.\n",
      "    Default: ''\n",
      "--TerminalInteractiveShell.logfile=<Unicode>\n",
      "    The name of the logfile to use.\n",
      "    Default: ''\n",
      "--TerminalInteractiveShell.logstart=<Bool>\n",
      "    Start logging to the default log file in overwrite mode. Use `logappend` to\n",
      "    specify a log file to **append** logs to.\n",
      "    Default: False\n",
      "--TerminalInteractiveShell.loop_runner=<Any>\n",
      "    Select the loop runner that will be used to execute top-level asynchronous\n",
      "    code\n",
      "    Default: 'IPython.core.interactiveshell._asyncio_runner'\n",
      "--TerminalInteractiveShell.mime_renderers=<key-1>=<value-1>...\n",
      "    Default: {}\n",
      "--TerminalInteractiveShell.mouse_support=<Bool>\n",
      "    Enable mouse support in the prompt (Note: prevents selecting text with the\n",
      "    mouse)\n",
      "    Default: False\n",
      "--TerminalInteractiveShell.object_info_string_level=<Enum>\n",
      "    Choices: any of [0, 1, 2]\n",
      "    Default: 0\n",
      "--TerminalInteractiveShell.pdb=<Bool>\n",
      "    Automatically call the pdb debugger after every exception.\n",
      "    Default: False\n",
      "--TerminalInteractiveShell.prompt_in1=<Unicode>\n",
      "    Deprecated since IPython 4.0 and ignored since 5.0, set\n",
      "    TerminalInteractiveShell.prompts object directly.\n",
      "    Default: 'In [\\\\#]: '\n",
      "--TerminalInteractiveShell.prompt_in2=<Unicode>\n",
      "    Deprecated since IPython 4.0 and ignored since 5.0, set\n",
      "    TerminalInteractiveShell.prompts object directly.\n",
      "    Default: '   .\\\\D.: '\n",
      "--TerminalInteractiveShell.prompt_includes_vi_mode=<Bool>\n",
      "    Display the current vi mode (when using vi editing mode).\n",
      "    Default: True\n",
      "--TerminalInteractiveShell.prompt_out=<Unicode>\n",
      "    Deprecated since IPython 4.0 and ignored since 5.0, set\n",
      "    TerminalInteractiveShell.prompts object directly.\n",
      "    Default: 'Out[\\\\#]: '\n",
      "--TerminalInteractiveShell.prompts_class=<Type>\n",
      "    Class used to generate Prompt token for prompt_toolkit\n",
      "    Default: 'IPython.terminal.prompts.Prompts'\n",
      "--TerminalInteractiveShell.prompts_pad_left=<Bool>\n",
      "    Deprecated since IPython 4.0 and ignored since 5.0, set\n",
      "    TerminalInteractiveShell.prompts object directly.\n",
      "    Default: True\n",
      "--TerminalInteractiveShell.quiet=<Bool>\n",
      "    Default: False\n",
      "--TerminalInteractiveShell.separate_in=<SeparateUnicode>\n",
      "    Default: '\\n'\n",
      "--TerminalInteractiveShell.separate_out=<SeparateUnicode>\n",
      "    Default: ''\n",
      "--TerminalInteractiveShell.separate_out2=<SeparateUnicode>\n",
      "    Default: ''\n",
      "--TerminalInteractiveShell.show_rewritten_input=<Bool>\n",
      "    Show rewritten input, e.g. for autocall.\n",
      "    Default: True\n",
      "--TerminalInteractiveShell.simple_prompt=<Bool>\n",
      "    Use `raw_input` for the REPL, without completion and prompt colors.\n",
      "                Useful when controlling IPython as a subprocess, and piping STDIN/OUT/ERR. Known usage are:\n",
      "                IPython own testing machinery, and emacs inferior-shell integration through elpy.\n",
      "                This mode default to `True` if the `IPY_TEST_SIMPLE_PROMPT`\n",
      "                environment variable is set, or the current terminal is not a tty.\n",
      "    Default: True\n",
      "--TerminalInteractiveShell.space_for_menu=<Int>\n",
      "    Number of line at the bottom of the screen to reserve for the tab completion\n",
      "    menu, search history, ...etc, the height of these menus will at most this\n",
      "    value. Increase it is you prefer long and skinny menus, decrease for short\n",
      "    and wide.\n",
      "    Default: 6\n",
      "--TerminalInteractiveShell.sphinxify_docstring=<Bool>\n",
      "    Enables rich html representation of docstrings. (This requires the docrepr\n",
      "    module).\n",
      "    Default: False\n",
      "--TerminalInteractiveShell.term_title=<Bool>\n",
      "    Automatically set the terminal title\n",
      "    Default: True\n",
      "--TerminalInteractiveShell.term_title_format=<Unicode>\n",
      "    Customize the terminal title format.  This is a python format string.\n",
      "    Available substitutions are: {cwd}.\n",
      "    Default: 'IPython: {cwd}'\n",
      "--TerminalInteractiveShell.true_color=<Bool>\n",
      "    Use 24bit colors instead of 256 colors in prompt highlighting. If your\n",
      "    terminal supports true color, the following command should print 'TRUECOLOR'\n",
      "    in orange: printf \"\\x1b[38;2;255;100;0mTRUECOLOR\\x1b[0m\\n\"\n",
      "    Default: False\n",
      "--TerminalInteractiveShell.wildcards_case_sensitive=<Bool>\n",
      "    Default: True\n",
      "--TerminalInteractiveShell.xmode=<CaselessStrEnum>\n",
      "    Switch modes for the IPython exception handlers.\n",
      "    Choices: any of ['Context', 'Plain', 'Verbose', 'Minimal'] (case-insensitive)\n",
      "    Default: 'Context'\n",
      "\n",
      "HistoryAccessor(HistoryAccessorBase) options\n",
      "--------------------------------------------\n",
      "--HistoryAccessor.connection_options=<key-1>=<value-1>...\n",
      "    Options for configuring the SQLite connection\n",
      "            These options are passed as keyword args to sqlite3.connect\n",
      "            when establishing database connections.\n",
      "    Default: {}\n",
      "--HistoryAccessor.enabled=<Bool>\n",
      "    enable the SQLite history\n",
      "            set enabled=False to disable the SQLite history,\n",
      "            in which case there will be no stored history, no SQLite connection,\n",
      "            and no background saving thread.  This may be necessary in some\n",
      "            threaded environments where IPython is embedded.\n",
      "    Default: True\n",
      "--HistoryAccessor.hist_file=<Unicode>\n",
      "    Path to file to use for SQLite history database.\n",
      "            By default, IPython will put the history database in the IPython\n",
      "            profile directory.  If you would rather share one history among\n",
      "            profiles, you can set this value in each, so that they are consistent.\n",
      "            Due to an issue with fcntl, SQLite is known to misbehave on some NFS\n",
      "            mounts.  If you see IPython hanging, try setting this to something on a\n",
      "            local disk, e.g::\n",
      "                ipython --HistoryManager.hist_file=/tmp/ipython_hist.sqlite\n",
      "            you can also use the specific value `:memory:` (including the colon\n",
      "            at both end but not the back ticks), to avoid creating an history file.\n",
      "    Default: ''\n",
      "\n",
      "HistoryManager(HistoryAccessor) options\n",
      "---------------------------------------\n",
      "--HistoryManager.connection_options=<key-1>=<value-1>...\n",
      "    Options for configuring the SQLite connection\n",
      "            These options are passed as keyword args to sqlite3.connect\n",
      "            when establishing database connections.\n",
      "    Default: {}\n",
      "--HistoryManager.db_cache_size=<Int>\n",
      "    Write to database every x commands (higher values save disk access & power).\n",
      "    Values of 1 or less effectively disable caching.\n",
      "    Default: 0\n",
      "--HistoryManager.db_log_output=<Bool>\n",
      "    Should the history database include output? (default: no)\n",
      "    Default: False\n",
      "--HistoryManager.enabled=<Bool>\n",
      "    enable the SQLite history\n",
      "            set enabled=False to disable the SQLite history,\n",
      "            in which case there will be no stored history, no SQLite connection,\n",
      "            and no background saving thread.  This may be necessary in some\n",
      "            threaded environments where IPython is embedded.\n",
      "    Default: True\n",
      "--HistoryManager.hist_file=<Unicode>\n",
      "    Path to file to use for SQLite history database.\n",
      "            By default, IPython will put the history database in the IPython\n",
      "            profile directory.  If you would rather share one history among\n",
      "            profiles, you can set this value in each, so that they are consistent.\n",
      "            Due to an issue with fcntl, SQLite is known to misbehave on some NFS\n",
      "            mounts.  If you see IPython hanging, try setting this to something on a\n",
      "            local disk, e.g::\n",
      "                ipython --HistoryManager.hist_file=/tmp/ipython_hist.sqlite\n",
      "            you can also use the specific value `:memory:` (including the colon\n",
      "            at both end but not the back ticks), to avoid creating an history file.\n",
      "    Default: ''\n",
      "\n",
      "ProfileDir(LoggingConfigurable) options\n",
      "---------------------------------------\n",
      "--ProfileDir.location=<Unicode>\n",
      "    Set the profile location directly. This overrides the logic used by the\n",
      "            `profile` option.\n",
      "    Default: ''\n",
      "\n",
      "BaseFormatter(Configurable) options\n",
      "-----------------------------------\n",
      "--BaseFormatter.deferred_printers=<key-1>=<value-1>...\n",
      "    Default: {}\n",
      "--BaseFormatter.enabled=<Bool>\n",
      "    Default: True\n",
      "--BaseFormatter.singleton_printers=<key-1>=<value-1>...\n",
      "    Default: {}\n",
      "--BaseFormatter.type_printers=<key-1>=<value-1>...\n",
      "    Default: {}\n",
      "\n",
      "PlainTextFormatter(BaseFormatter) options\n",
      "-----------------------------------------\n",
      "--PlainTextFormatter.deferred_printers=<key-1>=<value-1>...\n",
      "    Default: {}\n",
      "--PlainTextFormatter.float_precision=<CUnicode>\n",
      "    Default: ''\n",
      "--PlainTextFormatter.max_seq_length=<Int>\n",
      "    Truncate large collections (lists, dicts, tuples, sets) to this size.\n",
      "            Set to 0 to disable truncation.\n",
      "    Default: 1000\n",
      "--PlainTextFormatter.max_width=<Int>\n",
      "    Default: 79\n",
      "--PlainTextFormatter.newline=<Unicode>\n",
      "    Default: '\\n'\n",
      "--PlainTextFormatter.pprint=<Bool>\n",
      "    Default: True\n",
      "--PlainTextFormatter.singleton_printers=<key-1>=<value-1>...\n",
      "    Default: {}"
     ]
    }
   ],
   "source": [
    "!ipython --help-all"
   ]
  },
  {
   "cell_type": "code",
   "execution_count": 103,
   "id": "6b09e10f",
   "metadata": {},
   "outputs": [
    {
     "name": "stdout",
     "output_type": "stream",
     "text": [
      "\n",
      "--PlainTextFormatter.type_printers=<key-1>=<value-1>...\n",
      "    Default: {}\n",
      "--PlainTextFormatter.verbose=<Bool>\n",
      "    Default: False\n",
      "\n",
      "Completer(Configurable) options\n",
      "-------------------------------\n",
      "--Completer.backslash_combining_completions=<Bool>\n",
      "    Enable unicode completions, e.g. \\alpha<tab> . Includes completion of latex\n",
      "    commands, unicode names, and expanding unicode characters back to latex\n",
      "    commands.\n",
      "    Default: True\n",
      "--Completer.debug=<Bool>\n",
      "    Enable debug for the Completer. Mostly print extra information for\n",
      "    experimental jedi integration.\n",
      "    Default: False\n",
      "--Completer.greedy=<Bool>\n",
      "    Activate greedy completion\n",
      "            PENDING DEPRECTION. this is now mostly taken care of with Jedi.\n",
      "            This will enable completion on elements of lists, results of function calls, etc.,\n",
      "            but can be unsafe because the code is actually evaluated on TAB.\n",
      "    Default: False\n",
      "--Completer.jedi_compute_type_timeout=<Int>\n",
      "    Experimental: restrict time (in milliseconds) during which Jedi can compute types.\n",
      "            Set to 0 to stop computing types. Non-zero value lower than 100ms may hurt\n",
      "            performance by preventing jedi to build its cache.\n",
      "    Default: 400\n",
      "--Completer.use_jedi=<Bool>\n",
      "    Experimental: Use Jedi to generate autocompletions. Default to True if jedi\n",
      "    is installed.\n",
      "    Default: True\n",
      "\n",
      "IPCompleter(Completer) options\n",
      "------------------------------\n",
      "--IPCompleter.backslash_combining_completions=<Bool>\n",
      "    Enable unicode completions, e.g. \\alpha<tab> . Includes completion of latex\n",
      "    commands, unicode names, and expanding unicode characters back to latex\n",
      "    commands.\n",
      "    Default: True\n",
      "--IPCompleter.debug=<Bool>\n",
      "    Enable debug for the Completer. Mostly print extra information for\n",
      "    experimental jedi integration.\n",
      "    Default: False\n",
      "--IPCompleter.greedy=<Bool>\n",
      "    Activate greedy completion\n",
      "            PENDING DEPRECTION. this is now mostly taken care of with Jedi.\n",
      "            This will enable completion on elements of lists, results of function calls, etc.,\n",
      "            but can be unsafe because the code is actually evaluated on TAB.\n",
      "    Default: False\n",
      "--IPCompleter.jedi_compute_type_timeout=<Int>\n",
      "    Experimental: restrict time (in milliseconds) during which Jedi can compute types.\n",
      "            Set to 0 to stop computing types. Non-zero value lower than 100ms may hurt\n",
      "            performance by preventing jedi to build its cache.\n",
      "    Default: 400\n",
      "--IPCompleter.limit_to__all__=<Bool>\n",
      "    DEPRECATED as of version 5.0.\n",
      "    Instruct the completer to use __all__ for the completion\n",
      "    Specifically, when completing on ``object.<tab>``.\n",
      "    When True: only those names in obj.__all__ will be included.\n",
      "    When False [default]: the __all__ attribute is ignored\n",
      "    Default: False\n",
      "--IPCompleter.merge_completions=<Bool>\n",
      "    Whether to merge completion results into a single list\n",
      "            If False, only the completion results from the first non-empty\n",
      "            completer will be returned.\n",
      "    Default: True\n",
      "--IPCompleter.omit__names=<Enum>\n",
      "    Instruct the completer to omit private method names\n",
      "            Specifically, when completing on ``object.<tab>``.\n",
      "            When 2 [default]: all names that start with '_' will be excluded.\n",
      "            When 1: all 'magic' names (``__foo__``) will be excluded.\n",
      "            When 0: nothing will be excluded.\n",
      "    Choices: any of [0, 1, 2]\n",
      "    Default: 2\n",
      "--IPCompleter.use_jedi=<Bool>\n",
      "    Experimental: Use Jedi to generate autocompletions. Default to True if jedi\n",
      "    is installed.\n",
      "    Default: True\n",
      "\n",
      "ScriptMagics(Magics) options\n",
      "----------------------------\n",
      "--ScriptMagics.script_magics=<list-item-1>...\n",
      "    Extra script cell magics to define\n",
      "            This generates simple wrappers of `%%script foo` as `%%foo`.\n",
      "            If you want to add script magics that aren't on your path,\n",
      "            specify them in script_paths\n",
      "    Default: []\n",
      "--ScriptMagics.script_paths=<key-1>=<value-1>...\n",
      "    Dict mapping short 'ruby' names to full paths, such as\n",
      "    '/opt/secret/bin/ruby'\n",
      "            Only necessary for items in script_magics where the default path will not\n",
      "            find the right interpreter.\n",
      "    Default: {}\n",
      "\n",
      "LoggingMagics(Magics) options\n",
      "-----------------------------\n",
      "--LoggingMagics.quiet=<Bool>\n",
      "    Suppress output of log state when logging is enabled\n",
      "    Default: False\n",
      "\n",
      "StoreMagics(Magics) options\n",
      "---------------------------\n",
      "--StoreMagics.autorestore=<Bool>\n",
      "    If True, any %store-d variables will be automatically restored\n",
      "            when IPython starts.\n",
      "    Default: False\n",
      "\n",
      "Examples\n",
      "--------\n",
      "\n",
      "    ipython --matplotlib       # enable matplotlib integration\n",
      "    ipython --matplotlib=qt    # enable matplotlib integration with qt4 backend\n",
      "\n",
      "    ipython --log-level=DEBUG  # set logging to DEBUG\n",
      "    ipython --profile=foo      # start with profile foo\n",
      "\n",
      "    ipython profile create foo # create profile foo w/ default config files\n",
      "    ipython help profile       # show the help for the profile subcmd\n",
      "\n",
      "    ipython locate             # print the path to the IPython directory\n",
      "    ipython locate profile foo # print the path to the directory for profile `foo`\n",
      "\n"
     ]
    }
   ],
   "source": [
    "!ipython profile create newprofile"
   ]
  },
  {
   "cell_type": "code",
   "execution_count": 104,
   "id": "31b3b1de",
   "metadata": {},
   "outputs": [
    {
     "name": "stdout",
     "output_type": "stream",
     "text": [
      "C:\\Users\\Renge.TSUKINO\\.ipython\\profile_default\n",
      "C:\\Users\\Renge.TSUKINO\\.ipython\\profile_newprofile\n"
     ]
    }
   ],
   "source": [
    "!ipython locate profile default\n",
    "!ipython locate profile newprofile"
   ]
  },
  {
   "cell_type": "code",
   "execution_count": 105,
   "id": "f2bf9fd2",
   "metadata": {},
   "outputs": [
    {
     "data": {
      "text/plain": [
       "'C:\\\\Users\\\\Renge.TSUKINO\\\\.ipython\\\\profile_default'"
      ]
     },
     "execution_count": 105,
     "metadata": {},
     "output_type": "execute_result"
    }
   ],
   "source": [
    "profile = get_ipython().profile_dir.location\n",
    "profile"
   ]
  },
  {
   "cell_type": "code",
   "execution_count": 106,
   "id": "92bc5e71",
   "metadata": {},
   "outputs": [
    {
     "name": "stdout",
     "output_type": "stream",
     "text": [
      " Volume in drive C has no label.\n",
      " Volume Serial Number is A0C1-2239\n",
      "\n",
      " Directory of C:\\Users\\Renge.TSUKINO\\.ipython\\profile_default\n",
      "\n",
      "11/06/2021  05:12 PM    <DIR>          .\n",
      "11/06/2021  05:12 PM    <DIR>          ..\n",
      "11/06/2021  11:50 AM    <DIR>          db\n",
      "11/06/2021  05:12 PM           118,784 history.sqlite\n",
      "11/06/2021  11:50 AM    <DIR>          log\n",
      "11/06/2021  11:50 AM    <DIR>          pid\n",
      "11/06/2021  11:50 AM    <DIR>          security\n",
      "11/06/2021  05:05 PM    <DIR>          startup\n",
      "               1 File(s)        118,784 bytes\n",
      "               7 Dir(s)  62,984,757,248 bytes free\n"
     ]
    }
   ],
   "source": [
    "ls $profile"
   ]
  },
  {
   "cell_type": "code",
   "execution_count": 107,
   "id": "659d00e3",
   "metadata": {},
   "outputs": [
    {
     "name": "stdout",
     "output_type": "stream",
     "text": [
      "Error: no such file, variable, URL, history range or macro\n"
     ]
    }
   ],
   "source": [
    "pycat $profile/ipython_config.py"
   ]
  },
  {
   "cell_type": "code",
   "execution_count": 108,
   "id": "9876fc34",
   "metadata": {},
   "outputs": [
    {
     "name": "stderr",
     "output_type": "stream",
     "text": [
      "Parameter format not correct - \"startup\".\n"
     ]
    }
   ],
   "source": [
    "!dir $profile/startup"
   ]
  },
  {
   "cell_type": "code",
   "execution_count": 109,
   "id": "e36ed01f",
   "metadata": {},
   "outputs": [
    {
     "name": "stderr",
     "output_type": "stream",
     "text": [
      "The syntax of the command is incorrect.\n"
     ]
    }
   ],
   "source": [
    "!type $profile/startup/README"
   ]
  },
  {
   "cell_type": "code",
   "execution_count": 110,
   "id": "c1fe586d",
   "metadata": {},
   "outputs": [
    {
     "name": "stdout",
     "output_type": "stream",
     "text": [
      "Overwriting C:\\Users\\Renge.TSUKINO\\.ipython\\profile_default/startup/simpleimports.py\n"
     ]
    }
   ],
   "source": [
    "%%writefile $profile/startup/simpleimports.py\n",
    "\n",
    "import sys, os, time, re"
   ]
  },
  {
   "cell_type": "code",
   "execution_count": 111,
   "id": "f80396ef",
   "metadata": {},
   "outputs": [
    {
     "data": {
      "text/plain": [
       "<module 'sys' (built-in)>"
      ]
     },
     "execution_count": 111,
     "metadata": {},
     "output_type": "execute_result"
    }
   ],
   "source": [
    "sys"
   ]
  },
  {
   "cell_type": "code",
   "execution_count": 112,
   "id": "f7ae7e31",
   "metadata": {},
   "outputs": [],
   "source": [
    "from IPython.core.magic import (register_line_magic, register_cell_magic,\n",
    "                                register_line_cell_magic)"
   ]
  },
  {
   "cell_type": "code",
   "execution_count": 113,
   "id": "64ec8123",
   "metadata": {},
   "outputs": [],
   "source": [
    "@register_line_magic\n",
    "def sleep(line):\n",
    "    \"\"\"A simple function for sleeping\"\"\"\n",
    "    import time\n",
    "    t = float(line)\n",
    "    time.sleep(t)"
   ]
  },
  {
   "cell_type": "code",
   "execution_count": 114,
   "id": "0fca8edf",
   "metadata": {},
   "outputs": [],
   "source": [
    "%sleep 2"
   ]
  },
  {
   "cell_type": "code",
   "execution_count": 115,
   "id": "73fe3344",
   "metadata": {},
   "outputs": [],
   "source": [
    "%sleep?"
   ]
  },
  {
   "cell_type": "code",
   "execution_count": 116,
   "id": "b11570cf",
   "metadata": {},
   "outputs": [],
   "source": [
    "@register_cell_magic\n",
    "def dummy(line, cell):\n",
    "    \"\"\"dummy cell magic for displaying the line and cell it is passed\"\"\"\n",
    "    print(\"line: %r\" % line)\n",
    "    print(\"cell: %r\" % cell)"
   ]
  },
  {
   "cell_type": "code",
   "execution_count": 117,
   "id": "4d4633ac",
   "metadata": {},
   "outputs": [
    {
     "name": "stdout",
     "output_type": "stream",
     "text": [
      "line: 'this is the line'\n",
      "cell: 'this\\nis the\\ncell\\n'\n"
     ]
    }
   ],
   "source": [
    "%%dummy this is the line\n",
    "this\n",
    "is the\n",
    "cell"
   ]
  },
  {
   "cell_type": "code",
   "execution_count": 119,
   "id": "b5380390",
   "metadata": {},
   "outputs": [
    {
     "name": "stdout",
     "output_type": "stream",
     "text": [
      "C:\\Users\\Renge.TSUKINO\\.jupyter\n"
     ]
    }
   ],
   "source": [
    "!jupyter --config-dir"
   ]
  },
  {
   "cell_type": "code",
   "execution_count": 120,
   "id": "748341bd",
   "metadata": {},
   "outputs": [
    {
     "data": {
      "text/plain": [
       "'sha1:c6793ba02cf6:1729bb77684e16c24a714c75224b1702b762764c'"
      ]
     },
     "execution_count": 120,
     "metadata": {},
     "output_type": "execute_result"
    }
   ],
   "source": [
    "from IPython.lib import passwd\n",
    "password = passwd(\"secret\")\n",
    "password"
   ]
  },
  {
   "cell_type": "code",
   "execution_count": null,
   "id": "ec67df74",
   "metadata": {},
   "outputs": [],
   "source": []
  }
 ],
 "metadata": {
  "kernelspec": {
   "display_name": "Python 3 (ipykernel)",
   "language": "python",
   "name": "python3"
  },
  "language_info": {
   "codemirror_mode": {
    "name": "ipython",
    "version": 3
   },
   "file_extension": ".py",
   "mimetype": "text/x-python",
   "name": "python",
   "nbconvert_exporter": "python",
   "pygments_lexer": "ipython3",
   "version": "3.7.6"
  }
 },
 "nbformat": 4,
 "nbformat_minor": 5
}
