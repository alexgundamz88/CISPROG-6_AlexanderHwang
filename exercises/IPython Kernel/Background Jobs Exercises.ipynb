{
 "cells": [
  {
   "cell_type": "markdown",
   "metadata": {},
   "source": [
    "## Exercise"
   ]
  },
  {
   "cell_type": "markdown",
   "metadata": {},
   "source": [
    "1. Start a new job that calls `sleepfunc` with a 5-second wait\n",
    "2. Print a short message that indicates you are waiting (note: you'll need to flush stdout to see that print output appear).\n",
    "3. Wait on the job and then print its result."
   ]
  },
  {
   "cell_type": "code",
   "execution_count": 1,
   "metadata": {},
   "outputs": [],
   "source": [
    "from IPython.lib import backgroundjobs as bg\n",
    "\n",
    "import sys\n",
    "import time\n",
    "\n",
    "def sleepfunc(interval=2, *a, **kw):\n",
    "    args = dict(interval=interval,\n",
    "                args=a,\n",
    "                kwargs=kw)\n",
    "    time.sleep(interval)\n",
    "    return args\n",
    "\n",
    "def diefunc(interval=2, *a, **kw):\n",
    "    time.sleep(interval)\n",
    "    raise Exception(\"Dead job with interval %s\" % interval)\n",
    "\n",
    "def printfunc(interval=1, reps=5):\n",
    "    for n in range(reps):\n",
    "        time.sleep(interval)\n",
    "        print('In the background... %i' % n)\n",
    "        sys.stdout.flush()\n",
    "    print('All done!')\n",
    "    sys.stdout.flush()"
   ]
  },
  {
   "cell_type": "code",
   "execution_count": 2,
   "metadata": {},
   "outputs": [
    {
     "data": {
      "text/plain": [
       "<BackgroundJob #2: printfunc(1,3)>"
      ]
     },
     "execution_count": 2,
     "metadata": {},
     "output_type": "execute_result"
    }
   ],
   "source": [
    "jobs = bg.BackgroundJobManager()\n",
    "\n",
    "# Start a few jobs, the first one will have ID # 0\n",
    "jobs.new(sleepfunc, 4)\n",
    "jobs.new(sleepfunc, kw={'reps':2})\n",
    "jobs.new('printfunc(1,3)')"
   ]
  },
  {
   "cell_type": "code",
   "execution_count": 3,
   "metadata": {},
   "outputs": [
    {
     "name": "stdout",
     "output_type": "stream",
     "text": [
      "Running jobs:\n",
      "0 : <function sleepfunc at 0x000002AA871B4438>\n",
      "1 : <function sleepfunc at 0x000002AA871B4438>\n",
      "2 : printfunc(1,3)\n",
      "\n"
     ]
    }
   ],
   "source": [
    "jobs.status()"
   ]
  },
  {
   "cell_type": "code",
   "execution_count": 4,
   "metadata": {},
   "outputs": [
    {
     "data": {
      "text/plain": [
       "'<BackgroundJob has not completed>'"
      ]
     },
     "execution_count": 4,
     "metadata": {},
     "output_type": "execute_result"
    },
    {
     "name": "stdout",
     "output_type": "stream",
     "text": [
      "In the background... 0\n",
      "In the background... 1\n",
      "In the background... 2\n",
      "All done!\n"
     ]
    }
   ],
   "source": [
    "jobs[0].result"
   ]
  },
  {
   "cell_type": "code",
   "execution_count": null,
   "metadata": {},
   "outputs": [],
   "source": []
  }
 ],
 "metadata": {
  "kernelspec": {
   "display_name": "Python 3 (ipykernel)",
   "language": "python",
   "name": "python3"
  },
  "language_info": {
   "codemirror_mode": {
    "name": "ipython",
    "version": 3
   },
   "file_extension": ".py",
   "mimetype": "text/x-python",
   "name": "python",
   "nbconvert_exporter": "python",
   "pygments_lexer": "ipython3",
   "version": "3.7.6"
  }
 },
 "nbformat": 4,
 "nbformat_minor": 1
}
